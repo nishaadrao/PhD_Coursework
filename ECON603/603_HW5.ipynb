{
 "cells": [
  {
   "cell_type": "code",
   "execution_count": 3,
   "metadata": {
    "collapsed": true
   },
   "outputs": [],
   "source": [
    "function f1(pi,i=0,maxiter=10) \n",
    "        \n",
    "    while i < maxiter\n",
    "        pi_new = (pi + max(0,10((1-pi)/pi)-10))/(1+max(0,10((1-pi)/pi)-10)+max(0,10(pi/(1-pi))-10))       #NOTE: the i-th element of V_new is the max of the PDV of accepting a given wage and the PDV of rejecting (i.e. V_new stores the PDV of drawing the i-th wage) \n",
    "        \n",
    "        #VT = hcat(VT,V_new)                    #Add V_new to VT\n",
    "    \n",
    "        #err = max(abs,(pi_new - pi))\n",
    "        pi = pi_new\n",
    "        i += 1\n",
    "    end\n",
    "    return pi \n",
    "end;"
   ]
  },
  {
   "cell_type": "code",
   "execution_count": 15,
   "metadata": {},
   "outputs": [
    {
     "data": {
      "text/plain": [
       "5.146809647524207e-11"
      ]
     },
     "execution_count": 15,
     "metadata": {},
     "output_type": "execute_result"
    }
   ],
   "source": [
    "f1(0.3)"
   ]
  },
  {
   "cell_type": "code",
   "execution_count": 14,
   "metadata": {},
   "outputs": [
    {
     "data": {
      "text/plain": [
       "3.141592653589793"
      ]
     },
     "execution_count": 14,
     "metadata": {},
     "output_type": "execute_result"
    }
   ],
   "source": [
    "pi_new = (pi + max(0,10((1-pi)/pi)-10))/(1+max(0,10((1-pi)/pi)-10)+max(0,10(pi/(1-pi))-10))       #NOTE: the i-th elemen"
   ]
  },
  {
   "cell_type": "code",
   "execution_count": 6,
   "metadata": {},
   "outputs": [
    {
     "name": "stderr",
     "output_type": "stream",
     "text": [
      "WARNING: imported binding for pi overwritten in module Main\n"
     ]
    },
    {
     "data": {
      "text/plain": [
       "3.141592653589793"
      ]
     },
     "execution_count": 6,
     "metadata": {},
     "output_type": "execute_result"
    }
   ],
   "source": [
    "pi=pi_new"
   ]
  },
  {
   "cell_type": "code",
   "execution_count": 11,
   "metadata": {},
   "outputs": [
    {
     "data": {
      "text/plain": [
       "f (generic function with 1 method)"
      ]
     },
     "execution_count": 11,
     "metadata": {},
     "output_type": "execute_result"
    }
   ],
   "source": [
    "f(pi) = (pi + max(0,10((1-pi)/pi)-10))/(1+max(0,10((1-pi)/pi)-10)+max(0,10(pi/(1-pi))-10)) "
   ]
  },
  {
   "cell_type": "code",
   "execution_count": 12,
   "metadata": {},
   "outputs": [
    {
     "data": {
      "text/plain": [
       "0.9888888888888888"
      ]
     },
     "execution_count": 12,
     "metadata": {},
     "output_type": "execute_result"
    }
   ],
   "source": [
    "f(0.1)"
   ]
  },
  {
   "cell_type": "code",
   "execution_count": 21,
   "metadata": {},
   "outputs": [
    {
     "data": {
      "text/html": [
       "<img src=\"data:image/png;base64,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\" />"
      ]
     },
     "execution_count": 21,
     "metadata": {},
     "output_type": "execute_result"
    }
   ],
   "source": [
    "using Plots;\n",
    "plot(f,0,1)"
   ]
  },
  {
   "cell_type": "code",
   "execution_count": null,
   "metadata": {
    "collapsed": true
   },
   "outputs": [],
   "source": []
  }
 ],
 "metadata": {
  "kernelspec": {
   "display_name": "Julia 0.6.1",
   "language": "julia",
   "name": "julia-0.6"
  },
  "language_info": {
   "file_extension": ".jl",
   "mimetype": "application/julia",
   "name": "julia",
   "version": "0.6.1"
  }
 },
 "nbformat": 4,
 "nbformat_minor": 2
}
