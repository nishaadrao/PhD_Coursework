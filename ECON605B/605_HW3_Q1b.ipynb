{
 "cells": [
  {
   "cell_type": "markdown",
   "metadata": {},
   "source": [
    "## Q1(b) - Mehra and Prescott"
   ]
  },
  {
   "cell_type": "markdown",
   "metadata": {},
   "source": [
    "#### Set up"
   ]
  },
  {
   "cell_type": "code",
   "execution_count": 1,
   "metadata": {
    "collapsed": true
   },
   "outputs": [],
   "source": [
    "# Parameters\n",
    "\n",
    "beta = 0.99;\n",
    "mu = 0.018;\n",
    "delta = 0.036;\n",
    "phi = 0.43;\n",
    "\n",
    "gamma=2;\n",
    "\n",
    "# States\n",
    "s1 = 1+mu+delta;\n",
    "s2 = 1+mu-delta;\n",
    "\n",
    "# Lambda matrix\n",
    "Lambda = [s1^(1-gamma) 0; 0 s2^(1-gamma)];\n",
    "\n",
    "#Lambda column vector\n",
    "lambdavec = [s1, s2];\n",
    "\n",
    "# Vector and matrix of ones\n",
    "i=ones(2);\n",
    "I=eye(2);\n",
    "\n",
    "# Transition matrix\n",
    "P = [phi 1-phi; 1-phi phi];\n",
    "\n",
    "# Ergodic distribution of P\n",
    "Pi = P^100;\n",
    "Pivec = Pi[1,:];"
   ]
  },
  {
   "cell_type": "markdown",
   "metadata": {},
   "source": [
    "#### Risk free rate calculation"
   ]
  },
  {
   "cell_type": "code",
   "execution_count": 2,
   "metadata": {},
   "outputs": [
    {
     "data": {
      "text/plain": [
       "1.0429731897821717"
      ]
     },
     "execution_count": 2,
     "metadata": {},
     "output_type": "execute_result"
    }
   ],
   "source": [
    "# Risk free rate vector\n",
    "Rinv = beta*P*(lambdavec.^-gamma)\n",
    "R = Rinv.^(-1)\n",
    "\n",
    "#Unconditional (average) risk free rate\n",
    "Rbar = dot(Pivec,R)"
   ]
  },
  {
   "cell_type": "markdown",
   "metadata": {},
   "source": [
    "#### Equity returns"
   ]
  },
  {
   "cell_type": "code",
   "execution_count": 389,
   "metadata": {},
   "outputs": [
    {
     "data": {
      "text/plain": [
       "1.045841699490264"
      ]
     },
     "execution_count": 389,
     "metadata": {},
     "output_type": "execute_result"
    }
   ],
   "source": [
    "#Price/dividend ratios\n",
    "w=beta*(inv(I-beta*P*Lambda))*P*Lambda*i\n",
    "\n",
    "# Expected equity returns\n",
    "ERS = P*((lambdavec).*(1+w)).*[1/w[1] 1/w[2]]'\n",
    "\n",
    "# Unconditional (average) equity return\n",
    "RSbar = dot(Pivec,ERS)"
   ]
  },
  {
   "cell_type": "markdown",
   "metadata": {},
   "source": [
    "#### Equity premium"
   ]
  },
  {
   "cell_type": "code",
   "execution_count": 347,
   "metadata": {},
   "outputs": [
    {
     "data": {
      "text/plain": [
       "2.688633277294028"
      ]
     },
     "execution_count": 347,
     "metadata": {},
     "output_type": "execute_result"
    }
   ],
   "source": [
    "# Equity premium, per cent\n",
    "ep = (RSbar - Rbar)*100"
   ]
  },
  {
   "cell_type": "code",
   "execution_count": 348,
   "metadata": {
    "collapsed": true
   },
   "outputs": [],
   "source": [
    "#EQPREM = zeros(0)"
   ]
  },
  {
   "cell_type": "code",
   "execution_count": 349,
   "metadata": {},
   "outputs": [
    {
     "data": {
      "text/plain": [
       "4-element Array{Float64,1}:\n",
       " 0.286851\n",
       " 0.709688\n",
       " 1.26002 \n",
       " 2.68863 "
      ]
     },
     "execution_count": 349,
     "metadata": {},
     "output_type": "execute_result"
    }
   ],
   "source": [
    "EQPREM=append!(EQPREM,ep)"
   ]
  },
  {
   "cell_type": "markdown",
   "metadata": {},
   "source": [
    "#### Coded as a function"
   ]
  },
  {
   "cell_type": "code",
   "execution_count": 350,
   "metadata": {
    "collapsed": true
   },
   "outputs": [],
   "source": [
    "function mehrapresscot(gamma,beta) \n",
    "\n",
    "    mu = 0.018;\n",
    "    delta = 0.036;\n",
    "    phi = 0.43;\n",
    "\n",
    "    # States\n",
    "    s1 = 1+mu+delta;\n",
    "    s2 = 1+mu-delta;\n",
    "\n",
    "    # Lambda matrix\n",
    "    Lambda = [s1^(1-gamma) 0; 0 s2^(1-gamma)];\n",
    "\n",
    "    #Lambda column vector\n",
    "    lambdavec = [s1, s2];\n",
    "\n",
    "    # Vector and matrix of ones\n",
    "    i=ones(2);\n",
    "    I=eye(2);\n",
    "\n",
    "    # Transition matrix\n",
    "    P = [phi 1-phi; 1-phi phi];\n",
    "\n",
    "    # Ergodic distribution of P\n",
    "    Pi = P^100;\n",
    "    Pivec = Pi[1,:];\n",
    "    \n",
    "    # Risk free rate vector\n",
    "    Rinv = beta*P*(lambdavec.^-gamma)\n",
    "    R = [1/Rinv[1] 1/Rinv[2]]\n",
    "\n",
    "    #Unconditional (average) risk free rate\n",
    "    Rbar = dot(Pivec,R)\n",
    "\n",
    "    #Price/dividend ratios\n",
    "    w=beta*(inv(I-beta*P*Lambda))*P*Lambda*i\n",
    "\n",
    "    # Expected equity returns\n",
    "    ERS = P*((lambdavec).*(1+w)).*[1/w[1] 1/w[2]]'\n",
    "\n",
    "    # Unconditional (average) equity return\n",
    "    RSbar = dot(Pivec,ERS)\n",
    "    \n",
    "    # Equity premium, per cent\n",
    "    ep = (RSbar - Rbar)*100\n",
    "    \n",
    "    # RESULTS VECTOR\n",
    "    ANS = [gamma, Rbar, RSbar, ep]\n",
    "    \n",
    "    return ANS\n",
    "end;"
   ]
  },
  {
   "cell_type": "code",
   "execution_count": 393,
   "metadata": {},
   "outputs": [
    {
     "data": {
      "text/plain": [
       "4×5 Array{Any,2}:\n",
       " \"gamma\"  2.0       4.0       6.0      10.0    \n",
       " \"Rf\"     1.04297   1.07177   1.09618   1.13104\n",
       " \"Re\"     1.04584   1.07887   1.10878   1.15793\n",
       " \"Re-Rf\"  0.286851  0.709688  1.26002   2.68863"
      ]
     },
     "execution_count": 393,
     "metadata": {},
     "output_type": "execute_result"
    }
   ],
   "source": [
    "Results=hcat([\"gamma\", \"Rf\", \"Re\", \"Re-Rf\"],mehrapresscot(2,0.99),mehrapresscot(4,0.99),mehrapresscot(6,0.99),mehrapresscot(10,0.99))"
   ]
  },
  {
   "cell_type": "code",
   "execution_count": null,
   "metadata": {
    "collapsed": true
   },
   "outputs": [],
   "source": []
  }
 ],
 "metadata": {
  "kernelspec": {
   "display_name": "Julia 0.6.1",
   "language": "julia",
   "name": "julia-0.6"
  },
  "language_info": {
   "file_extension": ".jl",
   "mimetype": "application/julia",
   "name": "julia",
   "version": "0.6.1"
  }
 },
 "nbformat": 4,
 "nbformat_minor": 2
}
