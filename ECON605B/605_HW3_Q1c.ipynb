{
 "cells": [
  {
   "cell_type": "markdown",
   "metadata": {},
   "source": [
    "## Q1(c) - Cechcetti, Lam and Mark - Asymmetric Business Cycles"
   ]
  },
  {
   "cell_type": "markdown",
   "metadata": {},
   "source": [
    "#### Set up"
   ]
  },
  {
   "cell_type": "code",
   "execution_count": 132,
   "metadata": {},
   "outputs": [],
   "source": [
    "# Parameters\n",
    "\n",
    "beta = 0.99;\n",
    "gamma=2;\n",
    "\n",
    "# States\n",
    "s1 = 1.02252;\n",
    "s2 = 1-(6.785/100);\n",
    "\n",
    "# Lambda matrix\n",
    "Lambda = [s1^(1-gamma) 0; 0 s2^(1-gamma)];\n",
    "\n",
    "#Lambda column vector\n",
    "lambdavec = [s1, s2];\n",
    "\n",
    "# Vector and matrix of ones\n",
    "i=ones(2);\n",
    "I=eye(2);\n",
    "\n",
    "# Transition matrix\n",
    "p=0.987\n",
    "q=0.516\n",
    "P = [p 1-p; 1-q q];\n",
    "\n",
    "# Ergodic distribution across states\n",
    "Pi = P^1000;\n",
    "Pivec = Pi[1,:];"
   ]
  },
  {
   "cell_type": "markdown",
   "metadata": {},
   "source": [
    "#### Risk free rate calculation"
   ]
  },
  {
   "cell_type": "code",
   "execution_count": 133,
   "metadata": {},
   "outputs": [
    {
     "data": {
      "text/plain": [
       "1.0507745907085408"
      ]
     },
     "execution_count": 133,
     "metadata": {},
     "output_type": "execute_result"
    }
   ],
   "source": [
    "# Risk free rate vector\n",
    "Rinv = beta*P*(lambdavec.^-gamma)\n",
    "R = Rinv.^(-1)\n",
    "#R = [1/Rinv[1] 1/Rinv[2]]\n",
    "\n",
    "#Unconditional (average) risk free rate\n",
    "#Rbar = dot(Pivec,R)\n",
    "Rbar = Pivec'*R"
   ]
  },
  {
   "cell_type": "markdown",
   "metadata": {},
   "source": [
    "#### Equity returns"
   ]
  },
  {
   "cell_type": "code",
   "execution_count": 134,
   "metadata": {},
   "outputs": [
    {
     "data": {
      "text/plain": [
       "1.050759231588208"
      ]
     },
     "execution_count": 134,
     "metadata": {},
     "output_type": "execute_result"
    }
   ],
   "source": [
    "#Price/dividend ratios\n",
    "w=beta*(inv(I-beta*P*Lambda))*P*Lambda*i\n",
    "\n",
    "# Expected equity returns\n",
    "ERS = P*((lambdavec).*(1+w)).*[1/w[1] 1/w[2]]'\n",
    "\n",
    "# Unconditional (average) equity return\n",
    "RSbar = dot(Pivec,ERS)"
   ]
  },
  {
   "cell_type": "markdown",
   "metadata": {},
   "source": [
    "#### Equity premium"
   ]
  },
  {
   "cell_type": "code",
   "execution_count": 135,
   "metadata": {},
   "outputs": [
    {
     "data": {
      "text/plain": [
       "-0.0015359120332902876"
      ]
     },
     "execution_count": 135,
     "metadata": {},
     "output_type": "execute_result"
    }
   ],
   "source": [
    "# Equity premium, per cent\n",
    "ep = (RSbar - Rbar)*100"
   ]
  },
  {
   "cell_type": "code",
   "execution_count": 24,
   "metadata": {},
   "outputs": [],
   "source": [
    "#EQPREM = zeros(0)"
   ]
  },
  {
   "cell_type": "code",
   "execution_count": 25,
   "metadata": {},
   "outputs": [
    {
     "data": {
      "text/plain": [
       "2-element Array{Float64,1}:\n",
       " -0.00153393\n",
       " -0.222096  "
      ]
     },
     "execution_count": 25,
     "metadata": {},
     "output_type": "execute_result"
    }
   ],
   "source": [
    "EQPREM=append!(EQPREM,ep)"
   ]
  },
  {
   "cell_type": "markdown",
   "metadata": {},
   "source": [
    "#### Coded as a function"
   ]
  },
  {
   "cell_type": "code",
   "execution_count": 130,
   "metadata": {
    "collapsed": true
   },
   "outputs": [],
   "source": [
    "function cechettilam(gamma,beta) \n",
    "    \n",
    "    # States\n",
    "    s1 = 1.02252;\n",
    "    s2 = 1-(6.785/100);\n",
    "\n",
    "    # Lambda matrix\n",
    "    Lambda = [s1^(1-gamma) 0; 0 s2^(1-gamma)];\n",
    "\n",
    "    #Lambda column vector\n",
    "    lambdavec = [s1, s2];\n",
    "\n",
    "    # Vector and matrix of ones\n",
    "    i=ones(2);\n",
    "    I=eye(2);\n",
    "\n",
    "    # Transition matrix\n",
    "    p=0.987\n",
    "    q=0.516\n",
    "    P = [p 1-p; 1-q q];\n",
    "\n",
    "    # Ergodic distribution across states\n",
    "    Pi = P^1000;\n",
    "    Pivec = Pi[1,:];\n",
    "    \n",
    "    # Risk free rate vector\n",
    "    Rinv = beta*P*(lambdavec.^-gamma)\n",
    "    R = Rinv.^(-1)\n",
    "    #R = [1/Rinv[1] 1/Rinv[2]]\n",
    "\n",
    "    #Unconditional (average) risk free rate\n",
    "    Rbar = dot(Pivec,R)\n",
    "\n",
    "    #Price/dividend ratios\n",
    "    w=beta*(inv(I-beta*P*Lambda))*P*Lambda*i\n",
    "\n",
    "    # Expected equity returns\n",
    "    ERS = P*((lambdavec).*(1+w)).*[1/w[1] 1/w[2]]'\n",
    "\n",
    "    # Unconditional (average) equity return\n",
    "    RSbar = dot(Pivec,ERS)\n",
    "    \n",
    "    # Equity premium, per cent\n",
    "    ep = (RSbar - Rbar)*100\n",
    "    \n",
    "    # RESULTS VECTOR\n",
    "    ANS = [gamma, Rbar, RSbar, ep]\n",
    "    \n",
    "    return ANS\n",
    "end;"
   ]
  },
  {
   "cell_type": "code",
   "execution_count": 137,
   "metadata": {},
   "outputs": [
    {
     "data": {
      "text/plain": [
       "4×5 Array{Any,2}:\n",
       " \"gamma\"   2.0          4.0        6.0        10.0    \n",
       " \"Rf\"      1.05077      1.09256    1.1354      1.22369\n",
       " \"Re\"      1.05076      1.09047    1.12642     1.0781 \n",
       " \"Re-Rf\"  -0.00153591  -0.209239  -0.897805  -14.5591 "
      ]
     },
     "execution_count": 137,
     "metadata": {},
     "output_type": "execute_result"
    }
   ],
   "source": [
    "Results=hcat([\"gamma\", \"Rf\", \"Re\", \"Re-Rf\"],cechettilam(2,0.99),cechettilam(4,0.99),cechettilam(6,0.99),cechettilam(10,0.99))"
   ]
  },
  {
   "cell_type": "markdown",
   "metadata": {},
   "source": [
    "#### Interpretation\n",
    "\n",
    "In this model booms last much longer than recessions. Given that the probability of a recession is quite low, this means overall risk is quite low. Thus, agents are willing to hold more equity (i.e. the risky asset) compared to the Mehra-Prescott model. That is, demand for the risky asset is relatively higher, which drives its price higher and as a result the return on the risky asset is lower. Given there is a finite amount of resources (or 'money') agents invest less in the risk-free asset, which in turn means it has a lower price and a higher return relative to Mehra-Prescott. This explains why the equity premium is negative in this model. \n",
    "\n",
    "I'm not sure why the equity premium is decreasing in gamma. Nonetheless, clearly, this model fails to fit the data!"
   ]
  },
  {
   "cell_type": "code",
   "execution_count": null,
   "metadata": {
    "collapsed": true
   },
   "outputs": [],
   "source": []
  },
  {
   "cell_type": "code",
   "execution_count": null,
   "metadata": {
    "collapsed": true
   },
   "outputs": [],
   "source": []
  }
 ],
 "metadata": {
  "kernelspec": {
   "display_name": "Julia 0.6.1",
   "language": "julia",
   "name": "julia-0.6"
  },
  "language_info": {
   "file_extension": ".jl",
   "mimetype": "application/julia",
   "name": "julia",
   "version": "0.6.1"
  }
 },
 "nbformat": 4,
 "nbformat_minor": 2
}
