{
 "cells": [
  {
   "cell_type": "markdown",
   "metadata": {},
   "source": [
    "## Q1(d) Cechetti, Lam and Mark - Distorted Beliefs"
   ]
  },
  {
   "cell_type": "code",
   "execution_count": 13,
   "metadata": {
    "collapsed": true
   },
   "outputs": [],
   "source": [
    "function cechettilam(gamma,beta) \n",
    "    \n",
    "    # States\n",
    "    s1 = 1.02252;\n",
    "    s2 = 1-(6.785/100);\n",
    "\n",
    "    # Lambda matrix\n",
    "    Lambda = [s1^(1-gamma) 0; 0 s2^(1-gamma)];\n",
    "\n",
    "    #Lambda column vector\n",
    "    lambdavec = [s1, s2];\n",
    "\n",
    "    # Vector and matrix of ones\n",
    "    i=ones(2);\n",
    "    I=eye(2);\n",
    "\n",
    "    # Distorted Transition matrix\n",
    "    p=0.6\n",
    "    q=0.9\n",
    "    P = [p 1-p; 1-q q];\n",
    "    \n",
    "    # True Transition matrix\n",
    "    Pi = [0.987 1-0.987; 1-0.516 0.516]\n",
    "\n",
    "    # Ergodic distribution across states\n",
    "    Pi = Pi^1000;\n",
    "    Pivec = Pi[1,:];\n",
    "    \n",
    "    # Risk free rate vector\n",
    "    Rinv = beta*P*(lambdavec.^-gamma)\n",
    "    R = Rinv.^(-1)\n",
    "    #R = [1/Rinv[1] 1/Rinv[2]]\n",
    "\n",
    "    #Unconditional (average) risk free rate\n",
    "    Rbar = dot(Pivec,R)\n",
    "\n",
    "    #Price/dividend ratios\n",
    "    w=beta*(inv(I-beta*P*Lambda))*P*Lambda*i\n",
    "\n",
    "    # Expected equity returns\n",
    "    ERS = P*((lambdavec).*(1+w)).*[1/w[1] 1/w[2]]'\n",
    "\n",
    "    # Unconditional (average) equity return\n",
    "    RSbar = dot(Pivec,ERS)\n",
    "    \n",
    "    # Equity premium, per cent\n",
    "    ep = (RSbar - Rbar)*100\n",
    "    \n",
    "    # RESULTS VECTOR\n",
    "    ANS = [gamma, Rbar, RSbar, ep]\n",
    "    \n",
    "    return ANS\n",
    "end;"
   ]
  },
  {
   "cell_type": "markdown",
   "metadata": {},
   "source": [
    "#### Beta = 0.99"
   ]
  },
  {
   "cell_type": "code",
   "execution_count": 14,
   "metadata": {},
   "outputs": [
    {
     "data": {
      "text/plain": [
       "4×5 Array{Any,2}:\n",
       " \"gamma\"   2.0        4.0        6.0        10.0     \n",
       " \"Rf\"      0.974491   0.932523   0.885016    0.777758\n",
       " \"Re\"      0.974368   0.913302   0.82337     0.552149\n",
       " \"Re-Rf\"  -0.012323  -1.9221    -6.16464   -22.5609  "
      ]
     },
     "execution_count": 14,
     "metadata": {},
     "output_type": "execute_result"
    }
   ],
   "source": [
    "Results=hcat([\"gamma\", \"Rf\", \"Re\", \"Re-Rf\"],cechettilam(2,0.99),cechettilam(4,0.99),cechettilam(6,0.99),cechettilam(10,0.99))"
   ]
  },
  {
   "cell_type": "markdown",
   "metadata": {},
   "source": [
    "#### Beta = 0.97"
   ]
  },
  {
   "cell_type": "code",
   "execution_count": 21,
   "metadata": {},
   "outputs": [
    {
     "data": {
      "text/plain": [
       "4×5 Array{Any,2}:\n",
       " \"gamma\"  2.0          4.0        6.0        10.0     \n",
       " \"Rf\"     0.994584     0.95175    0.903264    0.793795\n",
       " \"Re\"     0.994627     0.933317   0.843737    0.576008\n",
       " \"Re-Rf\"  0.00437946  -1.84334   -5.95275   -21.7786  "
      ]
     },
     "execution_count": 21,
     "metadata": {},
     "output_type": "execute_result"
    }
   ],
   "source": [
    "Results=hcat([\"gamma\", \"Rf\", \"Re\", \"Re-Rf\"],cechettilam(2,0.97),cechettilam(4,0.97),cechettilam(6,0.97),cechettilam(10,0.97))"
   ]
  },
  {
   "cell_type": "markdown",
   "metadata": {},
   "source": [
    "### Cogley and Sargent version"
   ]
  },
  {
   "cell_type": "code",
   "execution_count": 16,
   "metadata": {
    "collapsed": true
   },
   "outputs": [],
   "source": [
    "function cogleysargent(gamma,beta,p,q) \n",
    "    \n",
    "    # States\n",
    "    s1 = 1.02252;\n",
    "    s2 = 1-(6.785/100);\n",
    "\n",
    "    # Lambda matrix\n",
    "    Lambda = [s1^(1-gamma) 0; 0 s2^(1-gamma)];\n",
    "\n",
    "    #Lambda column vector\n",
    "    lambdavec = [s1, s2];\n",
    "\n",
    "    # Vector and matrix of ones\n",
    "    i=ones(2);\n",
    "    I=eye(2);\n",
    "\n",
    "    # Distorted Transition matrix\n",
    "    P = [p 1-p; 1-q q];\n",
    "    \n",
    "    # True Transition matrix\n",
    "    Pi = [0.987 1-0.987; 1-0.516 0.516]\n",
    "\n",
    "    # Ergodic distribution across states\n",
    "    Pi = Pi^1000;\n",
    "    Pivec = Pi[1,:];\n",
    "    \n",
    "    # Risk free rate vector\n",
    "    Rinv = beta*P*(lambdavec.^-gamma)\n",
    "    R = Rinv.^(-1)\n",
    "    #R = [1/Rinv[1] 1/Rinv[2]]\n",
    "\n",
    "    #Unconditional (average) risk free rate\n",
    "    Rbar = dot(Pivec,R)\n",
    "\n",
    "    #Price/dividend ratios\n",
    "    w=beta*(inv(I-beta*P*Lambda))*P*Lambda*i\n",
    "\n",
    "    # Expected equity returns\n",
    "    ERS = P*((lambdavec).*(1+w)).*[1/w[1] 1/w[2]]'\n",
    "\n",
    "    # Unconditional (average) equity return\n",
    "    RSbar = dot(Pivec,ERS)\n",
    "    \n",
    "    # Equity premium, per cent\n",
    "    ep = (RSbar - Rbar)*100\n",
    "    \n",
    "    # RESULTS VECTOR\n",
    "    ANS = [gamma, Rbar, RSbar, ep]\n",
    "    \n",
    "    return ANS\n",
    "end;"
   ]
  },
  {
   "cell_type": "markdown",
   "metadata": {},
   "source": [
    "#### Beta = 0.99"
   ]
  },
  {
   "cell_type": "code",
   "execution_count": 22,
   "metadata": {},
   "outputs": [
    {
     "data": {
      "text/plain": [
       "4×5 Array{Any,2}:\n",
       " \"gamma\"   2.0        4.0        6.0       10.0    \n",
       " \"Rf\"      1.03475    1.05712    1.07648    1.10304\n",
       " \"Re\"      1.03198    1.0113     0.511232   1.50178\n",
       " \"Re-Rf\"  -0.277731  -4.5822   -56.5251    39.8737 "
      ]
     },
     "execution_count": 22,
     "metadata": {},
     "output_type": "execute_result"
    }
   ],
   "source": [
    "Results=hcat([\"gamma\", \"Rf\", \"Re\", \"Re-Rf\"],cogleysargent(2,0.99,0.915,0.805),cogleysargent(4,0.99,0.915,0.805),cogleysargent(6,0.99,0.915,0.805),cogleysargent(10,0.99,0.915,0.805))"
   ]
  },
  {
   "cell_type": "markdown",
   "metadata": {},
   "source": [
    "#### Beta = 0.97"
   ]
  },
  {
   "cell_type": "code",
   "execution_count": 23,
   "metadata": {},
   "outputs": [
    {
     "data": {
      "text/plain": [
       "4×5 Array{Any,2}:\n",
       " \"gamma\"   2.0        4.0        6.0      10.0    \n",
       " \"Rf\"      1.05609    1.07891    1.09868   1.12579\n",
       " \"Re\"      1.05359    1.03839    0.73554   1.57699\n",
       " \"Re-Rf\"  -0.249625  -4.05223  -36.3139   45.1199 "
      ]
     },
     "execution_count": 23,
     "metadata": {},
     "output_type": "execute_result"
    }
   ],
   "source": [
    "Results=hcat([\"gamma\", \"Rf\", \"Re\", \"Re-Rf\"],cogleysargent(2,0.97,0.915,0.805),cogleysargent(4,0.97,0.915,0.805),cogleysargent(6,0.97,0.915,0.805),cogleysargent(10,0.97,0.915,0.805))"
   ]
  },
  {
   "cell_type": "code",
   "execution_count": null,
   "metadata": {
    "collapsed": true
   },
   "outputs": [],
   "source": []
  }
 ],
 "metadata": {
  "kernelspec": {
   "display_name": "Julia 0.6.1",
   "language": "julia",
   "name": "julia-0.6"
  },
  "language_info": {
   "file_extension": ".jl",
   "mimetype": "application/julia",
   "name": "julia",
   "version": "0.6.1"
  }
 },
 "nbformat": 4,
 "nbformat_minor": 2
}
