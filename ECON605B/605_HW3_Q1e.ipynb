{
 "cells": [
  {
   "cell_type": "markdown",
   "metadata": {},
   "source": [
    "## Q1e - Barro - Disasters"
   ]
  },
  {
   "cell_type": "code",
   "execution_count": 3,
   "metadata": {
    "collapsed": true
   },
   "outputs": [],
   "source": [
    "function barro(gamma,beta,r) \n",
    "    \n",
    "    # States\n",
    "    s1 = 1.02252;\n",
    "    s2 = 1-(6.785/100);\n",
    "    s3 = 1-0.3;\n",
    "\n",
    "    # Lambda matrix\n",
    "    Lambda = [s1^(1-gamma) 0 0; 0 s2^(1-gamma) 0;0 0 s3^(1-gamma)];\n",
    "\n",
    "    #Lambda column vector\n",
    "    lambdavec = [s1, s2, s3];\n",
    "\n",
    "    # Vector and matrix of ones\n",
    "    i=ones(3);\n",
    "    I=eye(3);\n",
    "\n",
    "    # Transition matrix\n",
    "    p=0.987\n",
    "    P = [p-0.5*r 1-p-0.5*r r;1-p-0.5*r p-0.5*r r; 0.5 0.5 0];\n",
    "    \n",
    "\n",
    "    # Ergodic distribution across states\n",
    "    Pi = P^1000;\n",
    "    Pivec = Pi[1,:];\n",
    "    \n",
    "    # Risk free rate vector\n",
    "    Rinv = beta*P*(lambdavec.^-gamma)\n",
    "    R = Rinv.^(-1)\n",
    "    \n",
    "    #Unconditional (average) risk free rate\n",
    "    Rbar = dot(Pivec,R)\n",
    "\n",
    "    #Price/dividend ratios\n",
    "    w=beta*(inv(I-beta*P*Lambda))*P*Lambda*i\n",
    "\n",
    "    # Expected equity returns\n",
    "    ERS = P*((lambdavec).*(1+w)).*[1/w[1] 1/w[2] 1/w[3]]'\n",
    "\n",
    "    # Unconditional (average) equity return\n",
    "    RSbar = dot(Pivec,ERS)\n",
    "    \n",
    "    # Equity premium, per cent\n",
    "    ep = (RSbar - Rbar)*100\n",
    "    \n",
    "    # RESULTS VECTORS\n",
    "    ANS = [gamma, Rbar, RSbar, ep]\n",
    "    ANS2 = [R,ERS]\n",
    "    \n",
    "    return ANS\n",
    "end;"
   ]
  },
  {
   "cell_type": "markdown",
   "metadata": {},
   "source": [
    "#### r = 0.017"
   ]
  },
  {
   "cell_type": "code",
   "execution_count": 5,
   "metadata": {},
   "outputs": [
    {
     "data": {
      "text/plain": [
       "4×6 Array{Any,2}:\n",
       " \"gamma\"  2.0       4.0        6.0        8.0       10.0     \n",
       " \"Rf\"     0.951203  0.888298   0.809809   0.70222    0.560617\n",
       " \"Re\"     0.963727  0.947298   0.922798   0.907579   0.900485\n",
       " \"Re-Rf\"  1.25248   5.90005   11.2989    20.5359    33.9868  "
      ]
     },
     "execution_count": 5,
     "metadata": {},
     "output_type": "execute_result"
    }
   ],
   "source": [
    "Results=hcat([\"gamma\", \"Rf\", \"Re\", \"Re-Rf\"],barro(2,0.99,0.017),barro(4,0.99,0.017),barro(6,0.99,0.017),barro(8,0.99,0.017),barro(10,0.99,0.017))"
   ]
  },
  {
   "cell_type": "markdown",
   "metadata": {},
   "source": [
    "#### r = 0"
   ]
  },
  {
   "cell_type": "code",
   "execution_count": 6,
   "metadata": {},
   "outputs": [
    {
     "data": {
      "text/plain": [
       "4×6 Array{Any,2}:\n",
       " \"gamma\"  2.0        4.0         6.0          8.0       10.0     \n",
       " \"Rf\"     0.966468   0.931759    0.904902     0.70222    0.87091 \n",
       " \"Re\"     0.968426   0.931581    0.904876     0.907579   0.87557 \n",
       " \"Re-Rf\"  0.195776  -0.0178133  -0.00258957  20.5359     0.466024"
      ]
     },
     "execution_count": 6,
     "metadata": {},
     "output_type": "execute_result"
    }
   ],
   "source": [
    "Results=hcat([\"gamma\", \"Rf\", \"Re\", \"Re-Rf\"],barro(2,0.99,0),barro(4,0.99,0),barro(6,0.99,0),barro(8,0.99,0.017),barro(10,0.99,0))"
   ]
  },
  {
   "cell_type": "code",
   "execution_count": null,
   "metadata": {
    "collapsed": true
   },
   "outputs": [],
   "source": []
  }
 ],
 "metadata": {
  "kernelspec": {
   "display_name": "Julia 0.6.1",
   "language": "julia",
   "name": "julia-0.6"
  },
  "language_info": {
   "file_extension": ".jl",
   "mimetype": "application/julia",
   "name": "julia",
   "version": "0.6.1"
  }
 },
 "nbformat": 4,
 "nbformat_minor": 2
}
