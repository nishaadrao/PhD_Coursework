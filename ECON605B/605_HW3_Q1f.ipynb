{
 "cells": [
  {
   "cell_type": "markdown",
   "metadata": {},
   "source": [
    "### Q1(f) - Cochrane and Campbell - Consumptions with Habits"
   ]
  },
  {
   "cell_type": "markdown",
   "metadata": {},
   "source": [
    "First we need to derive expressions for the risk free rate and equity returns. We are given \n",
    "\n",
    "\\begin{align*}\n",
    "u(c_t) = \\frac{\\Big(\\frac{c_t}{\\bar c_{t-1}}\\Big)^\\gamma - 1}{1-\\gamma}\n",
    "\\end{align*}\n",
    "\n",
    "Thus,\n",
    "\n",
    "\\begin{align*}\n",
    "u'(c_t) = \\frac{\\gamma}{1-\\gamma}c_t^{\\gamma-1}\\bar c_{t-1}^{-\\gamma}.\n",
    "\\end{align*}\n",
    "\n",
    "Therefore,\n",
    "\\begin{align*}\n",
    "\\frac{u'(c_{t+1})}{u'(c_t)} &= \\frac{c_{t+1}^{\\gamma-1}\\bar c_{t}^{-\\gamma}}{c_t^{\\gamma-1}\\bar c_{t-1}^{-\\gamma}}\\\\\n",
    "&= \\Big(\\frac{c_{t+1}}{c_t}\\Big)^{\\gamma-1}\\Big(\\frac{\\bar c_{t}}{\\bar c_{t-1}}\\Big)^{-\\gamma}\\\\\n",
    "&= \\lambda_{t+1}^{\\gamma-1} \\lambda_t^{-\\gamma}\n",
    "\\end{align*}\n",
    "\n",
    "Now, the price of the risk free asset is given by\n",
    "\\begin{align*}\n",
    "p_t &= E_t\\Big[\\beta \\frac{u'(c_{t+1})}{u'(c_t)} \\Big]\\\\\n",
    "&= \\beta \\lambda_t^{-\\gamma} E_t [\\lambda_{t+1}^{\\gamma-1}]\\\\\n",
    "\\implies R_t^{-1} &= \\beta \\lambda_t^{-\\gamma} E_t [\\lambda_{t+1}^{\\gamma-1}]\n",
    "\\end{align*}\n",
    "\n",
    "As previously, we can drop the time subscripts because the equilibrium values in this economy are time-invariant functions of the state. So, we can write the inverse of the risk free rates in each state as a $2 \\times 1$ vector:\n",
    "\\begin{align*}\n",
    "R^{-1} = \\beta \\Lambda_1 P \\Lambda_2,\n",
    "\\end{align*}\n",
    "where\n",
    "\\begin{align*}\n",
    "\\Lambda_1 = \n",
    "\\begin{bmatrix}\n",
    " \\lambda_1^{-\\gamma} & 0\\\\\n",
    " 0 & \\lambda_2^{-\\gamma}\n",
    "\\end{bmatrix}\n",
    "\\text{ and }\\Lambda_2 = \n",
    "\\begin{bmatrix}\n",
    " \\lambda_1^{\\gamma-1} & 0\\\\\n",
    " 0 & \\lambda_2^{\\gamma-1}\n",
    "\\end{bmatrix}.\n",
    "\\end{align*}\n",
    "We calculate the unconditional risk free rate as before.\n",
    "\n",
    "Next, we want to price equity. We start with the general formula:\n",
    "\\begin{align*}\n",
    "p_t = \\beta E_t \\Big[\\frac{u'(c_{t+1})}{u'(c_t)} (y_{t+1}+ p_{t+1}) \\Big]\n",
    "\\end{align*}\n",
    "\n",
    "After doing some algebra, we get the following expression for the price/dividend ratio:\n",
    "\\begin{align*}\n",
    "w_t = \\beta \\lambda_t^{-\\gamma} E_t [\\lambda_{t+1}^{\\gamma}(1+w_{t+1})]\n",
    "\\end{align*}\n",
    "Again, we can drop the time subscripts, write this in matrix form and solve for $w$ as we do in the canconical model. We end up with:\n",
    "\\begin{align*}\n",
    "w = \\beta (I - \\beta \\Lambda_1 P \\Lambda_3)^{-1} \\Lambda_1 P \\Lambda_3 i,\n",
    "\\end{align*}\n",
    "where\n",
    "\\begin{align*}\n",
    "\\Lambda_3 = \n",
    "\\begin{bmatrix}\n",
    " \\lambda_1^{\\gamma} & 0\\\\\n",
    " 0 & \\lambda_2^{\\gamma}\n",
    "\\end{bmatrix},\n",
    "\\end{align*}\n",
    "and $i$ is a $2\\times 1$ vector of 1's.\n",
    "\n",
    "Now we can solve for equity returns in each state and derive the unconditional equity return just as we did previously. I implement the model below using the parametrization from part (c)."
   ]
  },
  {
   "cell_type": "code",
   "execution_count": 2,
   "metadata": {
    "collapsed": true
   },
   "outputs": [],
   "source": [
    "function habits(gamma,beta) \n",
    "\n",
    "    # States\n",
    "    s1 = 1.02252;\n",
    "    s2 = 1-(6.785/100);\n",
    "\n",
    "    # Lambda matrix\n",
    "    Lambda1 = [s1^(-gamma) 0; 0 s2^(-gamma)];\n",
    "    Lambda2 = [s1^(gamma) 0; 0 s2^(gamma)];\n",
    "\n",
    "    #Lambda column vector\n",
    "    lambdavec = [s1, s2];\n",
    "\n",
    "    # Vector and matrix of ones\n",
    "    i=ones(2);\n",
    "    I=eye(2);\n",
    "\n",
    "    # Transition matrix\n",
    "    p=0.987\n",
    "    q=0.516\n",
    "    P = [p 1-p; 1-q q];\n",
    "\n",
    "    # Ergodic distribution across states\n",
    "    Pi = P^1000;\n",
    "    Pivec = Pi[1,:];\n",
    "    \n",
    "    # Risk free rate vector\n",
    "    Rinv = beta*(Lambda1)*(P*(lambdavec.^(gamma-1)))\n",
    "    R = Rinv.^(-1)\n",
    "\n",
    "    #Unconditional (average) risk free rate\n",
    "    Rbar = dot(Pivec,R)\n",
    "\n",
    "    #Price/dividend ratios\n",
    "    w=beta*(inv(I-beta*Lambda1*P*Lambda2))*Lambda1*P*Lambda2*i\n",
    "\n",
    "    # Expected equity returns\n",
    "    ERS = P*((lambdavec).*(1+w)).*[1/w[1] 1/w[2]]'\n",
    "\n",
    "    # Unconditional (average) equity return\n",
    "    RSbar = dot(Pivec,ERS)\n",
    "    \n",
    "    # Equity premium, per cent\n",
    "    ep = (RSbar - Rbar)*100\n",
    "    \n",
    "    # RESULTS VECTOR\n",
    "    ANS = [gamma, Rbar, RSbar, ep]\n",
    "    \n",
    "    return ANS\n",
    "end;"
   ]
  },
  {
   "cell_type": "markdown",
   "metadata": {},
   "source": [
    "### Results"
   ]
  },
  {
   "cell_type": "code",
   "execution_count": 3,
   "metadata": {},
   "outputs": [
    {
     "data": {
      "text/plain": [
       "4×5 Array{Any,2}:\n",
       " \"gamma\"  2.0        4.0      6.0      10.0    \n",
       " \"Rf\"     1.03051    1.03034  1.02987   1.0284 \n",
       " \"Re\"     1.03067    1.03172  1.03365   1.04047\n",
       " \"Re-Rf\"  0.0154977  0.13822  0.37842   1.2076 "
      ]
     },
     "execution_count": 3,
     "metadata": {},
     "output_type": "execute_result"
    }
   ],
   "source": [
    "Results=hcat([\"gamma\", \"Rf\", \"Re\", \"Re-Rf\"],habits(2,0.99),habits(4,0.99),habits(6,0.99),habits(10,0.99))"
   ]
  },
  {
   "cell_type": "code",
   "execution_count": null,
   "metadata": {
    "collapsed": true
   },
   "outputs": [],
   "source": []
  }
 ],
 "metadata": {
  "kernelspec": {
   "display_name": "Julia 0.6.1",
   "language": "julia",
   "name": "julia-0.6"
  },
  "language_info": {
   "file_extension": ".jl",
   "mimetype": "application/julia",
   "name": "julia",
   "version": "0.6.1"
  }
 },
 "nbformat": 4,
 "nbformat_minor": 2
}
