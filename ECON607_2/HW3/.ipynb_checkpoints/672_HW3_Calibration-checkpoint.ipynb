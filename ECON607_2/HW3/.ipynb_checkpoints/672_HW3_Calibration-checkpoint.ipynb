{
 "cells": [
  {
   "cell_type": "markdown",
   "metadata": {},
   "source": [
    "# Calibration exercise for HW3"
   ]
  },
  {
   "cell_type": "code",
   "execution_count": 89,
   "metadata": {},
   "outputs": [
    {
     "name": "stderr",
     "output_type": "stream",
     "text": [
      "\u001b[1m\u001b[36mINFO: \u001b[39m\u001b[22m\u001b[36mPackage SymPy is already installed\n",
      "\u001b[39m\u001b[1m\u001b[36mINFO: \u001b[39m\u001b[22m\u001b[36mMETADATA is out-of-date — you may not have the latest version of SymPy\n",
      "\u001b[39m\u001b[1m\u001b[36mINFO: \u001b[39m\u001b[22m\u001b[36mUse `Pkg.update()` to get the latest versions of your packages\n",
      "\u001b[39m"
     ]
    }
   ],
   "source": [
    "Pkg.add(\"SymPy\");\n",
    "using SymPy;"
   ]
  },
  {
   "cell_type": "markdown",
   "metadata": {},
   "source": [
    "### Basline parameters"
   ]
  },
  {
   "cell_type": "code",
   "execution_count": 71,
   "metadata": {},
   "outputs": [],
   "source": [
    "beta = 0.996;\n",
    "tau = 0;      # To compare comp. eq. with SPP\n",
    "chi = 0.034;\n",
    "phi = 0.5;\n",
    "gamma = 0.399;"
   ]
  },
  {
   "cell_type": "markdown",
   "metadata": {},
   "source": [
    "#### Symbols"
   ]
  },
  {
   "cell_type": "code",
   "execution_count": 85,
   "metadata": {},
   "outputs": [],
   "source": [
    "theta = Sym(\"theta\");\n",
    "f = 2.32*theta^(1/2);       # Another symbol\n",
    "df = 0.5*2.32*theta^(-1/2); # Another symbol"
   ]
  },
  {
   "cell_type": "markdown",
   "metadata": {},
   "source": [
    "### Steady state equations: $T(\\theta)$"
   ]
  },
  {
   "cell_type": "code",
   "execution_count": 76,
   "metadata": {},
   "outputs": [],
   "source": [
    "# Competitive equilibrium steady state equation\n",
    "eqn1 = (theta*(1-beta*(1-chi)))/(beta*f) - 1 + phi*(1+theta) + ((1-phi)*gamma*(f-chi*theta))/((1-tau)*(f+chi));\n",
    "\n",
    "# SPP steady state equation\n",
    "eqn2 = ((1-beta*(1-chi-f)))/(beta*df) - (1+theta) + (gamma*(f-chi*theta))/((f+chi));"
   ]
  },
  {
   "cell_type": "markdown",
   "metadata": {},
   "source": [
    "### Solve for steady state $\\overline{\\theta}$"
   ]
  },
  {
   "cell_type": "code",
   "execution_count": 77,
   "metadata": {},
   "outputs": [
    {
     "data": {
      "text/latex": [
       "\\begin{bmatrix}0.587757846057109 + 7.0 \\cdot 10^{-24} i\\end{bmatrix}"
      ],
      "text/plain": [
       "1-element Array{SymPy.Sym,1}:\n",
       " 0.587757846057109 + 0.e-23*I"
      ]
     },
     "execution_count": 77,
     "metadata": {},
     "output_type": "execute_result"
    }
   ],
   "source": [
    "# Competitive equilibrium\n",
    "theta1=solve(eqn1,theta)"
   ]
  },
  {
   "cell_type": "code",
   "execution_count": 78,
   "metadata": {},
   "outputs": [
    {
     "data": {
      "text/latex": [
       "\\begin{bmatrix}0.58775784605711 + 2.0 \\cdot 10^{-21} i\\end{bmatrix}"
      ],
      "text/plain": [
       "1-element Array{SymPy.Sym,1}:\n",
       " 0.58775784605711 + 0.e-21*I"
      ]
     },
     "execution_count": 78,
     "metadata": {},
     "output_type": "execute_result"
    }
   ],
   "source": [
    "# SPP\n",
    "solve(eqn2,theta)"
   ]
  },
  {
   "cell_type": "markdown",
   "metadata": {},
   "source": [
    "Note that under the basline calibration the competitive and SPP solutions should coincided (when $\\tau=0$), since the Mortensen-Hosios condition holds."
   ]
  },
  {
   "cell_type": "code",
   "execution_count": 79,
   "metadata": {},
   "outputs": [
    {
     "data": {
      "text/plain": [
       "1-element Array{Complex{Float64},1}:\n",
       " 0.587758+6.61744e-24im"
      ]
     },
     "execution_count": 79,
     "metadata": {},
     "output_type": "execute_result"
    }
   ],
   "source": [
    "map(N,theta1)"
   ]
  },
  {
   "cell_type": "markdown",
   "metadata": {},
   "source": [
    "Not sure why I'm getting complex solutions. I get the same solutions in MATLAB. Mathematica gives me real-valued solutions, which are equal to the real components of the above solutions! So I'm not sure whether I've made a mistake in the equations. When I plug in the real components of the above solutions into the steady state equations, I get values that are practically zero; see below. Weird! "
   ]
  },
  {
   "cell_type": "markdown",
   "metadata": {},
   "source": [
    "### Testing"
   ]
  },
  {
   "cell_type": "markdown",
   "metadata": {},
   "source": [
    "Here I compute the $T(\\theta)$ functions for different values of $\\theta$. For the competitive equilibrium, I find that $T(0)=-0.5$, which corresponds to the correct analytical solution. When I plug in the real component of the solution above, I get $T(\\theta) \\approx 0$. Together, these tests suggests that my $T(\\theta)$ equation is correctly specified. But I'm still not sure why I'm getting complex solutions above."
   ]
  },
  {
   "cell_type": "code",
   "execution_count": 58,
   "metadata": {},
   "outputs": [],
   "source": [
    "# Define the competitive equlibirium steady state equation\n",
    "T(theta)=(theta*(1-beta*(1-chi)))/(beta*f) - 1 + phi*(1+theta) + ((1-phi)*gamma*(f-chi*theta))/((1-tau)*(f+chi));"
   ]
  },
  {
   "cell_type": "code",
   "execution_count": 82,
   "metadata": {},
   "outputs": [
    {
     "data": {
      "text/latex": [
       "$$-0.5$$"
      ],
      "text/plain": [
       "-0.500000000000000"
      ]
     },
     "execution_count": 82,
     "metadata": {},
     "output_type": "execute_result"
    }
   ],
   "source": [
    "# Evaluate at theta = 0\n",
    "subs(T(theta), theta, 0)"
   ]
  },
  {
   "cell_type": "code",
   "execution_count": 88,
   "metadata": {},
   "outputs": [
    {
     "data": {
      "text/latex": [
       "$$-5.55111512312578 \\cdot 10^{-17}$$"
      ],
      "text/plain": [
       "-5.55111512312578e-17"
      ]
     },
     "execution_count": 88,
     "metadata": {},
     "output_type": "execute_result"
    }
   ],
   "source": [
    "# Evaluate at the real component of the above solution\n",
    "subs(T(theta), theta, 0.587757846057109)"
   ]
  },
  {
   "cell_type": "code",
   "execution_count": null,
   "metadata": {
    "collapsed": true
   },
   "outputs": [],
   "source": []
  }
 ],
 "metadata": {
  "kernelspec": {
   "display_name": "Julia 0.6.1",
   "language": "julia",
   "name": "julia-0.6"
  },
  "language_info": {
   "file_extension": ".jl",
   "mimetype": "application/julia",
   "name": "julia",
   "version": "0.6.1"
  }
 },
 "nbformat": 4,
 "nbformat_minor": 2
}
