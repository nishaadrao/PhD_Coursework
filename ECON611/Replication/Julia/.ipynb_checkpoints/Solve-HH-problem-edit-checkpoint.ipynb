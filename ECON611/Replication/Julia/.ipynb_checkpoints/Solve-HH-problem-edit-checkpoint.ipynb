{
 "cells": [
  {
   "cell_type": "markdown",
   "metadata": {},
   "source": [
    "# Solve Household's Problem"
   ]
  },
  {
   "cell_type": "markdown",
   "metadata": {},
   "source": [
    "This file solves the for the household's (consumption) policy function in the steady state using the endogenous grid point method."
   ]
  },
  {
   "cell_type": "code",
   "execution_count": 1,
   "metadata": {
    "ExecuteTime": {
     "end_time": "2018-11-29T10:17:46.998000-05:00",
     "start_time": "2018-11-29T15:17:29.472Z"
    },
    "collapsed": true
   },
   "outputs": [],
   "source": [
    "using QuantEcon\n",
    "using Interpolations\n",
    "using Plots\n",
    "using LaTeXStrings\n",
    "using DataFrames\n",
    "import PyPlot"
   ]
  },
  {
   "cell_type": "markdown",
   "metadata": {},
   "source": [
    "## Calibration"
   ]
  },
  {
   "cell_type": "markdown",
   "metadata": {},
   "source": [
    "All parameter values are from Table 1 in MNS, except for ```Rbar``` (steady state gross interest rate), which is from MNS's ```initparam.m``` file."
   ]
  },
  {
   "cell_type": "code",
   "execution_count": 2,
   "metadata": {
    "ExecuteTime": {
     "end_time": "2018-11-29T10:17:47.392000-05:00",
     "start_time": "2018-11-29T15:17:29.476Z"
    },
    "collapsed": true
   },
   "outputs": [],
   "source": [
    "β     = 0.986;\n",
    "Rbar  = 1.005;\n",
    "γ     = 2;\n",
    "μ     = 1.2;\n",
    "ψ     = 2;\n",
    "Wbar  = 1/μ; #steady state wage"
   ]
  },
  {
   "cell_type": "markdown",
   "metadata": {},
   "source": [
    "### Markov chain for idisyncratic productivity"
   ]
  },
  {
   "cell_type": "markdown",
   "metadata": {},
   "source": [
    "Following MNS, I compute the three-point Markov chain using Rouwenhort's method (this corresponds to MNS's baseline calibration)."
   ]
  },
  {
   "cell_type": "code",
   "execution_count": 3,
   "metadata": {
    "ExecuteTime": {
     "end_time": "2018-11-29T10:17:48.151000-05:00",
     "start_time": "2018-11-29T15:17:29.478Z"
    },
    "collapsed": true
   },
   "outputs": [],
   "source": [
    "MC = rouwenhorst(3, 0.96566, sqrt(0.01695/(1-0.96566^2)), 0);"
   ]
  },
  {
   "cell_type": "markdown",
   "metadata": {},
   "source": [
    "Note that the transition matrix is stored in ```MC.p``` and the state values are stored in ```MC.state_values```. However, it looks like the state values that the above function spits out are different to the ones the MNS get in Matlab. Accordingly, I will take the state values from MNS's code, to give me the best chance of getting some results that match theirs."
   ]
  },
  {
   "cell_type": "markdown",
   "metadata": {},
   "source": [
    "### Create grids for productivity and bond holdings"
   ]
  },
  {
   "cell_type": "code",
   "execution_count": 4,
   "metadata": {
    "ExecuteTime": {
     "end_time": "2018-11-29T10:17:48.190000-05:00",
     "start_time": "2018-11-29T15:17:29.481Z"
    },
    "collapsed": true
   },
   "outputs": [],
   "source": [
    "#z_grid = exp.(MC.state_values); # Very different to MNS's grid, so use theirs.\n",
    "z_grid  = [0.49229735012925,1,2.03129267248230]; #MNS z_grid"
   ]
  },
  {
   "cell_type": "markdown",
   "metadata": {},
   "source": [
    "Below I create the grid of bond holdings. There are currently important differences between my grid below and MNS's. MNS use a `logspace' function in Matlab to get more grid points at lower levels of bond holdings (because the policy function has more curvature at lower asset values). I use linspace, so that grid points are evenly space; bear this in mind."
   ]
  },
  {
   "cell_type": "code",
   "execution_count": 5,
   "metadata": {
    "ExecuteTime": {
     "end_time": "2018-11-29T10:17:48.211000-05:00",
     "start_time": "2018-11-29T15:17:29.482Z"
    },
    "collapsed": true
   },
   "outputs": [],
   "source": [
    "b_min  = 0;\n",
    "b_max  = 75;\n",
    "b_grid = collect(linspace(b_min,b_max,200));"
   ]
  },
  {
   "cell_type": "markdown",
   "metadata": {},
   "source": [
    "## Endogenous grid function"
   ]
  },
  {
   "cell_type": "markdown",
   "metadata": {},
   "source": [
    "This function updates the guess of the policy function (for a given set of prices) using the endogenous grid method (EGM). The function should be read in conjunction with my TeX notes and draws heavily from the QuantEcon lecture on EGM. I've currently implemented the iteratation with a linear interpolation, rather than MNS's cubic spline interpolation; I should be able incorporate the latter later on."
   ]
  },
  {
   "cell_type": "code",
   "execution_count": 24,
   "metadata": {
    "ExecuteTime": {
     "end_time": "2018-11-29T10:33:28.993000-05:00",
     "start_time": "2018-11-29T15:33:28.988Z"
    }
   },
   "outputs": [
    {
     "data": {
      "text/plain": [
       "tax (generic function with 1 method)"
      ]
     },
     "execution_count": 24,
     "metadata": {},
     "output_type": "execute_result"
    }
   ],
   "source": [
    "function tax(x)\n",
    "    if x==z_grid[3]\n",
    "        return 1\n",
    "    else return 0\n",
    "    end\n",
    "end"
   ]
  },
  {
   "cell_type": "code",
   "execution_count": 25,
   "metadata": {
    "ExecuteTime": {
     "end_time": "2018-11-29T10:36:50.398000-05:00",
     "start_time": "2018-11-29T15:36:50.386Z"
    }
   },
   "outputs": [
    {
     "data": {
      "text/plain": [
       "egm (generic function with 2 methods)"
      ]
     },
     "execution_count": 25,
     "metadata": {},
     "output_type": "execute_result"
    }
   ],
   "source": [
    "function egm(G::AbstractArray,\n",
    "             b_grid::AbstractArray,\n",
    "             z_grid::AbstractArray,\n",
    "             P::AbstractArray,\n",
    "             β::Real,\n",
    "             γ::Real,\n",
    "             ψ::Real,\n",
    "             R::Real,\n",
    "             W::Real,\n",
    "             D::Real,\n",
    "             τ::Real)\n",
    "   \n",
    "    # Allocate memory for value of today's consumption on endogenous grid points,...\n",
    "    # and the endogenous grid itself,...\n",
    "    # and the updated guess of the policy function for each state pair.\n",
    "    c      = zeros(length(z_grid),length(b_grid))\n",
    "    b_eg   = zeros(length(z_grid),length(b_grid))\n",
    "    KG     = zeros(length(z_grid),length(b_grid))\n",
    "    \n",
    "    # Compute today's optimal consumption using Euler equation\n",
    "    for (i, z) in enumerate(z_grid)\n",
    "        for (j,b) in enumerate(b_grid)\n",
    "            c[i,j] = (β*R*P[i,:]'*(G[:,j].^(-γ)))^(-1/γ)\n",
    "        end\n",
    "    end\n",
    "\n",
    "    # Compute endogenous bond grid using the budget constraint\n",
    "    for (i,z) in enumerate(z_grid)\n",
    "        for(j,b) in enumerate(b_grid)\n",
    "            b_eg[i,j] = c[i,j] + b_grid[j]/R - c[i,j]^(-γ/ψ)*(W*z_grid[i])^(1+1/ψ) - D + τ*tax(z_grid[i])\n",
    "        end\n",
    "    end\n",
    "    \n",
    "    # Compute today's optimal consumption for agents with binding constraint\n",
    "    for (i,z) in enumerate(z_grid)\n",
    "        for(j,b) in enumerate(b_grid)\n",
    "            \n",
    "            if b_grid[j] <= b_eg[i,1]\n",
    "                c[i,j] = (b_grid[j]+D-τ*tax(z_grid[i])+sqrt((b_grid[j]+D-τ*tax(z_grid[i]))^2+4*(W*z_grid[i])^(1+1/ψ)))/2\n",
    "            else\n",
    "                c[i,j] = c[i,j]\n",
    "            end\n",
    "        end\n",
    "    end\n",
    "    \n",
    "    \n",
    "    # Interpolate the updated guess [NEED TO CHANGE THIS TO CUBIC SPLINE!]\n",
    "    for (i,z) in enumerate(z_grid)\n",
    "        KG_f      = LinInterp(b_eg[i,:],c[i,:])\n",
    "        KG[i,:]   = KG_f.(b_grid)'\n",
    "    end\n",
    "    \n",
    "    return KG\n",
    "\n",
    "end"
   ]
  },
  {
   "cell_type": "markdown",
   "metadata": {},
   "source": [
    "## Compute initial guess of the policy function"
   ]
  },
  {
   "cell_type": "markdown",
   "metadata": {},
   "source": [
    "To compute the initial guess of the policy function I need to solve equation (4) in my TeX notes. With the calibrated parameters, this is just a quadratic equation, so I can solve it by hand. Note that I write a function to compute the initial guess, which takes dividends as an input. This is because I'll need to solve for the steady state level of dividends (which is a function of steady state consumption).\n",
    "\n",
    "Also note that I'm not including taxes here (nor above), because I don't think they're very important for the analysis. I can easily incorporate them later."
   ]
  },
  {
   "cell_type": "code",
   "execution_count": 26,
   "metadata": {
    "ExecuteTime": {
     "end_time": "2018-11-29T10:37:19.617000-05:00",
     "start_time": "2018-11-29T15:37:19.611Z"
    }
   },
   "outputs": [
    {
     "data": {
      "text/plain": [
       "G_init (generic function with 2 methods)"
      ]
     },
     "execution_count": 26,
     "metadata": {},
     "output_type": "execute_result"
    }
   ],
   "source": [
    "function G_init(D::Real,τ::Real)\n",
    "\n",
    "    G0   = zeros(length(z_grid),length(b_grid));\n",
    "\n",
    "    for (i,z) in enumerate(z_grid)\n",
    "            for(j,b) in enumerate(b_grid)\n",
    "                G0[i,j] = (b_grid[j]+D-τ*tax(z_grid[i])+sqrt((b_grid[j]+D-τ*tax(z_grid[i]))^2+4*(Wbar*z_grid[i])^(1+1/ψ)))/2\n",
    "            end\n",
    "    end\n",
    "    \n",
    "    return G0\n",
    "end"
   ]
  },
  {
   "cell_type": "markdown",
   "metadata": {},
   "source": [
    "## Policy function iteration"
   ]
  },
  {
   "cell_type": "markdown",
   "metadata": {},
   "source": [
    "Next, I write a function that takes an initial guess of the policy function, and iterates until convergence."
   ]
  },
  {
   "cell_type": "code",
   "execution_count": 27,
   "metadata": {
    "ExecuteTime": {
     "end_time": "2018-11-29T10:37:35.679000-05:00",
     "start_time": "2018-11-29T15:37:35.672Z"
    }
   },
   "outputs": [
    {
     "data": {
      "text/plain": [
       "get_policy (generic function with 6 methods)"
      ]
     },
     "execution_count": 27,
     "metadata": {},
     "output_type": "execute_result"
    }
   ],
   "source": [
    "function get_policy(G0, D, τ, tol=1e-8, maxiter=1000, err=1, i=0)\n",
    "    G       = G0    # Initial guess\n",
    "\n",
    "    while i<=maxiter && err > tol\n",
    "\n",
    "        Gnew = egm(G,b_grid,z_grid,MC.p,β,γ,ψ,Rbar,Wbar,D,τ)\n",
    "\n",
    "        err  = maximum(abs, Gnew - G)\n",
    "        G    = Gnew\n",
    "\n",
    "        i    = i+1\n",
    "    end\n",
    "return G\n",
    "\n",
    "end"
   ]
  },
  {
   "cell_type": "markdown",
   "metadata": {},
   "source": [
    "## Simulate distribution of bond holdings"
   ]
  },
  {
   "cell_type": "markdown",
   "metadata": {},
   "source": [
    "In order to compute aggregate consumption (and hence output and dividends) in the steady state, I need to know the distribtution of bond holdings. To simulate the steady state distribution of bond holdings I first draw a very long vector of productivity draws using the Markov chain. I then pick an initial value for bond holdings. Then I use the policy function to compute next period's bond holdings, and so on. This gives me a level of bond holdings associated with each productivity draw. Then, for each level of productivity, I simply compute a histogram of the bond holdings. Accordingly, I end up with a histogram of bond holdings for each level of productivity. The idea is that if my vector of draws is long enough, this should be the steady state distribution."
   ]
  },
  {
   "cell_type": "markdown",
   "metadata": {},
   "source": [
    "First I write a function that creates a vector of idiosyncractic productivity draws of a specified length. (This function draws on the QuantEcon lecture on Finite Markov Chains: <https://lectures.quantecon.org/jl/finite_markov.html#simulation>)."
   ]
  },
  {
   "cell_type": "code",
   "execution_count": 9,
   "metadata": {
    "ExecuteTime": {
     "end_time": "2018-11-29T10:17:48.812000-05:00",
     "start_time": "2018-11-29T15:17:29.492Z"
    }
   },
   "outputs": [
    {
     "data": {
      "text/plain": [
       "mc_sample_path (generic function with 3 methods)"
      ]
     },
     "execution_count": 9,
     "metadata": {},
     "output_type": "execute_result"
    }
   ],
   "source": [
    "function mc_sample_path(P, init=2, sample_size=1000)\n",
    "    X = Array{Int64}(sample_size) # allocate memory\n",
    "    Z = zeros(length(X))\n",
    "    \n",
    "    X[1] = init\n",
    "    \n",
    "    # === convert each row of P into a distribution === #\n",
    "    n = size(P)[1]\n",
    "    P_dist = [DiscreteRV(vec(P[i,:])) for i in 1:n]\n",
    "\n",
    "    # === generate the sample path for the state (i.e. X \\in {1,2,3}) === #\n",
    "    for t in 1:(sample_size - 1)\n",
    "        X[t+1] = rand(P_dist[X[t]])\n",
    "    end\n",
    "    \n",
    "    # === get the z associated with each value of the state === #\n",
    "    for t in 1:(sample_size)\n",
    "        if X[t]==1\n",
    "            Z[t]=z_grid[1]\n",
    "        elseif X[t]==2\n",
    "            Z[t]=z_grid[2]\n",
    "        else\n",
    "            Z[t]=z_grid[3]\n",
    "        end\n",
    "    end\n",
    "    \n",
    "    return Z\n",
    "end"
   ]
  },
  {
   "cell_type": "markdown",
   "metadata": {},
   "source": [
    "Let's go ahead and simulate those states!"
   ]
  },
  {
   "cell_type": "code",
   "execution_count": 10,
   "metadata": {
    "ExecuteTime": {
     "end_time": "2018-11-29T10:17:49.401000-05:00",
     "start_time": "2018-11-29T15:17:29.494Z"
    },
    "collapsed": true
   },
   "outputs": [],
   "source": [
    "Z=mc_sample_path(MC.p,2,1000000);"
   ]
  },
  {
   "cell_type": "markdown",
   "metadata": {},
   "source": [
    "Next, I need to write a function that computes the level of bond holdings associated with each individual z-draw using the policy function and budget constraint (given an initial level of bond holdings). Currently, my function isn't very slick. First, I need to back back out the actual optimal policy *functions* for each level of productivity from the ${G}$ matrix (which is clearly inefficient because I compute, but don't store, these when I run my EGM function above!). Then I construct the bond holdings using the policy functions. There are two reasons for this slopiness: (1) I need the actual policy functions because for any $(z_t,b_t)$ pair, using the budget constraint may give a level of bond holdings that doesn't correspond to a point in my bond grid; (2) I can't work out how to properly store the (three, one for each $z$) policy functions in my EGM function above!\n",
    "\n",
    "Ideas: maybe I could actually compute a two-dimensional function in the interpolation step of my EGM function, rather than a separate function for each $z$?"
   ]
  },
  {
   "cell_type": "code",
   "execution_count": 39,
   "metadata": {
    "ExecuteTime": {
     "end_time": "2018-11-29T10:48:36.921000-05:00",
     "start_time": "2018-11-29T15:48:36.913Z"
    }
   },
   "outputs": [
    {
     "data": {
      "text/plain": [
       "get_bonds (generic function with 4 methods)"
      ]
     },
     "execution_count": 39,
     "metadata": {},
     "output_type": "execute_result"
    }
   ],
   "source": [
    "function get_bonds(Z,G::AbstractArray,D::Real,τ::Real,c1,c2,c3,init=b_grid[1])\n",
    "    B = zeros(length(Z)) #allocate memory\n",
    "    \n",
    "    # This is what c1,c2,c3 will be!\n",
    "    #c1 = LinInterp(b_grid,G[1,:]); \n",
    "    #c2 = LinInterp(b_grid,G[2,:]);\n",
    "    #c3 = LinInterp(b_grid,G[3,:]);\n",
    "    \n",
    "    B[1] = init\n",
    "    \n",
    "    for t in 1:(length(B)-1)\n",
    "        \n",
    "        if Z[t]==z_grid[1]\n",
    "            B[t+1]=Rbar*(B[t]+(Wbar*Z[t])^(1+1/ψ)*c1(B[t])^(-γ/ψ)-c1(B[t])+D-τ*tax(z_grid[1]))\n",
    "        elseif Z[t]==z_grid[2]\n",
    "            B[t+1]=Rbar*(B[t]+(Wbar*Z[t])^(1+1/ψ)*c2(B[t])^(-γ/ψ)-c2(B[t])+D-τ*tax(z_grid[2]))\n",
    "        else\n",
    "            B[t+1]=Rbar*(B[t]+(Wbar*Z[t])^(1+1/ψ)*c3(B[t])^(-γ/ψ)-c3(B[t])+D-τ*tax(z_grid[3]))\n",
    "        end \n",
    "    end\n",
    "    \n",
    "    return B\n",
    "end"
   ]
  },
  {
   "cell_type": "markdown",
   "metadata": {},
   "source": [
    "Almost there. Next I write a simple function that computes aggregate consumption. I simply evaluate the policy function for each $(z,b)$ pair in my long vector; then since there is a unit mass of agents, the mean consumption level is aggregate consumption."
   ]
  },
  {
   "cell_type": "code",
   "execution_count": 40,
   "metadata": {
    "ExecuteTime": {
     "end_time": "2018-11-29T10:48:39.183000-05:00",
     "start_time": "2018-11-29T15:48:39.177Z"
    }
   },
   "outputs": [
    {
     "data": {
      "text/plain": [
       "get_C (generic function with 1 method)"
      ]
     },
     "execution_count": 40,
     "metadata": {},
     "output_type": "execute_result"
    }
   ],
   "source": [
    "function get_C(B,c1,c2,c3)\n",
    "\n",
    "C = zeros(length(B)) #allocate memory\n",
    "\n",
    "    for t in 1:(length(C))\n",
    "\n",
    "            if Z[t]==z_grid[1]\n",
    "                C[t]=c1(B[t])\n",
    "            elseif Z[t]==z_grid[2]\n",
    "                C[t]=c2(B[t])\n",
    "            else\n",
    "                C[t]=c3(B[t])\n",
    "            end \n",
    "    end\n",
    "    \n",
    "    return C\n",
    "end"
   ]
  },
  {
   "cell_type": "markdown",
   "metadata": {},
   "source": [
    "## Solve for steady state"
   ]
  },
  {
   "cell_type": "markdown",
   "metadata": {},
   "source": [
    "Finally, I write a loop that puts all of the above functions together to solve for steady state. The iterative algorithm proceeds as follows:\n",
    "\n",
    "1. Guess an initial level of dividends $D^0=0$.\n",
    "2. Using this guess and other steady state prices, compute the HH's policy function.\n",
    "3. Simulate the distribution of bond holdings, using the policy function.\n",
    "3. Compute aggregate consumption, $C^0$.\n",
    "4. Compute the implied level of dividends, $\\tilde{D}^0 = C^0\\times(1-\\bar{W})$.\n",
    "5. Update the guess of dividends: $D^1 = \\omega  \\tilde{D}^0 + (1-\\omega)D^0$. I set $\\omega=0.5$.\n",
    "5. Iterate until convergence: $D^n=D^{n-1}$."
   ]
  },
  {
   "cell_type": "code",
   "execution_count": 46,
   "metadata": {
    "ExecuteTime": {
     "end_time": "2018-11-29T10:55:43.795000-05:00",
     "start_time": "2018-11-29T15:55:07.894Z"
    }
   },
   "outputs": [],
   "source": [
    "#function solve_ss(D=0,tol=1e-8,maxiter=1000,err=1,i=0)\n",
    "\n",
    "D       = 0    # Initial guess\n",
    "τ       = 0\n",
    "tol     = 1e-8   \n",
    "maxiter = 1000\n",
    "err     = 1\n",
    "i       = 0\n",
    "\n",
    "\n",
    "    while i<=maxiter && err > tol\n",
    "\n",
    "        global G, C, D, B, τ           # Ensures the loop spits out these things (cf. local)        \n",
    "    \n",
    "        X    = [D,τ]\n",
    "        \n",
    "        G0   = G_init(D,τ)               # Compute initial guess of policy fn\n",
    "\n",
    "        G    = get_policy(G0,D,τ)        # Compute policy function\n",
    "\n",
    "        c1 = LinInterp(b_grid,G[1,:])  # optimal policy *function* for low productivity\n",
    "        c2 = LinInterp(b_grid,G[2,:])\n",
    "        c3 = LinInterp(b_grid,G[3,:])\n",
    "\n",
    "        B  = get_bonds(Z,G,D,τ,c1,c2,c3) # Simulate distribution of bonds\n",
    "\n",
    "        C  = get_C(B,c1,c2,c3)         # Get consumption distribution\n",
    "\n",
    "        Dnew = mean(C)*(1-Wbar)        # Compute prelim updated guess of divs\n",
    "    \n",
    "        τnew = 1.4*4*mean(C)*(Rbar-1)/Rbar # Compute prelim updated guess of τ\n",
    "\n",
    "        Xnew = [Dnew,τnew]\n",
    "    \n",
    "        err  = maximum(abs, Xnew - X)           # Compute error\n",
    "\n",
    "        D    = 0.5*Dnew + 0.5*D        # Update guess of dividends\n",
    "        τ    = 0.5*τnew + 0.5*τ         # Update guess of τ\n",
    "\n",
    "        i    = i+1\n",
    "    end\n",
    "#end"
   ]
  },
  {
   "cell_type": "code",
   "execution_count": 14,
   "metadata": {
    "ExecuteTime": {
     "end_time": "2018-11-29T10:18:29.797000-05:00",
     "start_time": "2018-11-29T15:17:29.501Z"
    },
    "collapsed": true
   },
   "outputs": [],
   "source": [
    "#@time solve_ss()"
   ]
  },
  {
   "cell_type": "markdown",
   "metadata": {},
   "source": [
    "Solved. Convergence takes about 25-30 iterations, and about 30-40 seconds. The steady state policy function is stored in $G$; consumption distribution is $C$; and this distribution of bond holdings is given by the vectors $(Z,B)$."
   ]
  },
  {
   "cell_type": "markdown",
   "metadata": {
    "heading_collapsed": true
   },
   "source": [
    "## Some plots and analysis"
   ]
  },
  {
   "cell_type": "markdown",
   "metadata": {
    "hidden": true
   },
   "source": [
    "First, I plot the steady state policy function for different levels of idiosyncratic productivity. The results are nice: consumption is increasing in wealth, and productivty levels. As MNS note, there is more curvature on the policy function at lower asset levels. Recall that I've implemented the EGM method using an evenly spaced bond grid, and a linear interpolation. This plot is decent evidence why we might want more grid points at lower bond levels."
   ]
  },
  {
   "cell_type": "code",
   "execution_count": 65,
   "metadata": {
    "ExecuteTime": {
     "end_time": "2018-11-29T11:01:47.489000-05:00",
     "start_time": "2018-11-29T16:01:44.590Z"
    },
    "hidden": true
   },
   "outputs": [
    {
     "data": {
      "image/png": "[encoded data removed]",
      "text/plain": [
       "PyPlot.Figure(PyObject <matplotlib.figure.Figure object at 0x139b27f10>)"
      ]
     },
     "metadata": {},
     "output_type": "display_data"
    }
   ],
   "source": [
    "pyplot()\n",
    "plot(b_grid, G[1, :], label=\"Low productivity\",grid=false)\n",
    "plot!(b_grid, G[2, :], label=\"Medium productivity\")\n",
    "plot!(b_grid, G[3, :], label=\"High productivity\")\n",
    "plot!(xlabel=\"Bond holdings\", ylabel=\"Optimal Consumption\")\n",
    "plot!(title=\"Steady State Policy Function\")\n",
    "savefig(\"/Users/Anirudh/Desktop/GitHub/PhD_Coursework/ECON611/Replication/TeX/pol_fn_C.pdf\")"
   ]
  },
  {
   "cell_type": "code",
   "execution_count": 30,
   "metadata": {
    "ExecuteTime": {
     "end_time": "2018-11-28T13:07:47.545000-05:00",
     "start_time": "2018-11-28T18:07:46.630Z"
    },
    "collapsed": true,
    "hidden": true
   },
   "outputs": [],
   "source": []
  },
  {
   "cell_type": "markdown",
   "metadata": {
    "hidden": true
   },
   "source": [
    "Next, I plot the law of motion for asset holdings for each level of productivity. To do so, I first need to back out next period's bond holdings for each state pair using the budget constraint (which I can do because I know what the optimal consumption levels are for each state pair!). Next period's bond holdings are given by\n",
    "\n",
    "$$ b_{t+1} = \\bar{R}[b+(\\bar{W}z)^{1+1/\\psi}c^{-\\gamma/\\psi}+\\bar{D}-c]$$"
   ]
  },
  {
   "cell_type": "code",
   "execution_count": 66,
   "metadata": {
    "ExecuteTime": {
     "end_time": "2018-11-29T11:03:31.886000-05:00",
     "start_time": "2018-11-29T16:03:31.850Z"
    },
    "collapsed": true,
    "hidden": true
   },
   "outputs": [],
   "source": [
    "b_next   = zeros(length(z_grid),length(b_grid));\n",
    "\n",
    "for (i,z) in enumerate(z_grid)\n",
    "        for(j,b) in enumerate(b_grid)\n",
    "            b_next[i,j] = Rbar*(b_grid[j]+(Wbar*z_grid[i])^(1+1/ψ)*G[i,j]^(-γ/ψ)+D-G[i,j])\n",
    "        end\n",
    "end"
   ]
  },
  {
   "cell_type": "code",
   "execution_count": 67,
   "metadata": {
    "ExecuteTime": {
     "end_time": "2018-11-29T11:03:36.210000-05:00",
     "start_time": "2018-11-29T16:03:35.617Z"
    },
    "hidden": true
   },
   "outputs": [
    {
     "data": {
      "text/html": [
       "<img src=\"data:image/png;base64,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\" />"
      ]
     },
     "execution_count": 67,
     "metadata": {},
     "output_type": "execute_result"
    }
   ],
   "source": [
    "plot(b_grid[1:15], b_next[1,1:15], label=\"Low productivity\", grid=false)\n",
    "plot!(b_grid[1:15], b_next[2,1:15], label=\"Medium productivity\")\n",
    "plot!(b_grid[1:15], b_next[3,1:15], label=\"High productivity\")\n",
    "plot!(b_grid[1:15], b_grid[1:15], linestyle=:dash, color=\"black\", label=\"\")\n",
    "plot!(xlabel=\"Current assets\", ylabel=\"Next period assets\")\n",
    "plot!(title=\"Law of Motion for Bond Holdings\")\n",
    "#savefig(\"/Users/Anirudh/Desktop/GitHub/PhD_Coursework/ECON611/Replication/TeX/pol_fn_B.pdf\")"
   ]
  },
  {
   "cell_type": "markdown",
   "metadata": {
    "hidden": true
   },
   "source": [
    "First, note that I only plotted the law of motion for the first 15 grid points; otherwise the lines are very hard to distinguish from one another. Some results worth noting. Agents with a high productivity draw save a lot -- this is the precautionary savings motive at work."
   ]
  },
  {
   "cell_type": "markdown",
   "metadata": {
    "hidden": true
   },
   "source": [
    "Next, let's look at the steady state distribution of bond holdings."
   ]
  },
  {
   "cell_type": "code",
   "execution_count": 68,
   "metadata": {
    "ExecuteTime": {
     "end_time": "2018-11-29T11:03:47.053000-05:00",
     "start_time": "2018-11-29T16:03:46.904Z"
    },
    "hidden": true
   },
   "outputs": [],
   "source": [
    "# Combine Z and B into data frame\n",
    "df = DataFrame(Z=Z,B=B);"
   ]
  },
  {
   "cell_type": "code",
   "execution_count": 69,
   "metadata": {
    "ExecuteTime": {
     "end_time": "2018-11-29T11:03:54.490000-05:00",
     "start_time": "2018-11-29T16:03:50.944Z"
    },
    "hidden": true
   },
   "outputs": [
    {
     "data": {
      "text/html": [
       "<img src=\"data:image/png;base64,iVBORw0KGgoAAAANSUhEUgAAAlgAAAJYCAYAAAC+ZpjcAAAABHNCSVQICAgIfAhkiAAAAAlwSFlzAAAPYQAAD2EBqD+naQAAADl0RVh0U29mdHdhcmUAbWF0cGxvdGxpYiB2ZXJzaW9uIDIuMS4wLCBodHRwOi8vbWF0cGxvdGxpYi5vcmcvpW3flQAAIABJREFUeJzs3XlclOX+//H3ILK4AG6oKCNqYe6QSeUSmJaGlpapLXJATW3vfPud7NimqaXHOp2WU0cqFUvzWJotLpUVqRVWHLM0dwMZXCLUxA0UuX5/eJjjxEAs97DI6/l43A+Y+77u6/4MTtP7cV/XXGMzxhgBAADAMl5VXQAAAMCFhoAFAL8TFhamsLCwqi7DyYp6qttzAi50BCyghktPT5fNZtOgQYOquhSUU0JCgmw2m9LT0yv1ulOnTpXNZtMXX3xRqdcFagPvqi4AAFCyzz77rFr0AaD0CFgAUM21b9++WvQBoPQYIgRqmZMnT2rq1Km65JJL5Ofnp8aNG2vw4MH6+uuvXdq99957stlsev755132P/PMM7LZbLroootc9h8/flx169bVdddd94c1nD809dprr6lz587y8/OT3W7X5MmTlZub69K+cBg0ISFB27dv10033aSmTZsWGVb7+uuvNXjwYDVu3Fh+fn665JJLNHXqVJ08edJtHe+//7569uwpf39/NW/eXOPHj9eRI0fcto2JiZHNZnN7rKQhvg8++EADBw5UkyZN5Ofnp7CwMMXFxWnLli2Szs2NWrBggSSpbdu2stlsstlsiomJcfbx+/lT06ZNk81m05tvvum2nkWLFslms2n69OnF9hETE6Mnn3xSktSvXz/ndcPCwlRQUKC2bduqSZMmysvLc3uNqKgo+fj4KCsry+1xoLbjDhZQi+Tl5al///7asGGDLr30Uv35z39WVlaWlixZok8++URLlizRTTfdJEmKjo6Wl5eXkpOT9ec//9nZR+F8nT179sjhcCg0NFSStH79euXn56tfv36lrufvf/+7vvjiC40aNUpDhgzRqlWrNGvWLH3//fdavXp1kUCze/duXXHFFercubPi4+N1+PBh+fj4SJKWLVumW265RT4+Pho1apSCg4P16aef6sknn9Qnn3yi5ORk+fr6Ovt64403FB8fr4CAAMXFxSkoKEgrVqzQgAEDdPr0aWe/FTFp0iQ988wzaty4sYYNG6bg4GA5HA59+umn6tGjh7p06aI///nPSkpK0g8//KAHHnhAQUFBklTihPTRo0drypQpWrhwoeLi4oocX7hwoWw2m0aPHl1sHwkJCZKktWvXKj4+3nm9oKAgeXl5afz48Xr00Ue1bNky3XbbbS7nbt68Wd99952GDx+u4ODgsv1RgNrCAKjR0tLSjCQzcODAP2w7bdo0I8ncfvvtpqCgwLn/hx9+ML6+vqZRo0YmJyfHuT8yMtIEBQWZs2fPGmOMyc/PNw0bNjT9+/c3ksyCBQucbR966CEjyXz77bd/WMeUKVOMJOPn52e2bNni3H/mzBlzzTXXGEnmjTfeKPIcJZnHH3+8SH85OTkmKCjI+Pr6mh9++MG5v6CgwNx2221Gkpk+fbpz/9GjR01AQICpX7++2bFjh3P/6dOnzVVXXWUkmTZt2rhcIzo62hT3lhkfH28kmbS0NOe+lStXGkmma9euJjs726X9mTNnzMGDB0s8/3xt2rQpUk/v3r1NnTp1zIEDB1z2//LLL8bb29v06dPnD/so/HdITk4ucs0DBw4Yb29v069fvyLH7r//fiPJrF692m29AIxhiBCoRZKSklS3bl3NmjXL5e5Qt27dlJCQoCNHjuj999937o+JidFvv/2mjRs3SpJSU1N17Ngx3XPPPWrevLk+//xzZ9vk5GQFBATo0ksvLXU9cXFx6ty5s/Oxt7e3nn76aUlyDpudr0WLFnrssceK7H/vvff022+/aezYserWrZtzv81m06xZs+Tt7a2kpCSX9jk5ORo7dqzCw8Od++vWraunnnqq1PWX5OWXX5YkvfDCC2rSpInLMW9vbzVv3rxC/Y8ePVpnz57V4sWLXfYvXrxY+fn5Jd69Ko0WLVrohhtu0BdffKE9e/Y49+fl5WnhwoWy2+269tprK3QN4EJGwAJqiZycHP3888+66KKL1Lp16yLHC+f8bNq0ybmvcLgvOTnZ+dPLy0sxMTGKiYlx7j969Ki+//579e3bV3Xq1Cl1TX379i2y77LLLpO/v79LHYW6d+/uduju+++/d3kO5wsNDVX79u21Z88eHTt2TJL0ww8/FHv9K6+8Ut7eFZ898e2338rX11fR0dEV7sudUaNGycfHRwsXLnTZ/+abb8rHx0cjR46s8DUmTpwoY4zmzp3r3Ld8+XIdPnxYY8eOlZcX/wsBisN/HUAtkZOTI0nF3jlp0aKFpHNhqdBVV12lOnXquASs7t27q1GjRurXr58yMjL0888/a926dTp79myZ5l9JKnb+TnBwsEsdhYqrvbTPrbBdYd/url+nTp0id5zK47ffflOLFi08FkIaNWqkwYMHa+PGjdq+fbskaceOHfrPf/6jIUOGqFGjRhW+xjXXXKO2bdsqKSlJZ8+elSS9/vrr8vLy0tixYyvcP3AhI2ABtURAQIAk6ZdffnF7vHB/YTtJCgwMVGRkpNavX69Tp07pq6++coao8+9uFU58L2vAKu4TaFlZWQoMDCyyv7hP8ZX1uRX27e76Z8+e1aFDh4rsLwxK+fn5RY65C4NBQUE6ePCgCgoK3NZkhcIJ7oV3sQo/Vehu4nt52Gw2jR8/XgcOHNDKlSuVlpamzz//XIMGDXJ+uAGAewQsoJYICAhQu3bttHv3bu3bt6/I8bVr10qSIiIiXPbHxMTo+PHjeuWVV3TixAldffXVkqTw8HC1atVKn3/+uZKTkxUUFFTk3D+yfv36IvtSU1N16tSpMvUVGRkpSW5XJN+3b5/27Nmjdu3aqWHDhpLODTUWd/2UlBS3IarwjtDv/3YFBQXOIcfzRUVFKS8vz/l3LUnhsGrhXaLSGjx4sBo1aqRFixapoKBAb731lho3bqzY2NhSnV+a644dO1Z169bV66+/rnnz5skYozvuuKNMdQK1EQELqEXi4+N15swZTZ48WcYY5/4tW7Zo/vz5CgwM1LBhw1zOKbwr9be//U116tRxmbfUr18/ffzxx/rhhx901VVXlXk47M0339RPP/3kfJyfn69HHnnEWWtpDR06VIGBgZo/f75Lf8YYTZ48WWfOnHEuS1DYPiAgQPPmzdPOnTud+8+cOeN2Er10bm6YJJfJ8pL03HPPKS0trUj7e+65R5L0wAMP6PDhwy7H8vPzXe62NW7cWJKUmZlZimf7P4VzrdLT0/W3v/1NaWlpGjlyZKmXmCjNdZs3b64bbrhBq1at0quvvqoWLVro+uuvL1OdQG3EOljABWLz5s0uIeJ8l156qe6//35NmjRJK1eu1Jtvvqlt27apf//++vXXX7VkyRKdOXNGb7zxhvMuT6G+ffvK29tbv/76q6KiolyGEPv16+ccnirr8KAkDRgwQFdccYVuueUWNW7cWKtWrdKWLVs0cODAMn0KLiAgQK+99ppuvfVWXX755Ro1apSaNWumzz77TKmpqYqKitJDDz3kbB8YGKgXX3xRCQkJ6tmzp2655RYFBgZqxYoV8vf3V8uWLYtcY8yYMZo9e7amTp2qTZs2qX379kpNTdWWLVsUHR1d5E5VbGys/vKXv+jZZ5/VxRdfrBtvvFHBwcHat2+fPvvsM/3lL39xri929dVX69lnn9XEiRM1YsQI1a9fX3a7vcj6U+7ExcUpMTFRU6ZMcT4urcIFRh999FFt375dgYGBCgwM1F133eXSbuLEiVq2bJmysrL08MMPW/IhAOCCV7WrRACoqPPXiCpuGzp0qLP98ePHzeOPP27Cw8ONj4+PCQoKMtddd51Zv359sde4/PLLjSTz8MMPu+z/+eefndf4/vvvS13z+esvJSYmmk6dOhlfX1/TunVr89e//tWcPHnS7XOMj48vsd9169aZ6667zgQFBRkfHx8THh5uHn/8cXP8+HG37ZcvX2569OhhfH19TXBwsLnjjjvM4cOH3a4ZZYwxGzduNP379zf16tUzAQEBZujQoWbXrl0lrmO1bNky069fPxMYGGh8fX1NWFiYiYuLc1n/yxhjZs+ebS6++GJTt25dI8lER0c7jxVXT6F27doZSaZdu3bFtimuj6SkJNO1a1fj6+vrdv0vY86tJ9aqVStjs9nMrl27ir0GgP+xGXPeOAEAVIKpU6fqySefVHJystulFVC97N+/X23atFHfvn1d1j4DUDzmYAEASvT8888rPz9fd955Z1WXAtQYDKQDAIo4evSo/vWvf2nv3r3OL+QePnx4VZcF1BgELABAEUeOHNHkyZPl7++vvn37as6cOWVapR+o7ZiDBQAAYDHmYAEAAFiMgAUAAGCxGhewjDHKyckRI5sAAKC6qnEB69ixYwoMDNSxY8fKdf6BAwdks9nKvfnXq6+MjAyLnxUAALiQ1LpPER44cODcL3FzJHtk2U4+uE25cxOUnZ0tu91ufXEAAOCCUOsClpM9UmpTxoAFAABQCjVuiBAAAKC6I2ABAABYjIAFAABgMQIWAACAxQhYAAAAFiNgAQAAWIyABQAAYDECFgAAgMUIWAAAABYjYAEAAFiMgAUAAGAxAhYAAIDFCFgAAAAWI2ABAABYjIAFAABgMQIWAACAxQhYAAAAFiNgAQAAWMzjAWvXrl3q1auXwsPDFRUVpa1bt7ptt3btWvXs2VOdO3fWJZdcopSUFE+XBgAA4BHenr7AxIkTNWHCBCUkJGjp0qUaN25ckfC0f/9+xcfHa/Xq1erYsaNyc3OVm5vr6dIAAAA8wqN3sLKysrRx40aNHj1akjR8+HClpaUpPT3dpd0rr7yi0aNHq2PHjpIkPz8/BQUFebI0AAAAj/FowHI4HAoJCZG397kbZTabTXa7XRkZGS7ttm7dqlOnTmnAgAGKiIjQfffdp5MnT5bYd05OjsuWl5fnsecBAABQFh6fg2Wz2VweG2OKtDlz5oy++OILvfPOO0pNTdXRo0c1derUEvsNDQ1VYGCgc5s5c6aVZQMAAJSbR+dghYaGKjMzU/n5+fL29pYxRg6HQ3a73aVdmzZtFBkZqUaNGkmSbrnlFs2ePbvEvh0OhwICApyPfX19rX8CAAAA5eDRO1jBwcGKjIzUwoULJUnLli1TWFiYwsLCXNrddtttSk5Odg7zffTRR+revXuJfQcEBLhsBCwAAFBdeHyIMDExUYmJiQoPD9esWbM0d+5cSVJsbKxSU1MlSb169dL111+viIgIde3aVb/++qumTZvm6dIAAAA8wuPLNHTo0MHtmlarVq1yeTxp0iRNmjTJ0+UAAAB4HCu5AwAAWIyABQAAYDECFgAAgMUIWAAAABYjYAEAAFiMgAUAAGAxAhYAAIDFCFgAAAAWI2ABAABYjIAFAABgMQIWAACAxQhYAAAAFiNgAQAAWIyABQAAYDECFgAAgMUIWAAAABYjYAEAAFiMgAUAAGAxAhYAAIDFCFgAAAAWI2ABAABYjIAFAABgMQIWAACAxQhYAAAAFiNgAQAAWIyABQAAYDECFgAAgMUIWAAAABYjYAEAAFiMgAUAAGAxAhYAAIDFCFgAAAAWI2ABAABYzOMBa9euXerVq5fCw8MVFRWlrVu3Ftv2119/VfPmzXXzzTd7uiwAAACP8XjAmjhxoiZMmKCdO3dq0qRJGjduXLFt7777bsXGxnq6JAAAAI/yaMDKysrSxo0bNXr0aEnS8OHDlZaWpvT09CJtFy1apObNmys6OtqTJQEAAHicRwOWw+FQSEiIvL29JUk2m012u10ZGRku7fbv36/nnntOs2bNKnXfOTk5LlteXp6ltQMAAJSXx4cIbTaby2NjTJE248eP1+zZs9WgQYNS9xsaGqrAwEDnNnPmzArXCgAAYAVvT3YeGhqqzMxM5efny9vbW8YYORwO2e12l3YpKSnOuVnHjx/XqVOnNHDgQH388cfF9u1wOBQQEOB87Ovr65knAQAAUEYeDVjBwcGKjIzUwoULlZCQoGXLliksLExhYWEu7Q4fPuz8PSkpSStWrNDSpUtL7DsgIMAlYAEAAFQXHh8iTExMVGJiosLDwzVr1izNnTtXkhQbG6vU1FRPXx4AAKDSefQOliR16NBBKSkpRfavWrXKbfuEhAQlJCR4uCoAAADPYSV3AAAAixGwAAAALEbAAgAAsBgBCwAAwGIELAAAAIsRsAAAACxGwAIAALAYAQsAAMBiBCwAAACLEbAAAAAsRsACAACwGAELAADAYgQsAAAAixGwAAAALEbAAgAAsBgBCwAAwGIELAAAAIsRsAAAACxGwAIAALAYAQsAAMBiBCwAAACLEbAAAAAsRsACAACwGAELAADAYgQsAAAAixGwAAAALEbAAgAAsBgBCwAAwGIELAAAAIsRsAAAACxGwAIAALAYAQsAAMBiBCwAAACLeTxg7dq1S7169VJ4eLiioqK0devWIm2WLFmiyMhIdenSRV27dtVLL73k6bIAAAA8xuMBa+LEiZowYYJ27typSZMmady4cUXatG7dWqtXr9aWLVv05Zdf6oUXXtBXX33l6dIAAAA8wqMBKysrSxs3btTo0aMlScOHD1daWprS09Nd2vXu3VstWrSQJAUGBuqSSy5RWlqaJ0sDAADwGI8GLIfDoZCQEHl7e0uSbDab7Ha7MjIyij1n69atSklJ0dVXX11i3zk5OS5bXl6epbUDAACUl8eHCG02m8tjY0yxbTMzMzV06FDNmTNHISEhJfYbGhqqwMBA5zZz5kxL6gUAAKgob092HhoaqszMTOXn58vb21vGGDkcDtnt9iJt9+/frwEDBuixxx7TiBEj/rBvh8OhgIAA52NfX19LawcAACgvj97BCg4OVmRkpBYuXChJWrZsmcLCwhQWFubS7sCBA+rfv78efvhhxcfHl6rvgIAAl42ABQAAqguPDxEmJiYqMTFR4eHhmjVrlubOnStJio2NVWpqqiTpiSeeUEZGhl544QVFREQoIiJC8+fP93RpAAAAHuHRIUJJ6tChg1JSUorsX7VqlfP31157Ta+99pqnSwEAAKgUrOQOAABgMQIWAACAxQhYAAAAFiNgAQAAWIyABQAAYDECFgAAgMUIWAAAABYjYAEAAFiMgAUAAGAxAhYAAIDFCFgAAAAWI2ABAABYjIAFAABgMQIWAACAxQhYAAAAFiNgAQAAWIyABQAAYDECFgAAgMUIWAAAABYjYAEAAFiMgAUAAGAxAhYAAIDFCFgAAAAWI2ABAABYzLuqC6iJtm3bVu5zmzZtKrvdbmE1AACguiFglcWxbEnS6NGjy92Fn3897di+jZAFAMAFjIBVFsfPBSzFzZHskWU//+A25c5NUHZ2NgELAIALGAGrPOyRUptyBCwAAFArELCqAHO4AAC4sBGwKhNzuAAAqBUIWJXJojlc69evV8eOHctVAnfAAADwPAJWVSjvHC4L7oD5+vlr2dJ31LJlyzKfSzgDAKB0al3AOn369Llf8k9XbSHlUdE7YD+nKG/xnzVkyJByXb4i4UyqvQEtLy9PM2fO1OTJk+Xr61vV5aCW4HWHysZrzpXHA9auXbsUHx+v7OxsBQUFKSkpSZ06dSrSbsaMGZo/f74k6bbbbtP06dM9Uo8zYJ2tgQGrUHnvgB3Yfu5neQJaBcOZVPGAdvbsWdWpU6fc16+qgJeXl6cnn3xSDz74IG86qDS87lDZeM258njAmjhxoiZMmKCEhAQtXbpU48aNU0pKikubdevWafHixfrxxx/l7e2t3r17q0+fPho4cKCny6udyhPQKhLOJEsCWkVVJOBVJNwdP35ckrRp0yY1aNCgXH3U1rt/AFBTeTRgZWVlaePGjfrkk08kScOHD9e9996r9PR0hYWFOdstWbJECQkJql+/viRp7NixWrx4MQGrOqqKu2eStGW19P7UGh3woqOjy31uVd79q+idw6o+n3AKoCp4NGA5HA6FhITI2/vcZWw2m+x2uzIyMlwCVkZGhsv/fMLCwrR06VK3fRpjJEn79u1TTk6Oc7+vr2+pbkmeOHHiv8X9UNanIx387/pVGRulvOO163yrri1TvvPP5Fbs/KMHz/3sd5cUHF62c/emShsWle9cSdqTIqW+LfUdJ4V0Kfv5B7crb21ilYbDmqyuj68efWSyGjduXOZz/fz8lJub+8cNq+H5p06dkiTNmTNH/v7+lXrtmn5+Ta69oudX5Wuuotev6Pndu3dXREREua8tSQ0bNpTNZjv3wHhQamqq6dSpk8u+yy67zKxdu9Zl35AhQ8zbb7/tfLxixQrTr18/t306HA4jiY2NjY2NjY2tWm1Hjx515hWP3sEKDQ1VZmam8vPz5e3tLWOMHA5Hkdv1drtd6enpzsd79+4t9pZ+SEiI9uzZo7p16/4vJar0d7AAAAA8oWHDhs7fPRqwgoODFRkZqYULFyohIUHLli1TWFiYy/CgJI0YMUL33nuv7r77bnl7e2vevHmaMWOG2z69vLzUrl07T5YNAABQIV6evkBiYqISExMVHh6uWbNmae7cuZKk2NhYpaamSpJiYmI0cuRIde3aVR07dtS1116rQYMGebo0AAAAj7AZ899Z4wAAALCEx+9gVSe7du1Sr169FB4erqioKG3durWqS8IF5v7771dYWJhsNpu2bNni3M9rD56Sm5urYcOGKTw8XBERERo0aJBzTmtWVpYGDRqkiy++WF26dNGXX35ZtcXignLttdeqW7duioiIUN++fbVp0yZJvN85WfWJwZqgX79+Zv78+cYYY9555x1zxRVXVG1BuOCsXbvWOBwO06ZNG7N582bnfl578JRTp06ZlStXmoKCAmOMMS+99JK55pprjDHGjBkzxkyZMsUYY8y3335r7Ha7OXPmTFWVigvMkSNHnL8vX77cREZGGmN4vytUa4YIs7KyFB4eruzsbOcnGlu2bKkNGzYUmXQPVFRYWJhWrFihLl268NpDpUpNTdUtt9yi3bt3q0GDBkpLS1OzZs0kSVFRUZo9e7ZiYmKqtkhccBYsWKCXXnpJq1at4v3uv2rNlz2XdtFTwGq89lCZXnzxRV1//fU6dOiQCgoKnOFKOhf8MzIyqrA6XGj+9Kc/KTk5WZL00Ucf8X53nlo1B+v8dbMkqZbcvEM1wGsPleHpp5/Wrl279NRTT0nidQfPe+ONN+RwODRjxgw99NBDknjdFao1Aev8RU8lFbvoKWA1XnuoDM8++6zeffddrV69WvXq1VOTJk0kSb/++quzTUmLOAMVER8fr+TkZLVu3Zr3u/+qNQHr/EVPJRW76ClgNV578LTnnntOixcv1po1axQUFOTcP2LECL388suSpO+++04HDx5Unz59qqpMXEBycnK0f/9+5+Ply5erSZMmvN+dp9ZMcpekHTt2KCEhQYcOHVJAQIAWLFigzp07V3VZuIDcc889ev/993Xw4EE1bdpUDRo00O7du3ntwWMyMzMVGhqqdu3aOb+mw9fXV998841++eUXxcXFKS0tTT4+PnrllVcUHR1dxRXjQuBwODR8+HCdOnVKXl5eatasmZ599llFRETwfvdftSpgAQAAVIZaM0QIAABQWQhYAAAAFiNgAQAAWIyABQAAYDECFgAAgMUIWEAtl5SUJJvNpqSkJJf9NpuN76yzQExMTJGVrauSFfVUt+cEVEcELKCSpaeny2azyWazqVWrVjp79qzbdps3b3a2u+SSSyq5StRUU6dOlc1m0xdffFGp1y0uqAO1Va35smeguvH29tb+/fv18ccfKzY2tsjxuXPnytvb2/mVE5Vt27ZtqlevXpVcG57zxhtv6OTJk1XeB3Ch4w4WUEV69eqlwMBAzZs3r8ix06dPa9GiRW6DV2W55JJLauX3h13o7HZ7he+IWtEHcKEjYAFVxN/fX6NGjdKHH36o7Oxsl2MffPCBsrOzNWbMmGLPN8Zo3rx56t27twICAlSvXj1ddtllbgObJB0+fFh33nmnmjdvrnr16qlnz55avnx5sf27m4NV0tybhIQE2Ww2paenO/edP2z04Ycf6vLLL1e9evXUqlUrPf744yooKJAkLVq0SJGRkfL395fdbtezzz5bbF2/d/41li9frp49e6pevXpq0aKF7rrrLh05cqTY57Zv3z4lJCSoRYsW8vLychlW++mnnzRq1CgFBwfL19dXbdu21f/93//p8OHDbuv48ssvFR0drfr166tJkyYaNWqUHA5Hqf9WhUoa4lu/fr1uvPFGNW/eXL6+vgoNDdVNN92kL7/8UtK5f58nn3xSktSvXz/nEPP53wP3+3/DN954QzabTdOnT3db61dffSWbzaZx48YV20dCQoLztTpmzBjndQvbREdHq27dujpw4IDba4wcOVI2m03ff/+92+NATcQQIVCFxo4dq1dffVWLFi3SAw884Nw/b948BQcHa8iQIW7PM8Zo9OjReuuttxQeHq7bbrtNPj4+WrNmjcaNG6etW7e6hJSTJ08qJiZGmzdv1pVXXqno6Gg5HA6NGjVK1157rcef5/Lly/XJJ59o2LBh6t27t1auXKkZM2bIGKNGjRpp2rRpGjp0qK666iotW7ZMDz30kFq2bKnbb7+91NdYunSp1qxZoxEjRmjAgAFau3at5syZo5SUFKWkpMjf39+l/aFDh3TllVeqcePGGjVqlE6fPq2AgABJ0tdff61rr71WeXl5uvnmmxUWFqYNGzbo+eef18qVK5WSkqImTZo4+/rss8903XXXycvLS6NGjVJISIg+++wz9e7dW40aNbLkb/jyyy/rvvvuk7+/v2688UbZ7Xbt27dPX375pZYuXao+ffooISFBkrR27VrFx8c7g9X5XwD9ezfddJPuuusuLVq0SI8//niR44Vf2hsXF1dsH8OGDdNvv/2m999/X0OHDlVERITL8YkTJ2rdunWaP3++HnnkEZdj2dnZev/999WjRw9FRkaW5k8B1AwGQKVKS0szkszAgQONMcZ07tzZdOu1DkUfAAAgAElEQVTWzXk8MzPT1KlTx/y///f/jDHGSDIdOnRw6ePVV181ksy4cePMmTNnnPvz8vLM9ddfbySZ1NRU5/4pU6YYSWb8+PEu/Xz88cdGkpFk5s+f73JMkomOjnbZFx0dbYp724iPjzeSTFpamnPf/PnzjSRTt25d8+233zr35+TkmODgYFOvXj3TokULs2fPHuexjIwM4+Pj4/I3KUnhNSSZTz/91OXYmDFjjCQzbdq0Is9NkhkzZozJz893OXb27Flz8cUXG0nmo48+cjk2efJk59/9/Pbt2rUzNpvNrF+/3rm/oKDA3Hbbbc5r/dHfqlDhv1VycrJz348//mjq1KljQkJCipxTUFBg9u3bV+L553P3b3j77bcbSS7/RsYYc/r0adOkSRMTGhpqCgoKSuyj8N/h968jY4zJzc01TZo0Me3bt3fpxxhjnnvuOSPJ/Otf/3JbL1BTMUQIVLExY8boxx9/1H/+8x9J54a8zp49q7FjxxZ7zj//+U/Vr19f//znP+Xt/b8b0T4+PnrqqackSYsXL3buf+ONN+Tj46Np06a59HPttdeqf//+Vj4dt26//Xb17NnT+bhhw4YaMmSITp48qbvuukvt2rVzHgsNDVWfPn30008/lWmC/zXXXFPkucyYMUN169bVggULirT38fHR7NmzVadOHZf9X331lXbt2qXrrrtOAwcOdDn26KOPqkmTJnrrrbd0+vRpSeeGBn/++WcNGTJEffr0cba12Wx6+umni/RfHnPmzNHZs2c1Y8YMl+G+wuuEhIRUqP/Ro0dL+t/dqkKrVq3SoUOHdPvtt1doWQZfX1/Fx8drz549Sk5Odjk2d+5c1atXT7fddlu5+weqIwIWUMXi4uJUt25d59yppKQkXX755erUqZPb9idPntTmzZsVFBSkWbNmaerUqS7bv//9b0nS9u3bJUnHjh1TWlqaLrroIrVo0aJIf3379vXQM/sfd0M/LVu2lKQiw0mFx86ePatffvml1Ndw9zxCQkLUvn177dmzR8eOHXM51rZtWzVt2rTIOYXzgNytAVa/fn1ddtllOnXqlHbu3ClJ+uGHH4q9fps2bRQaGlrq51Ccb7/9VpI8Npx7zTXXqEWLFvr3v//tsmzIm2++Kank4cHSmjBhgiTp9ddfd+7bsGGDfvrpJ40cOdI5PAtcKJiDBVSx4OBgxcbGavHixbrhhhu0e/du/eUvfym2/ZEjR2SM0b59+5wTmt05ceKEJOno0aPO67jTvHnzClRfOu7+51l4562kY2fOnCn1NUp6ftu3b1dOTo4aNmzost+dnJycEo8XhtTCv2tp/r7uJrOXxW+//SabzeYMpVarU6eObr31Vv3jH//QmjVrNGjQIB09elQrV67UpZdeWmzYL4sOHTooOjpa7777rg4fPqzGjRs7w9b48eMr3D9Q3XAHC6gGxo4dqyNHjmjcuHHy9/fXrbfeWmzbwkDSo0cPGWOK3QqHYgrbZ2Vlue2vLHeJvLzOvWW4G7orDBpV5Y+e3++DXHFDXoXtivu7/L6/wMDAUl3/fGX9OwYFBckYU+yn8KxQeJeqcJjwnXfeUW5uriV3rwpNnDhReXl5WrhwoY4fP64lS5aoU6dO6tWrl2XXAKoLAhZQDcTGxqpFixbat2+fhg8fXuJwScOGDdWxY0dt27ZNv/322x/2HRAQoLZt22r37t06ePBgkePr168vdZ2Fn4jbt2+fy/6CggLnUFlVcfc89u/frz179qh9+/Yud69KUjic6W6ZhJMnTyo1NVX+/v7q0KGDJKl79+7FXn/v3r1ul2oo7u8oye1SBVFRUZKkTz755A/rL5zzVdw3BBQnMjJSnTp10nvvvacTJ05o4cKFzjtbpVGa6w4fPlxNmzbV66+/riVLluj48eO64447ylQnUFMQsIBqwNvbWx988IGWL1/unKRekvvvv18nT57U+PHjnUOB50tLS3MZloqLi9Pp06f1xBNPuLT75JNP9Nlnn5W6zssuu0ySinwdynPPPae0tLRS9+MJa9asKfJcHnvsMZ05c0bx8fGl7qd3795q3769Vq9erU8//dTl2MyZM5Wdna1bb71VPj4+kqQ+ffqobdu2WrFihXM9KuncUhqPPPKI28BR3N9x6dKlWrt2bZH2d955p+rUqaPHHntMe/fudTn2+ztbjRs3liRlZmaW+jkXiouL04kTJ/TCCy9o3bp1uuaaa0o9hFya6/r4+Cg+Pl6bN2/WE088IR8fH/3pT38qc51ATcAcLKCa6Nmzp8sn7UoyceJEbdiwQQsWLNBXX32lAQMGKCQkRL/88ou2b9+ub775Rm+99ZbzE2eTJk3Su+++q9dee00//fSTrrrqKjkcDr399tsaPHiwVq5cWarrjhkzRrNnz9bUqVO1adMmtW/fXqmpqdqyZYuio6PdhoPKMnjwYMXGxmrEiBEKDQ3V2rVrlZKSou7du5c4p+33vLy8lJSUpIEDBzr7a9Omjb755ht9/vnnat++vWbNmuXS/tVXX1VsbKwGDBjgXAfr888/14EDB9StWzf9+OOPLtcYNmyY2rZtq6SkJDkcDkVGRmrbtm36/PPPFRsbq1WrVrm079q1q55//nndf//96ty5s4YNG6Y2bdro4MGDWrdunQYPHqznn39e0v8WGH300Ue1fft2BQYGKjAwUHfdddcfPvfbb79djzzyiKZOnSpjTJmGB6+88kr5+/vr+eefV05Ojpo1ayZJ+utf/+rSbsKECfr73/+u/fv3a9SoUS7riQEXlKpZHQKovX6/DtYfkZt1sAotWbLEDBgwwDRq1MjUrVvXtGrVysTExJi///3v5tdff3Vpe+jQITNhwgTTrFkz4+fnZ3r06GHefffdYtcvkpt1sIwxZuPGjaZ///6mXr16JiAgwAwdOtTs2rWrxHWw3K2NVNJ6TSWtE/V751/j3XffNT169DB+fn4mODjYTJw40Rw6dKjIOcU9t/P9+OOP5uabbzZNmzY1devWNW3atDH3339/kb9roXXr1pmrrrrK+Pv7m8aNG5sRI0aYvXv3Frt22M8//2yGDh1qGjZsaOrXr2/69+9vvvvuuxL/LsnJyWbIkCGmcePGxsfHx7Ru3doMHz7cfPXVVy7tkpKSTNeuXY2vr6+RZNq0aeM8VtJaZsYY069fPyPJNGjQwJw4ccJtm+L6WLlypenZs6fx9/d3u/5XoSuvvNLtumXAhcRmjDGVnOkAwDJJSUkaM2aM5s+f71zJHNVXbm6uWrVqpaCgIO3evbtC62sB1RlzsAAAlWbevHk6fPiwJk6cSLjCBY05WAAAj5s1a5Z+/fVXJSYmKjg4WHfeeWdVlwR4FAELAOBxkydPlo+Pj7p3764XX3yRldtxwWMOFgAAgMWYgwUAAGAxAhYAAIDFalzAMsYoJydHjGwCAIDqqsYFrGPHjikwMFDHjh0r1/kHDhyQzWYr1+Zfr74yMjIsfkYAAOBCU+s+Rej8zq64OZI9svQnHtym3LkJys7Olt1u90xxAADgglDrApaTPVJqU4aABQAAUEo1bogQAACguiNgAQAAWIyABQAAYDECFgAAgMUIWAAAABYjYAEAAFiMgAUAAGAxAhYAAIDFCFgAAAAWI2ABAABYjIAFAABgMQIWAACAxQhYAAAAFiNgAQAAWIyABQAAYDECFgAAgMUIWAAAABYjYAEAAFiMgAUAAGAxAhYAAIDFCFgAAAAWI2ABAABYjIAFAABgMQIWAACAxQhYAAAAFiNgAQAAWIyABQAAYDECFgAAgMUIWAAAABbzeMDatWuXevXqpfDwcEVFRWnr1q1F2ixfvlzdunVTRESEOnfurEcffVTGGE+XBgAA4BEeD1gTJ07UhAkTtHPnTk2aNEnjxo0r0mbAgAHatGmTNm3apO+//15r1qzRhx9+6OnSAAAAPMKjASsrK0sbN27U6NGjJUnDhw9XWlqa0tPTXdo1bNhQXl7nSsnNzVVeXp7zMQAAQE3j0RTjcDgUEhIib29vSZLNZpPdbldGRkaRtl9//bW6deum4OBg9e/fX4MHDy6x75ycHJctLy/PI88BAACgrDx+m8hms7k8Lm5uVa9evfTjjz/K4XDou+++0/r160vsNzQ0VIGBgc5t5syZltUMAABQEd6e7Dw0NFSZmZnKz8+Xt7e3jDFyOByy2+3FntOsWTMNHjxY77zzjq666qpi2zkcDgUEBDgf+/r6Wlo7AABAeXn0DlZwcLAiIyO1cOFCSdKyZcsUFhamsLAwl3Y7duxQQUGBJOnYsWNasWKFunXrVmLfAQEBLhsBCwAAVBceHyJMTExUYmKiwsPDNWvWLM2dO1eSFBsbq9TUVEnSO++8oy5duqh79+668sorNWDAAN1xxx2eLg0AAMAjPDpEKEkdOnRQSkpKkf2rVq1y/v7YY4/pscce83QpAAAAlYK1EAAAACxGwAIAALAYAQsAAMBiBCwAAACLEbAAAAAsRsACAACwGAELAADAYgQsAAAAixGwAAAALOY2YN1888366KOPZIyp7HoAAABqPLcBa//+/YqNjZXdbtcTTzyhtLS0yq4LAACgxnIbsL7++mtt27ZNt956q15//XVdfPHF6t+/vxYvXqy8vLzKrhEAAKBGKXYOVocOHTR79mw5HA4tW7ZMDRs2VEJCglq2bKn77rtPmzZtqsw6AQAAaow/nORep04dXX/99RozZox69uyp3377TfPnz1ePHj0UHR2tnTt3VkadAAAANUaJAWvHjh16+OGH1apVK40cOVLBwcFauXKlcnJytGbNGp04cUKjR4+urFoBAABqBG93O+fNm6e5c+dqw4YNatu2rR544AGNGTNGzZs3d7a5+uqr9dxzz+nqq6+utGIBAABqArcB6+6779aNN96o6dOnlxigLr74Yj3++OMeKw4AAKAmchuw9u3bpyZNmvzhyS1bttSUKVMsLwoAAKAmczsHq2fPnvrhhx/cnrBlyxa1a9fOo0UBAADUZG4DVnp6erHrXZ08eVIOh8OjRQEAANRkziHC3NxcnTx50vn1ODk5OTp8+LBL49zcXL333nsKCQmp3CoBAABqEGfA+tvf/qZp06ZJkmw2mwYOHFjsSVOnTvV4YQAAADWVM2ANGzZMYWFhMsZo7Nixeuyxx9S+fXuXxj4+PurYsaMiIiIqvVAAAICawhmwunfvru7du0s6dwdr8ODBatq0aZUVBgAAUFO5XaYhPj6+susAAAC4YDgDVrdu3fTWW2+pS5cu6tatW4kn2Wy2YpdxAAAAqO2cAatHjx6qX7++JOnSSy+VzWarsqIAAABqMmfAmj9/vnNnUlJSVdQCAABwQXC70GhxTp8+7ak6AAAALhhuA9abb76pl156yfl4y5Ytuvjii1WvXj3FxMQoKyur1BfYtWuXevXqpfDwcEVFRWnr1q1F2ixZskSRkZHq0qWLunbt6nJtAACAmsZtwHrmmWfk5fW/Q/fdd598fHz0/PPP68CBA3rkkUdKfYGJEydqwoQJ2rlzpyZNmqRx48YVadO6dWutXr1aW7Zs0ZdffqkXXnhBX331VTmeDgAAQNVzu0xDenq6OnXqJEnKzs7W+vXrtWLFCg0aNEjNmjXTX/7yl1J1npWVpY0bN+qTTz6RJA0fPlz33nuv0tPTFRYW5mzXu3dv5++BgYG65JJLlJaW5rIfAACgpnB7B8vLy8s53yo5OVl169ZVv379JEktW7ZUdnZ2qTp3OBwKCQmRt/e5HGez2WS325WRkVHsOVu3blVKSoquvvrqEvvOyclx2Yr7cmoAAIDK5jZgde/eXa+88op++uknvfjii7r66qvl6+srScrIyFDz5s1LfYHfL/dQ+GXS7mRmZmro0KGaM2fOH36hdGhoqAIDA53bzJkzS10TAACAJ7kdInz66ac1ZMgQdevWTQ0bNtSnn37qPLZ8+XJFRUWVqvPQ0FBlZmYqPz9f3t7eMsbI4XDIbrcXabt//34NGDBAjz32mEaMGPGHfTscDgUEBDgfFwZAAACAquY2YPXu3VsZGRnauXOn2rdvr6CgIOexcePG6aKLLipV58HBwYqMjNTChQuVkJCgZcuWKSwszGX+lSQdOHBA/fv318MPP1zqr+kJCAhwCVgAAADVRbHrYDVs2FA9evRwCVeSFBsbq/Dw8FJfIDExUYmJiQoPD9esWbM0d+5cZz+pqamSpCeeeEIZGRl64YUXFBERoYiICJeFTwEAAGoSt3ewJGn79u169913lZmZqdzcXJdjNpvNGZT+SIcOHZSSklJk/6pVq5y/v/baa3rttddKWzMAAEC15jZgvfnmmxozZox8fHwUGhoqHx8fl+N8TyEAAEDx3Aas6dOn68Ybb9T8+fPVoEGDyq4JAACgRnM7B2v//v268847CVcAAADl4DZgXXXVVdqyZUtl1wIAAHBBcDtE+NRTTykuLk5+fn665pprinySUJIaN27s8eIAAABqIrcBq0ePHpKku+66q9gJ7WfPnvVcVQAAADWY24A1b948PikIAABQTm4DVkJCQiWXAQAAcOEodiV3STpy5IjWr1+vt956S0eOHJEk5ebmqqCgoFKKAwAAqIncBqyzZ8/qkUceUWhoqKKjoxUXF6e0tDRJ0k033aTp06dXapEAAAA1iduANWXKFP3zn//UM888o61bt8oY4zx2ww036MMPP6y0AgEAAGoat3OwkpKS9PTTT+uuu+4q8mnB9u3ba8+ePZVSHAAAQE3k9g7WoUOH1LFjR7cnFBQU6MyZMx4tCgAAoCZzG7DCw8O1Zs0atyckJyerS5cuHi0KAACgJnM7RPh///d/Gj9+vOrWraubb75ZkpSZmamUlBS9+OKLSkpKqswaAQAAapRi18E6fPiwpk6dqqefflqSNGzYMNWrV08zZszQyJEjK7VIAACAmsRtwJKkBx98UBMmTNDXX3+t7OxsNW7cWL169VJAQEBl1gcAAFDjFAlY6enpev3115WSkqKDBw/KZrOpRYsW6t27tzp37kzAAgAA+AMuk9zfeustdezYUU8//bR27typwMBANWzYUDt27ND06dPVoUMHvf3221VVKwAAQI3gDFjbt2/X2LFj1bt3b/30009yOBz6+uuvlZKSIofDoc2bN+uKK65QfHy8du7cWZU1AwAAVGvOgPXyyy+rXbt2WrVqlds1sDp37qzVq1erbdu2evnllyu1SAAAgJrEGbDWrVunCRMmyMfHp9jGvr6+mjBhgr744ovKqA0AAKBGcgasvXv3qmvXrn94QteuXbV3716PFgUAAFCTOQPWsWPH1LBhwz88oUGDBjp+/LhHiwIAAKjJnAHLGCObzVaqk4wxHisIAACgpnNZB6tfv37y8nL79YROBQUFHi0IAACgpnMGrClTplRlHTXGtm3bynVe06ZNZbfbLa4GAABURwSs0jqWLUkaPXp0uU7386+nHdu3EbIAAKgFiv0uQvzO8XMBS3FzJHtk2c49uE25cxOUnZ1NwAIAoBYgYJWVPVJqU8aABQAAapWSZ7RbYNeuXerVq5fCw8MVFRWlrVu3Fmnz3XffqVevXqpXr55uvvlmT5cEAADgUR4PWBMnTtSECRO0c+dOTZo0SePGjSvSpmXLlnr++ef1j3/8w9PlAAAAeJxHA1ZWVpY2btzonBg+fPhwpaWlKT093aVd69atFRUVJV9fX0+WAwAAUCk8OgfL4XAoJCRE3t7nLmOz2WS325WRkaGwsLAK9Z2Tk+Py2NfXl4AGAACqBY8PEf5+dXirVoEPDQ1VYGCgc5s5c6Yl/QIAAFSUR+9ghYaGKjMzU/n5+fL29pYxRg6Hw5KlChwOhwICApyPuXsFAACqC4/ewQoODlZkZKQWLlwoSVq2bJnCwsIqPDwoSQEBAS4bAQsAAFQXHh8iTExMVGJiosLDwzVr1izNnTtXkhQbG6vU1FRJ0p49e9S6dWs9+OCDWrVqlVq3bq1XXnnF06UBAAB4hMcXGu3QoYNSUlKK7F+1apXz9/bt2yszM9PTpQAAAFQKj9/BAgAAqG0IWAAAABYjYAEAAFiMgAUAAGAxAhYAAIDFCFgAAAAWI2ABAABYjIAFAABgMQIWAACAxTy+kjv+Z9u2beU6r2nTppZ8QTYAAKgcBKzKcCxbkjR69Ohyne7nX087tm8jZAEAUEMQsCrD8XMBS3FzJHtk2c49uE25cxOUnZ1NwAIAoIYgYFUme6TUpowBCwAA1DhMcgcAALAYd7BqCCbIAwBQcxCwqjsmyAMAUOMQsKo7JsgDAFDjELBqigpMkGd4EQCAykXAupBVcHjR189fy5a+o5YtW5b5XMIZAKA2I2BdyCoyvPhzivIW/1lDhgwp16WZ+wUAqM0IWLVBeYYXD2w/97MCc7/Wr1+vjh07lu1ccfcLAFDzEbBQsvKEsyoamiSYAQCqCwIWrFdFQ5PMGQMAVBcELHhOZQ5NVnDOGOEMAGAlAhaqp7KGs4rMGavCcHb27FnVqVOnXNcl2AFA9UXAwoWlsif0VzCcVQR33QCg+iJgAYUqO5xtWS29P7XG3XUjnAHAHyNgAVaoSDirYXfdyhvOGA4FUJvUuoB1+vTpc7/kn67aQnBhOHvm3M+qej3VsHBWXrVpnlteXp5mzpypyZMny9fXt1KvjQsPr6eq4/GAtWvXLsXHxys7O1tBQUFKSkpSp06dirSbMWOG5s+fL0m67bbbNH36dI/U4wxYZwlYsMDZ/P/+rIGvp8oMZ1U4HFoRVRHsjh8/rieffFIPPvgg/0NEheXl5fF6qiIeD1gTJ07UhAkTlJCQoKVLl2rcuHFKSUlxabNu3TotXrxYP/74o7y9vdW7d2/16dNHAwcO9HR5AMqjvJ/yrEXz3Crq448/Vvv27ct8XnmDXU270wdUdx4NWFlZWdq4caM++eQTSdLw4cN17733Kj09XWFhYc52S5YsUUJCgurXry9JGjt2rBYvXkzAAvA/NWmeW0WC3Y5kaelfNXLkyLKdV4WqagiXUIjqzKMBy+FwKCQkRN7e5y5js9lkt9uVkZHhErAyMjIUHR3tfBwWFqalS5e67dMYI0nat2+fcnJynPt9fX1LdfvzxIkT/y3uh7I9mYPb/lvsRinvOOdWt3Orqt5fdpz7WdbXU0WvW9POrWn1nn+uTNnPPZNb/nOP/nLuZ99xUkiXsp27N1XasEjqd5cUHO758yTp4HblrU2ssjt95VXXx1ePPjJZjRs3LvO5fn5+ys3N/eOGFp1XkXNPnTolSZozZ478/f0r7bo18dzu3bsrIiKiXNcs1LBhQ9lstnMPjAelpqaaTp06uey77LLLzNq1a132DRkyxLz99tvOxytWrDD9+vVz26fD4TCS2NjY2NjY2Niq1Xb06FFnXvHoHazQ0FBlZmYqPz9f3t7eMsbI4XAUuS1rt9uVnp7ufLx3795ib92GhIRoz549qlu37v9Sokp/BwsAAMATGjZs6PzdowErODhYkZGRWrhwoRISErRs2TKFhYW5DA9K0ogRI3Tvvffq7rvvlre3t+bNm6cZM2a47dPLy0vt2rXzZNkAAAAV4uXpCyQmJioxMVHh4eGaNWuW5s6dK0mKjY1VamqqJCkmJkYjR45U165d1bFjR1177bUaNGiQp0sDAADwCJsx/501DgAAAEt4/A5WdbJr1y716tVL4eHhioqK0tatW6u6JNQg999/v8LCwmSz2bRlyxbnfl5XKI/c3FwNGzZM4eHhioiI0KBBg5xzUbOysjRo0CBdfPHF6tKli7788suqLRY1xrXXXqtu3bopIiJCffv21aZNmyTxPlUlrPrEYE3Qr18/M3/+fGOMMe+884654oorqrYg1Chr1641DofDtGnTxmzevNm5n9cVyuPUqVNm5cqVpqCgwBhjzEsvvWSuueYaY4wxY8aMMVOmTDHGGPPtt98au91uzpw5U1WlogY5cuSI8/fly5ebyMhIYwzvU1Wh1gwRZmVlKTw8XNnZ2c5PNLZs2VIbNmwoMukeKElYWJhWrFihLl268LqCZVJTU3XLLbdo9+7datCggdLS0tSsWTNJUlRUlGbPnq2YmJiqLRI1yoIFC/TSSy9p1apVvE9VgVrzZc+lXfQUKAteV7DKiy++qOuvv16HDh1SQUGBM1xJ50J9RkZGFVaHmuRPf/qTkpOTJUkfffQR71NVpFbNwTp/3SxJqiU37+BhvK5QUU8//bR27dqlp556ShKvKVTMG2+8IYfDoRkzZuihhx6SxGuqKtSagHX+oqeSil30FCgLXleoqGeffVbvvvuuVq9erXr16qlJkyaSpF9//dXZpqTFl4HixMfHKzk5Wa1bt+Z9qgrUmoB1/qKnkopd9BQoC15XqIjnnntOixcv1po1axQUFOTcP2LECL388suSpO+++04HDx5Unz59qqpM1BA5OTnav3+/8/Hy5cvVpEkT3qeqSK2Z5C5JO3bsUEJCgg4dOqSAgAAtWLBAnTt3ruqyUEPcc889ev/993Xw4EE1bdpUDRo00O7du3ldoVwyMzMVGhqqdu3aOb9ew9fXV998841++eUXxcXFKS0tTT4+PnrllVcUHR1dxRWjunM4HBo+fLhOnTolLy8vNWvWTM8++6wiIiJ4n6oCtSpgAQAAVIZaM0QIAABQWQhYAAAAFiNgAQAAWIyABQAAYDECFgAAgMUIWEAtk5CQIJvNpvT09Ar1U1vW0aluz9OKeqrbcwIuRAQsoAZKT0+XzWbToEGDim2zYcMG2Ww2JSQkVF5hqDCrAnBZTZ06VTabTV988UWlXhe4UNWaL3sGcM7MmTP117/+Va1atarqUlAOn332WbXoA0DJCFhALdOyZUu1bNmyqstAObVv375a9AGgZAwRArVMcUNQ+fn5mjlzptq3by8/Pz9ddNFFmjlzpn7++ecShxpPnDihBx98UK1atZKvr6+6deumpUuXlul04AkAACAASURBVLqe84emXnvtNXXu3Fl+fn6y2+2aPHmycnNzXdoXDo8mJCRo+/btuummm9S0adMiz+nrr7/W4MGD1bhxY/n5+emSSy7R1KlTdfLkSbd1vP/+++rZs6f8/f3VvHlzjR8/XkeOHHHbNiYmRjabze2xkob4PvjgAw0cOFBNmjSRn5+fwsLCFBcXpy1btkg6NzdqwYIFkqS2bdvKZrPJZrMpJibG2cfv509NmzZNNptNb775ptt6Fi1aJJvNpunTpxfbR0xMjP5/e/ceF1WZ/wH8MzgwIjrgDZEERlkxTUyKyFQCzYTQtI1E87JMeMGUtXz90rJVwGTRzFzNLSXzglKsF/LlLopa3t3INDMzV0UDGXQQTRO8IZfn94dxcpwBB+bIMMzn/XrNS89znnPOMzTRp3Oe5zuzZ88GAPTr10+6rkajQWVlJTp27IjWrVujtLTU5DWCgoLg5OSEoqIik/uJ7BHvYBERACAmJgZr166Fr68vJk+ejNLSUixatAjZ2dnVHlNWVoaBAwfiypUrePnll3Hz5k3861//QlRUFLZt24aBAweaff0PP/wQe/bswfDhwzF48GBs3boV8+bNww8//ICsrCyjQHPmzBn06tULjz32GKKjo3HlyhU4OTkBuPtltiNGjICTkxOGDx8Od3d3fP3115g9ezZ27NiB3bt3Q6VSSedas2YNoqOjoVarMWbMGLi5uSEzMxMDBgzAnTt3pPNaYvr06fjggw/QqlUrvPTSS3B3d4dOp8PXX3+NJ598Et27d8ebb76J1atX48cff8Qbb7whfQF0TRPSR48ejYSEBKSlpWHMmDFG+9PS0qBQKDB69Ohqz1EVnvfu3Yvo6Gjpem5ubnBwcMD48ePxt7/9DRkZGRg5cqTBsT/99BMOHTqEyMhIuLu71+6HQtSYCSKyObm5uQKA8PX1FQkJCSZfY8eOFQBEdHS0wbHR0dECgMjNzZXavv76awFABAYGips3b0rter1eeHh4mDyPj4+PACCGDh0qSktLjc4VFhZm1ntJSEgQAETTpk3F8ePHpfaysjLx/PPPCwBizZo1Ru8dgJg1a5bR+YqLi4Wbm5tQqVTixx9/lNorKyvFyJEjBQAxZ84cqf3atWtCrVYLFxcXcerUKan9zp074tlnnxUAhI+Pj8E1QkJCRHW/Pk39fLds2SIACH9/f3H58mWD/mVlZaKwsLDG4+/l4+NjNJ4+ffqIJk2aCL1eb9B+8eJFoVQqRd++fR94jqp/Drt37za6pl6vF0qlUvTr189o35QpUwQAkZWVZXK8RPaKAYvIBt0bMh70MidgabVaAUBs3rzZ6Fpz586tMWD98ssvRsf4+PiIVq1amfVeqv7DPn78eKN9hw4dEgDEc889Z/TePTw8DIJdlTVr1ggA4vXXXzfal5+fL5RKpfD19ZXaUlNTBQDx17/+1aj//v37ZQlYERERAoDYtWuXyWMedPy9TIWjpUuXCgBi4cKFBu2LFi0SAMSyZcseeI6aApYQQrz88stCoVCIM2fOSG23b98WrVq1Et7e3qKiouKB743InnAOFpENCwsLg7j7P0pGr5oe7d3vxx9/BAD07t3baJ+ptipubm7o2LGjUXuHDh3w22+/mX19AAgODjZqCwwMhLOzM44ePWq07/HHHzf56O6HH34AAIN5S1W8vLzg6+uLs2fPoqSkBMAf793U9Z955hkolZbPpPjuu++gUqkQEhJi8blMGT58OJycnJCWlmbQvnbtWjg5OSEqKsria8TGxkIIgRUrVkhtmzZtwpUrVxATEwMHB/7nhOhe/DeCiFBcXAwHBwe0bt3aaF+7du2qPc7V1dVku1KpRGVlZa3GUN38HXd3d1y7ds3scRUXF9e438PDw6Bf1blNXb9JkyYmfya19dtvv8HDw+OhhZCWLVti0KBBOHLkCE6ePAkAOHXqFL7//nsMHjwYLVu2tPgazz//PDp27IjVq1ejoqICAPDZZ5/BwcEBMTExFp+fqLFhwCIiqNVqVFZW4tdffzXad/HixXoZQ3Ur0IqKikwGuepW8anVagDVj7uqvapf1blNXb+iosLkz6QqKJWXlxvtMxUG3dzcUFhYWOvQWRtVE9yr7mJVrSo0NfG9LhQKBcaPHw+9Xo8tW7YgNzcXu3btQnh4OLy8vGS5BlFjwoBFRHj88ccB3C1tcD9TbQ/D/v37jdoOHz6MW7duoWfPnmafJyAgAABMViQ/f/48zp49i06dOqFFixYA/njvpq6fnZ1tMkRV3RE6f/68QXtlZaX0yPFeQUFBKC0txd69ex84/iZNmgCAdJfIXIMGDULLli3x+eefo7KyEl988QVatWqFiIgIs44357oxMTFwdHTEZ599hpUrV0IIgXHjxtVqnET2ggGLiDBq1CgAwJw5cwzqThUWFmLx4sX1Moa1a9fi559/lrbLy8vx7rvvAgCio6PNPs/QoUPh6uqKVatWGZxPCIEZM2agrKzMoKbX0KFDoVarsXLlSpw+fVpqLysrw8yZM01eIzAwEACwevVqg/aFCxciNzfXqP/kyZMBAG+88QauXLlisK+8vNzgblurVq0AAAUFBWa82z9UzbXKy8vD+++/j9zcXERFRZldYsKc67Zr1w5DhgzB1q1b8emnn8LDwwMvvvhircZJZC9YB4uIMGDAAIwaNQqff/45/P39MXToUJSWlmL9+vV4+umn8Z///OehT2IeMGAAevXqhREjRqBVq1bYunUrjh8/jrCwsBprON1PrVZj+fLlePXVV/H0009j+PDhaNu2LXbu3InDhw8jKCgI06ZNk/q7urrio48+glarxVNPPYURI0bA1dUVmZmZcHZ2Nln1/rXXXsP8+fORmJiIo0ePwtfXF4cPH8bx48cREhJidKcqIiICb731FhYsWIDOnTvjz3/+M9zd3XH+/Hns3LkTb731Ft58800AQP/+/bFgwQLExsZi2LBhcHFxgbe3t1H9KVPGjBmDlJQUJCQkSNvmqiow+re//Q0nT56Eq6srXF1d8frrrxv0i42NRUZGBoqKivD222/LsgiAqFGy2vpFIqqzqlIFNdWays7ONrtMgxB36zHNmTNHdOzYUTg5OYlOnTqJ5ORkcfDgQQFAvPHGGwb9TS31r1JTGYP73VseICUlRXTr1k2oVCrRoUMH8c477xjU5br3vd//vu63b98+8cILLwg3Nzfh5OQk/Pz8xKxZs8T169dN9t+0aZN48sknhUqlEu7u7mLcuHHiypUr1b7PI0eOiOeee040a9ZMqNVqMXToUJGTk1NjmYWMjAzRr18/4erqKlQqldBoNGLMmDEG9b+EEGL+/Pmic+fOwtHRUQAQISEh0r6afu5CCNGpUycBQHTq1KnaPtWdY/Xq1cLf31+oVCqT5SmEuFtP7JFHHhEKhULk5ORUew0ie6cQQggrZTsisgGfffYZxo8fj08++cToboYcEhMTMXv2bOzevdtkaQVqWC5cuAAfHx8EBwdj165d1h4OUYPFOVhEBODufKv7/3/r/PnzSEpKQpMmTTB48GArjYwakkWLFqG8vBwTJ0609lCIGjQ+PCciAMC8efOwZcsWBAcHw93dHfn5+cjMzERJSQkSExO5FN+OXbt2DUuXLsW5c+ekL+SOjIy09rCIGjQGLCICAISHh+PEiRPYsmULrl69iqZNm6JHjx6YNGmSWROsqfG6evUqZsyYAWdnZwQHB2PZsmVSWQciMo1zsIiIiIhkxjlYRERERDJjwCIiIiKSGQMWERERkcxsLmAJIVBcXGy0nJyIiIioobC5gFVSUgJXV1eUlJRYeyjUSOj1eigUijq/nJu5ID8/v96va40xExGReVimgeyeXq+/+5cxywDvgNodXPg/3F6hxeXLl+Ht7V1/1z2eBWxOrPcxExGReRiwiKp4BwA+tQwrv/vf//5X92Pqcl39ybofe//1a6lNmzZ1CmZ6vf6PUFlP1yQishYGLCJLlFwGAIwePdrKA6kFC8esauqMjI0b0L59e7OPuXTpEsLDw+t0PQBo6twMp07+jyGLiGwGAxaRJa7fDSsWPearb5aM+ZdslKa/WffvJeQjTSKyE7IErJycHERHR+Py5ctwc3PD6tWr0a1bN6N+SUlJWLVqFQBg5MiRmDNnjsH+S5cuoXv37ggODsbGjRvlGBrZkbo+gqrrozIDljzmsxZLxlzboFQVJi14pElEZEtkCVixsbGYMGECtFotNm7ciLFjxyI7O9ugz759+5Ceno5jx45BqVSiT58+6Nu3L8LCwqQ+kyZNQkREBFcIUq3p9Xp4enpaexj2o7ZBydphkoionlkcsIqKinDkyBHs2LEDABAZGYm4uDjk5eVBo9FI/datWwetVgsXFxcAQExMDNLT06WA9fnnn6Ndu3YIDAxEZmampcMiOyPLijwiIiKZWBywdDodPD09oVTePZVCoYC3tzfy8/MNAlZ+fj5CQkKkbY1GIz0GvHDhAhYuXIi9e/ea/WiwuLjYYFulUkGlUln4bsjm2eKjOjJLfa96JCKyhCyPCBUKhcF2dVXW7+13b5/x48dj/vz5aN68udnX9PLyMthOSEhAYmKi2ccTkY2wcNUjVyASkTVYHLC8vLxQUFCA8vJyKJVKCCGg0+mMfpl5e3sjLy9P2j537pzUJzs7G2PHjgUAXL9+Hbdu3UJYWBi2b99e7XV1Oh3UarW0zbtXjUddJqvLMlGdGiZLVj1yBSIRWYnFAcvd3R0BAQFIS0uDVqtFRkYGNBqNweNBABg2bBji4uIwadIkKJVKrFy5EklJSQCAK1euSP1Wr16NzMzMBz4qVKvVBgGLGgdOVqdqcQUiEdkQWR4RpqSkQKvVIjk5GWq1GqmpqQCAiIgIvPfeewgMDERoaCiioqLg7+8PABgxYoRFhQepcarzZHVOVKcacP4WEdU3WQJWly5djMoyAMDWrVsNtuPj4xEfH1/jubRaLbRarRzDIlvGMgAkB87fIiIrYSV3eiisWvSTqArnbxGRlTBgkew4j4oaHM7fIqJ6xoBFsmPRTyIisncMWPTwsOgnERHZKQYsIqIacAUiEdUFAxZVixPVya5xBSIRWYABi0ziRHWye1yBSEQWYMAikzhRneh3XIFIRHXAgEU140R1IiKiWmPAIiJ6SDhBnsh+MWA1cpyoTmQFnCBPZPcYsBoxTlQnshJOkCeyewxYjRgnqhNZGSfIE9ktBix7wInqRERE9crB2gMgIiIiamwYsIiIiIhkxkeENoArAYnsD0s8ENk2BqwGjisBiewMSzwQNQoMWA0cVwIS2RmWeCBqFBiwbAVXAhLZF5Z4ILJpnOROREREJDMGLCIiIiKZ8REhEVEjU5cViFx9SCQvBiwiosbCghWIXH1IJC8GLCKixqKuKxC5+pBIdgxYRESNDVcgElmdLAErJycH0dHRuHz5Mtzc3LB69Wp069bNqF9SUhJWrVoFABg5ciTmzJkDANi0aRMSEhLg4OCAsrIyvPTSS0hKSoJCoZBjeA0Cq7ETERHZD1kCVmxsLCZMmACtVouNGzdi7NixyM7ONuizb98+pKen49ixY1AqlejTpw/69u2LsLAwDBgwAEOHDoWDgwPu3LmDvn374umnn8aQIUPkGJ7VsRo7ERGRfbE4YBUVFeHIkSPYsWMHACAyMhJxcXHIy8uDRqOR+q1btw5arRYuLi4AgJiYGKSnpyMsLAwtWrSQ+t2+fRulpaVwcGg8FSRYjZ2IiMi+WBywdDodPD09oVTePZVCoYC3tzfy8/MNAlZ+fj5CQkKkbY1Gg40bN0rb33zzDSZOnIjTp09j0qRJGDRoUI3XLS4uNthWqVRQqVSWvp2Hi9XYiYiI7IIsjwjvnyslhHhgv/v79O7dG8eOHcOlS5fw8ssvY//+/Xj22WervaaXl5fBdkJCAhITE2s5ciIiqlLXOZ+soUVkzOKA5eXlhYKCApSXl0OpVEIIAZ1OZ/Qvm7e3N/Ly8qTtc+fOmfwXsm3bthg0aBA2bNhQY8DS6XRQq9XSdoO/e0VE1FBZUD8LYA0tIlMsDlju7u4ICAhAWloatFotMjIyoNFoDB4PAsCwYcMQFxeHSZMmQalUYuXKlUhKSgIAnDp1Cp07d4aDgwNKSkqQmZmJ6OjoGq+rVqsNAhYREdVRXetnAayhRVQNWR4RpqSkQKvVIjk5GWq1GqmpqQCAiIgIvPfeewgMDERoaCiioqLg7+8PABgxYgTCw8MBABs2bMAXX3wBR0dHVFRU4JVXXsG4cePkGBoREZmL9bOIZCNLwOrSpYtRWQYA2Lp1q8F2fHw84uPjjfrNnDkTM2fOlGMoRERERFbXeGohEBERETUQDFhEREREMmPAIiIiIpIZv+yZiIgsxhpaRIYYsIiIqO5YQ4vIJAYsIiKqO9bQIjKJAYuIiCzHGlpEBjjJnYiIiEhmDFhEREREMmPAIiIiIpIZ52AREZFVscQDNUYMWEREZB0s8UCNGAMWERFZB0s8UCPGgEVERNbFEg/UCDFg1YJer4der6/1cXWdX0BERES2iQHLTHq9Hp6entYeBhEREdkABiwzSXeu6jJX4HgWsDlR9jERERFRw8SAVVt1mSugP/lwxkJEREQNEguNEhEREcmMAYuIiIhIZnxESERENotV4KmhYsAiIiLbwyrw1MAxYBERke1hFXhq4BiwiIjIdrEKPDVQnOROREREJDMGLCIiIiKZMWARERERyUyWgJWTk4PevXvDz88PQUFBOHHihMl+SUlJ8PX1ha+vL2bNmiW1r1u3DgEBAejevTv8/f2xZMkSOYZFREREZBWyBKzY2FhMmDABp0+fxvTp0zF27FijPvv27UN6ejqOHTuGEydOICsrC9u3bwcAdOjQAVlZWTh+/DgOHDiAxYsX47///a8cQyMiIiKqdxavIiwqKsKRI0ewY8cOAEBkZCTi4uKQl5cHjUYj9Vu3bh20Wi1cXFwAADExMUhPT0dYWBj69Okj9XN1dcWjjz6K3Nxcg3YiIiI5sUgpPUwWByydTgdPT08olXdPpVAo4O3tjfz8fIOAlZ+fj5CQEGlbo9Fg48aNRuc7ceIEsrOz8emnn9Z43eLiYoNtlUoFlUplwTshIiK7wCKlVA9kqYOlUCgMtoUQD+xnqk9BQQGGDh2KZcuWwdPTs8Zrenl5GWwnJCQgMTHRzBETEZHdYpFSqgcWBywvLy8UFBSgvLwcSqUSQgjodDqjD563tzfy8vKk7XPnzhn0uXDhAgYMGICZM2di2LBhD7yuTqeDWq2Wtnn3ioiIaoVFSukhsniSu7u7OwICApCWlgYAyMjIgEajMXg8CADDhg1Damoqbty4gdLSUqxcuRIjRowAAOj1ejz33HN4++23ER0dbdZ11Wq1wYsBi4iIiBoKWVYRpqSkICUlBX5+fpg3bx5WrFgBAIiIiMDhw4cBAKGhoYiKioK/vz+6du2KgQMHIjw8HAAQHx+P/Px8LF68GD179kTPnj2xatUqOYZGREREVO9kmYPVpUsXZGdnG7Vv3brVYDs+Ph7x8fFG/ZYvX47ly5fLMRQiIiIiq2MldyIiIiKZMWARERERyUyWR4RERET2pC5FSlmg1L4wYBEREZnLgiKlLFBqXxiwiIiIzFXXIqUsUGp3GLCIiIhqi0VK6QE4yZ2IiIhIZgxYRERERDJjwCIiIiKSmV3OwdLr9dDr9bU6pi5LcomIiMg+2V3A0uv18PT0tPYwiIiIqBGzy4AFoPZLbI9nAZsTH8qYiIjIPtT1aQiLlNoeuwtYktousdWffHhjISKixs2CAqUAi5TaIvsNWERERPWlrgVKARYptVEMWERERPWFBUrtBss0EBEREcmMAYuIiIhIZgxYRERERDJjwCIiIiKSGQMWERERkcwYsIiIiIhkxoBFREREJDMGLCIiIiKZsdAoERGRDeD3GNoWBiwiIqKGjN9jaJMYsIiIiBoyfo+hTZJlDlZOTg569+4NPz8/BAUF4cSJEyb7JSUlwdfXF76+vpg1a5bUfujQIfTu3RvNmjXDK6+8IseQiIiIGpeq7zGszcujq7VHbbdkCVixsbGYMGECTp8+jenTp2Ps2LFGffbt24f09HQcO3YMJ06cQFZWFrZv3w4AaN++PRYtWoR//OMfcgyHiIiIyKosDlhFRUU4cuSI9Gw4MjISubm5yMvLM+i3bt06aLVauLi4QKVSISYmBunp6QCADh06ICgoCCqVytLhEBEREVmdxQFLp9PB09MTSuXd6VwKhQLe3t7Iz8836Jefnw8fHx9pW6PRGPWpjeLiYoNXaWlpnc9FREREJCdZHhEqFAqDbSHEA/tV18dcXl5ecHV1lV5z58616HxEREREcrF4FaGXlxcKCgpQXl4OpVIJIQR0Op3RagVvb2+Dx4bnzp2zaEWDTqeDWq2Wtvl4kYiIiBoKiwOWu7s7AgICkJaWBq1Wi4yMDGg0Gmg0GoN+w4YNQ1xcHCZNmgSlUomVK1ciKSmpztdVq9UGAYuIiIhMY5HS+idLHayUlBRotVokJydDrVYjNTUVABAREYH33nsPgYGBCA0NRVRUFPz9/QEAI0aMQHh4OADg7NmzCAkJwc2bN3H79m106NAB7777LiZNmiTH8IiIiOwTi5RajSwBq0uXLsjOzjZq37p1q8F2fHw84uPjjfr5+vqioKBAjqEQERFRFRYptRpWciciImrsqoqUUr2RZRUhEREREf2BAYuIiIhIZgxYRERERDJjwCIiIiKSGSe5ExERUbVYQ6tuGLCIiIjIGGtoWYQBi4iIiIyxhpZFGLCIiIioeqyhVSec5E5EREQkMwYsIiIiIpkxYBERERHJjAGLiIiISGYMWEREREQyY8AiIiIikhnLNBAREdFDYc9V4BmwiIiISF6sAs+ARURERDJjFXgGLCIiInpI7LgKPCe5ExEREcmMAYuIiIhIZgxYRERERDJjwCIiIiKSGSe5ExERUYNj6zW0GLCIiIio4WgkNbQYsIiIiKjhaCQ1tOwuYN25c+fuX8rvWHcg1DhUlN39k58nkgs/UyQnW/482XgNLVkmuefk5KB3797w8/NDUFAQTpw4YbJfUlISfH194evri1mzZpm9T05SwKqwwQ8bNTwV5b//yc8TyYSfKZITP09WI8sdrNjYWEyYMAFarRYbN27E2LFjkZ2dbdBn3759SE9Px7Fjx6BUKtGnTx/07dsXYWFhNe4jIiIiqo26TJCXe3K8xQGrqKgIR44cwY4dOwAAkZGRiIuLQ15eHjQajdRv3bp10Gq1cHFxAQDExMQgPT0dYWFhNe4jIiIiMosFE+TlnhxvccDS6XTw9PSEUnn3VAqFAt7e3sjPzzcIWPn5+QgJCZG2NRoNNm7c+MB99xNCAADOnz+P4uJiqV2lUkGlUj1wvDdu3Ph94D+a9warFP6ehvOPAKXXeWxDO9Za47146u6ftf08WXpdWzvW1sZrzWOt8ZmyxZ+TrR1rT58nax57Zv/dP/u9Drj7mX/cVR1u71iIvLw8uLm51e6a92jRogUUCsXdDWGhw4cPi27duhm0BQYGir179xq0DR48WKxfv17azszMFP369XvgvvvpdDoBgC+++OKLL7744qtBva5duyblFYvvYHl5eaGgoADl5eVQKpUQQkCn0xndYvP29kZeXp60fe7cOalPTfvu5+npibNnz8LR0fGPlAjz72ARERERPQwtWrSQ/q4Q4vdnbhYIDQ2FVquVJrkvWLAA3377rUGfPXv2IC4uDgcPHpQmsiclJSE8PLzGfURERES2RpYyDSkpKUhJSYGfnx/mzZuHFStWAAAiIiJw+PBhAHdDWFRUFPz9/dG1a1cMHDhQClA17SMiIiKyNbLcwSIiIiKiP8hyB8tWmFsQlciUKVOmQKPRQKFQ4Pjx41I7P1dUF7dv38ZLL70EPz8/9OzZE+Hh4dJc1KKiIoSHh6Nz587o3r07Dhw4YN3Bks0YOHAgevTogZ49eyI4OBhHjx4FwN9TVmHJCkJb069fP7Fq1SohhBAbNmwQvXr1su6AyKbs3btX6HQ64ePjI3766SepnZ8rqotbt26JLVu2iMrKSiGEEEuWLBHPP/+8EEKI1157TSQkJAghhPjuu++Et7e3KCsrs9ZQyYZcvXpV+vumTZtEQECAEIK/p6zBbh4RFhUVwc/PD5cvX5ZWO7Zv3x7ffvutQb0uogfRaDTIzMxE9+7d+bki2Rw+fBgjRozAmTNn0Lx5c+Tm5qJt27YAgKCgIMyfPx+hoaHWHSTZlNTUVCxZsgRbt27l7ykrsJsveza3ICpRbfBzRXL56KOP8OKLL+LXX39FZWWlFK6Au6E+Pz/fiqMjW/KXv/wFu3fvBgBs27aNv6esxK7mYN1bNwsA7OTmHT1k/FyRpZKTk5GTk4O///3vAPiZIsusWbMGOp0OSUlJmDZtGgB+pqzBbgLWvQVRAVRbEJWoNvi5IkstWLAAX375JbKystCsWTO0bt0aAHDp0iWpT03Fl4mqEx0djd27d6NDhw78PWUFdhOw3N3dERAQgLS0NABARkYGNBoNb4+SRfi5IkssXLgQ6enp+Oqrrwy+/2zYsGH4+OOPAQCHDh1CYWEh+vbta61hko0oLi7GhQsXpO1NmzahdevW/D1lJXYzyR0ATp06Ba1Wi19//RVqtRqpqal47LHHrD0sshGTJ0/G5s2bUVhYiDZt2qB58+Y4c+YMP1dUJwUFBfDy8kKnTp2kr9dQqVQ4ePAgLl68iDFjxiA3NxdOTk745JNPEBISYuURU0On0+kQGRmJW7duwcHBAW3btsWCBQvQs2dP/p6yArsKWERERET1wW4eERIRERHVFwYsIiIiIpkxYBERERHJjAGLiIiISGYMWEREREQyY8AiIiIikhkDFhGZJTExEQqFQno5Ozvjsccew6JFi+r9azfi4uIeWCQxMTERDpPaZwAAB0NJREFUzZs3l+V6q1evhkKhwOXLl2s1rj179kChUODw4cOyjIOIbIfdfNkzEVnO2dkZu3btAgDcvHkTO3bswNSpU6FUKhEXF2fl0TU8TzzxBLKzs9G1a1drD4WI6hkDFhGZzcHBAb169ZK2+/fvj++++w5ffvklA5YJarXa4OdFRPaDjwiJyCItWrRAWVmZQduVK1cwbtw4tG3bFs7OzggKCsKOHTsM+oSGhmLw4MHYsGEDunTpgubNm6N///44e/asQb8LFy5gyJAhaNasGR555BF88MEHtRrfsWPH0LdvXzRr1gzdu3fH9u3bDfZXVlYiOTkZHTt2hEqlQufOnbFo0aIHnteccZl6RKhQKDB//nwkJCSgXbt2aNOmDV577TXcuHHD4NgDBw4gICAATZs2Rffu3bFt2zZ0794dWq1W6vPzzz8jIiICrVu3RrNmzdClSxfMnz+/Vj8fIno4eAeLiGqlvLwcwB+PCLdt22bwH/WKigq88MILOHPmDObOnYsOHTpg6dKliIiIwFdffYV+/fpJfY8ePYpLly5h3rx5qKiowJtvvonRo0cjOztb6jN06FAUFBRg6dKlcHNzw9y5c1FQUACl8sG/vsrKyjB69GhMmTIFs2bNwty5cxEZGYlz586hdevWAIBp06Zh0aJFePfddxEcHIyvvvoKU6dORUlJCWbNmlXtuS0Z1z//+U8EBwcjNTUVp06dwvTp09GuXTvMmzcPAKDX6xEeHo4nnngC69evx7Vr1zB58mRcu3bN4DxDhgyBu7s7VqxYAVdXV5w5cwYFBQUPvD4R1QNBRGSGhIQEAcDopdVqRWVlpdRv8+bNAoDYsmWL1FZRUSG6du0qQkJCpLaQkBDh4uIiioqKpLbly5cLAEKn0wkhhMjKyhIAxM6dO6U+V65cES4uLsLHx8es8d47jpycHAFArF27VgghxKVLl4Sjo6OYNm2awbETJkwQLi4uoqSkRAghxKpVqwQAcenSpVqNa/fu3QKAOHTokNQGQDz11FMG1xs1apTw9fWVtqdNmyZcXV1FcXGx0bmio6OlsQMQ//73v2v8ORCRdfARIRGZzdnZGYcOHcKhQ4dw4MABLF68GJs2bcLEiROlPvv370eLFi0QEREhtTk4OCAqKgrffPMNKioqpPaePXuibdu20na3bt0AQLoLc/DgQbi6uqJ///5Sn5YtWxps18TBwQEDBgyQtv/0pz/BycnJ4PxlZWUYPny4wXGvvvoqbty4gR9++MHkeS0d18CBAw22u3XrZnDn6dChQ+jXrx9atGghtYWGhsLV1VXabt26NXx8fDBjxgykpqbyzhVRA8OARURmc3BwQGBgIAIDA9GnTx/p0dunn36Kn3/+GQBw9epVtGvXzuhYDw8PlJWV4fr161Kbm5ubQR8nJycAwO3btwHcfVR2bwCrYur8pjg7O0vnrOLo6Cid/+rVq9LY7h8rcHcumSmWjsvU+y4tLX3g+e9tUygU2L59O7p27YrJkyfDy8sLTz75JPbt22fWGIjo4WLAIiKLVN11On78OACgVatWuHjxolG/wsJCODo61qo2Vfv27XHp0iWjdlPnr4tWrVqZPF9hYaHB/voeV3Xnv7+tS5cu2LBhA65evYo9e/agadOmePHFFw1CLBFZBwMWEVmkKli1adMGANC3b1+UlJRg27ZtUp/Kykps2LABvXv3RpMmTcw+d1BQEK5duybV3gLu3nW6d9sSQUFBcHR0xPr16w3a161bBxcXFzzxxBNWGddTTz2FXbt2oaSkRGrbvXu30ST3Ko6OjggJCcE777yD4uJiXLhwQZZxEFHdcRUhEZmtsrIS3377LQDgzp07+P7775GUlIRu3brh2WefBQAMGjQIQUFBGDNmDJKTk9GhQwcsW7YMp06dwscff1yr61WtpBs1ahTef/99uLm5ITk52egRW121adMGU6ZMwYIFC6BSqdCnTx/s3LkTKSkpmD17NlxcXKwyrqlTp+KTTz7BoEGDMG3aNPz2229ITExE69at4eBw9/+Ljx07hv/7v//D8OHD4evri2vXrmHu3LnQaDTw9fWVZRxEVHcMWERktlu3buGZZ54BACiVSnh5eWH06NFISEiAo6MjAKBJkybIysrCtGnTMGPGDFy/fh09evTAli1bEBoaWqvrKRQKbN68GRMnTkRsbCxatmyJKVOmoKCgAJmZmbK8p/nz56Nly5ZYvnw55s6dC29vb3z44YeYOnWq1cbVvn17ZGVlYcqUKXjllVfg6+uLJUuWYOLEidJEdw8PD3h4eGDu3Lk4f/48XF1dERwcjLS0tFrdJSSih0MhRD1/iRgREdXa6dOn8eijj2LVqlWIjo629nCI6AEYsIiIGqAZM2agR48e8PT0xC+//ILk5GTcunULJ0+elO1LrIno4eEjQiKiBujOnTt45513UFhYCGdnZ4SGhuKDDz5guCKyEbyDRURERCQzlmkgIiIiktn/A6dcKeXpzVzpAAAAAElFTkSuQmCC\" />"
      ]
     },
     "execution_count": 69,
     "metadata": {},
     "output_type": "execute_result"
    }
   ],
   "source": [
    "#Make individual histograms for each productivity level\n",
    "h1 = histogram(df[df[:Z].==z_grid[1],:][2],bins=50,normalized=true,title=\"Low productivity\");\n",
    "h2 = histogram(df[df[:Z].==z_grid[2],:][2],bins=50,normalized=true,title=\"Medium productivity\",ylabel=\"Density\");\n",
    "h3 = histogram(df[df[:Z].==z_grid[3],:][2],bins=50,normalized=true,title=\"High productivity\",xlabel=\"Bond holdings\");\n",
    "\n",
    "# Combine into single plot\n",
    "p1 = plot(h1,h2,h3,layout=(3,1),legend = false, fmt= :png, size=(600,600),grid=false)\n",
    "#savefig(\"/Users/Anirudh/Desktop/GitHub/PhD_Coursework/ECON611/Replication/TeX/bonds.pdf\")"
   ]
  },
  {
   "cell_type": "code",
   "execution_count": 38,
   "metadata": {
    "ExecuteTime": {
     "end_time": "2018-11-28T13:10:07.861000-05:00",
     "start_time": "2018-11-28T18:10:05.362Z"
    },
    "hidden": true
   },
   "outputs": [
    {
     "data": {
      "image/png": "[encoded data removed]",
      "text/plain": [
       "PyPlot.Figure(PyObject <matplotlib.figure.Figure object at 0x143371490>)"
      ]
     },
     "metadata": {},
     "output_type": "display_data"
    }
   ],
   "source": [
    "# Force y axis to be the same!\n",
    "p2 = plot(h1,h2,h3,layout=(3,1),legend = false, fmt= :png, size=(600,600),grid=false,ylim=[0,0.72])\n",
    "savefig(\"/Users/Anirudh/Desktop/GitHub/PhD_Coursework/ECON611/Replication/TeX/bonds2.pdf\")"
   ]
  },
  {
   "cell_type": "code",
   "execution_count": 41,
   "metadata": {
    "hidden": true
   },
   "outputs": [
    {
     "data": {
      "text/html": [
       "6.794129365931188"
      ],
      "text/plain": [
       "6.794129365931188"
      ]
     },
     "execution_count": 41,
     "metadata": {},
     "output_type": "execute_result"
    }
   ],
   "source": [
    "mean(B) # Aggregate bond holdings in steady state"
   ]
  },
  {
   "cell_type": "markdown",
   "metadata": {
    "collapsed": true
   },
   "source": [
    "# Problems with my solution"
   ]
  },
  {
   "cell_type": "markdown",
   "metadata": {},
   "source": [
    "The above solution is incomplete (i.e. not an actual solution for steady state), because I do not verify that all markets clear! For example, aggregate labor supply is given by ```Lbar``` below (see equation (12) in MNS). But this does not equal aggregate labor demand, $\\bar{N}$, since in the steady state, market clearing and linear production technology imply $\\bar{Y}=\\bar{N} = \\bar{C}$. Furthermore, I haven't imposed bond market clearing anywhere! Accordingly, my attempted solution does not represent steady state equilibrium. "
   ]
  },
  {
   "cell_type": "code",
   "execution_count": 57,
   "metadata": {
    "ExecuteTime": {
     "end_time": "2018-11-29T10:58:06.190000-05:00",
     "start_time": "2018-11-29T15:58:04.899Z"
    }
   },
   "outputs": [
    {
     "data": {
      "text/html": [
       "1.021002137098309"
      ],
      "text/plain": [
       "1.021002137098309"
      ]
     },
     "execution_count": 57,
     "metadata": {},
     "output_type": "execute_result"
    }
   ],
   "source": [
    "L    = C.^(-γ/ψ).*((Wbar*Z).^(1/ψ));\n",
    "zL   = L.*Z;\n",
    "Lbar = mean(zL)"
   ]
  },
  {
   "cell_type": "code",
   "execution_count": 58,
   "metadata": {
    "ExecuteTime": {
     "end_time": "2018-11-29T10:58:08.334000-05:00",
     "start_time": "2018-11-29T15:58:08.330Z"
    }
   },
   "outputs": [
    {
     "data": {
      "text/html": [
       "1.0514125015946703"
      ],
      "text/plain": [
       "1.0514125015946703"
      ]
     },
     "execution_count": 58,
     "metadata": {},
     "output_type": "execute_result"
    }
   ],
   "source": [
    "mean(C)"
   ]
  },
  {
   "cell_type": "markdown",
   "metadata": {},
   "source": [
    "However, I now have a better understanding of MNS's explanation of their solution method (in their computational appendix). First, note that my attempted solution starts by guessing $\\bar D$ and iterating until convergence. However, MNS say we need to start by guessing the entire vector of values in $X$! When this guess is not an equilibrium we need to move the entire vector closer to one that is -- which is where their \"auxillary model\" comes it. In my attempt, I simply update my guess of $\\bar D$, which is easy because it is a scalar.\n",
    "\n",
    "In summary, my attempted solution resembles the solution for a simple Hugget-Beweley model (in which you start by guessing a steady state interest rate, and iterate to convergence); but MNS's model is more complicated!"
   ]
  },
  {
   "cell_type": "code",
   "execution_count": 18,
   "metadata": {
    "ExecuteTime": {
     "end_time": "2018-11-29T10:19:21.705000-05:00",
     "start_time": "2018-11-29T15:19:21.699Z"
    }
   },
   "outputs": [
    {
     "data": {
      "text/html": [
       "5.911380247628902"
      ],
      "text/plain": [
       "5.911380247628902"
      ]
     },
     "execution_count": 18,
     "metadata": {},
     "output_type": "execute_result"
    }
   ],
   "source": [
    "1.4*mean(C)*4"
   ]
  },
  {
   "cell_type": "code",
   "execution_count": 32,
   "metadata": {
    "ExecuteTime": {
     "end_time": "2018-11-29T10:46:56.883000-05:00",
     "start_time": "2018-11-29T15:46:56.880Z"
    }
   },
   "outputs": [],
   "source": [
    "    c1 = LinInterp(b_grid,G[1,:]); \n",
    "    c2 = LinInterp(b_grid,G[2,:]);\n",
    "    c3 = LinInterp(b_grid,G[3,:]);"
   ]
  },
  {
   "cell_type": "code",
   "execution_count": 35,
   "metadata": {
    "ExecuteTime": {
     "end_time": "2018-11-29T10:47:47.743000-05:00",
     "start_time": "2018-11-29T15:47:34.573Z"
    }
   },
   "outputs": [
    {
     "data": {
      "text/plain": [
       "1000000-element Array{Float64,1}:\n",
       " 0.0       \n",
       " 0.0597676 \n",
       " 0.115101  \n",
       " 0.166339  \n",
       " 0.213793  \n",
       " 0.257752  \n",
       " 0.914103  \n",
       " 1.54909   \n",
       " 2.16468   \n",
       " 2.76239   \n",
       " 3.34346   \n",
       " 3.90889   \n",
       " 3.79583   \n",
       " ⋮         \n",
       " 2.35921e-5\n",
       " 1.93548e-5\n",
       " 1.5879e-5 \n",
       " 1.3028e-5 \n",
       " 1.06895e-5\n",
       " 8.77127e-6\n",
       " 7.19783e-6\n",
       " 5.90721e-6\n",
       " 4.84857e-6\n",
       " 3.98021e-6\n",
       " 3.26793e-6\n",
       " 2.68367e-6"
      ]
     },
     "execution_count": 35,
     "metadata": {},
     "output_type": "execute_result"
    }
   ],
   "source": [
    "BB = get_bonds(Z,G,D,0,c1,c2,c3)"
   ]
  },
  {
   "cell_type": "code",
   "execution_count": 54,
   "metadata": {
    "ExecuteTime": {
     "end_time": "2018-11-29T10:57:23.252000-05:00",
     "start_time": "2018-11-29T15:57:23.247Z"
    }
   },
   "outputs": [
    {
     "data": {
      "text/html": [
       "0.02929308462154243"
      ],
      "text/plain": [
       "0.02929308462154243"
      ]
     },
     "execution_count": 54,
     "metadata": {},
     "output_type": "execute_result"
    }
   ],
   "source": [
    "1.4*4*mean(C)*(Rbar-1)/Rbar"
   ]
  },
  {
   "cell_type": "code",
   "execution_count": 50,
   "metadata": {
    "ExecuteTime": {
     "end_time": "2018-11-29T10:56:29.394000-05:00",
     "start_time": "2018-11-29T15:56:29.390Z"
    }
   },
   "outputs": [
    {
     "data": {
      "text/html": [
       "5.887910008930153"
      ],
      "text/plain": [
       "5.887910008930153"
      ]
     },
     "execution_count": 50,
     "metadata": {},
     "output_type": "execute_result"
    }
   ],
   "source": [
    "1.4*mean(C)*4"
   ]
  },
  {
   "cell_type": "code",
   "execution_count": 56,
   "metadata": {
    "ExecuteTime": {
     "end_time": "2018-11-29T10:57:27.930000-05:00",
     "start_time": "2018-11-29T15:57:27.928Z"
    }
   },
   "outputs": [
    {
     "data": {
      "text/html": [
       "0.029293084158605487"
      ],
      "text/plain": [
       "0.029293084158605487"
      ]
     },
     "execution_count": 56,
     "metadata": {},
     "output_type": "execute_result"
    }
   ],
   "source": [
    "τ"
   ]
  },
  {
   "cell_type": "code",
   "execution_count": 71,
   "metadata": {
    "ExecuteTime": {
     "end_time": "2018-11-29T11:09:02.487000-05:00",
     "start_time": "2018-11-29T16:09:02.483Z"
    }
   },
   "outputs": [
    {
     "data": {
      "text/html": [
       "6.774215103736652"
      ],
      "text/plain": [
       "6.774215103736652"
      ]
     },
     "execution_count": 71,
     "metadata": {},
     "output_type": "execute_result"
    }
   ],
   "source": [
    "mean(BB)"
   ]
  },
  {
   "cell_type": "code",
   "execution_count": 63,
   "metadata": {
    "ExecuteTime": {
     "end_time": "2018-11-29T10:59:37.335000-05:00",
     "start_time": "2018-11-29T15:59:37.330Z"
    }
   },
   "outputs": [
    {
     "data": {
      "text/html": [
       "0.249904"
      ],
      "text/plain": [
       "0.249904"
      ]
     },
     "execution_count": 63,
     "metadata": {},
     "output_type": "execute_result"
    }
   ],
   "source": [
    "sum(Z.==z_grid[3])/length(Z)"
   ]
  },
  {
   "cell_type": "code",
   "execution_count": 64,
   "metadata": {
    "ExecuteTime": {
     "end_time": "2018-11-29T11:01:32.749000-05:00",
     "start_time": "2018-11-29T16:01:32.746Z"
    }
   },
   "outputs": [
    {
     "data": {
      "text/plain": [
       "3×200 Array{Float64,2}:\n",
       " 0.607659  0.64813   0.678314  …  1.76913  1.77299  1.77685  1.7807 \n",
       " 0.931634  0.947446  0.960928     1.86526  1.86891  1.87255  1.87619\n",
       " 1.25533   1.26151   1.26745      2.00985  2.01322  2.01658  2.01994"
      ]
     },
     "execution_count": 64,
     "metadata": {},
     "output_type": "execute_result"
    }
   ],
   "source": [
    "G"
   ]
  },
  {
   "cell_type": "code",
   "execution_count": null,
   "metadata": {
    "collapsed": true
   },
   "outputs": [],
   "source": []
  }
 ],
 "metadata": {
  "kernelspec": {
   "display_name": "Julia 0.6.1",
   "language": "julia",
   "name": "julia-0.6"
  },
  "language_info": {
   "file_extension": ".jl",
   "mimetype": "application/julia",
   "name": "julia",
   "version": "0.6.1"
  },
  "toc": {
   "base_numbering": 1,
   "nav_menu": {},
   "number_sections": true,
   "sideBar": true,
   "skip_h1_title": false,
   "title_cell": "Table of Contents",
   "title_sidebar": "Contents",
   "toc_cell": false,
   "toc_position": {
    "height": "calc(100% - 180px)",
    "left": "10px",
    "top": "150px",
    "width": "336px"
   },
   "toc_section_display": true,
   "toc_window_display": true
  },
  "varInspector": {
   "cols": {
    "lenName": 16,
    "lenType": 16,
    "lenVar": 40
   },
   "kernels_config": {
    "python": {
     "delete_cmd_postfix": "",
     "delete_cmd_prefix": "del ",
     "library": "var_list.py",
     "varRefreshCmd": "print(var_dic_list())"
    },
    "r": {
     "delete_cmd_postfix": ") ",
     "delete_cmd_prefix": "rm(",
     "library": "var_list.r",
     "varRefreshCmd": "cat(var_dic_list()) "
    }
   },
   "types_to_exclude": [
    "module",
    "function",
    "builtin_function_or_method",
    "instance",
    "_Feature"
   ],
   "window_display": false
  }
 },
 "nbformat": 4,
 "nbformat_minor": 2
}
