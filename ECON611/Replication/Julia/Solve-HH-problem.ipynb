{
 "cells": [
  {
   "cell_type": "markdown",
   "metadata": {},
   "source": [
    "# Solve Household's Problem"
   ]
  },
  {
   "cell_type": "markdown",
   "metadata": {},
   "source": [
    "Add file description"
   ]
  },
  {
   "cell_type": "code",
   "execution_count": 41,
   "metadata": {},
   "outputs": [],
   "source": [
    "using QuantEcon\n",
    "using Interpolations\n",
    "using Roots"
   ]
  },
  {
   "cell_type": "markdown",
   "metadata": {},
   "source": [
    "## Calibration"
   ]
  },
  {
   "cell_type": "markdown",
   "metadata": {},
   "source": [
    "Add details of where these numbers come from and what they are."
   ]
  },
  {
   "cell_type": "code",
   "execution_count": null,
   "metadata": {
    "collapsed": true
   },
   "outputs": [],
   "source": [
    "β     = 0.986;\n",
    "Rbar  = 1.005;\n",
    "γ     = 2;\n",
    "μ     = 1.2;\n",
    "ψ     = 2;"
   ]
  },
  {
   "cell_type": "markdown",
   "metadata": {},
   "source": [
    "### Markov chain for idisyncratic productivity"
   ]
  },
  {
   "cell_type": "code",
   "execution_count": 10,
   "metadata": {},
   "outputs": [],
   "source": [
    "MC = rouwenhorst(3, 0.96566, sqrt(0.01695/(1-0.96566^2)), 0);"
   ]
  },
  {
   "cell_type": "markdown",
   "metadata": {},
   "source": [
    "Note that the transition matrix is stored in MC.p and the state values are stored in MC.state_values. However, it looks like the state values that the above function spits out are slightly different to the ones the MNS get in Matlab. For now I'll stick with Julia's state values, but bear this in mind below. Furthermore, I need to take the expoenent of the state values because the Markov chain approximates an AR(1) for log residual wages (see MNS p 3144)."
   ]
  },
  {
   "cell_type": "markdown",
   "metadata": {},
   "source": [
    "### Create grids for productivity and bond holdings"
   ]
  },
  {
   "cell_type": "code",
   "execution_count": 49,
   "metadata": {},
   "outputs": [],
   "source": [
    "z_grid = exp.(MC.state_values);"
   ]
  },
  {
   "cell_type": "markdown",
   "metadata": {},
   "source": [
    "Below I create the grid of bond holdings. There are currently important differences between my grid below and MNS's. MNS's use a `logspace' function in Matlab to get more grid point at lower levels of bond holdings (because there is more curvature on the policy function there). I'll use linspace for now, but bear this in mind."
   ]
  },
  {
   "cell_type": "code",
   "execution_count": 54,
   "metadata": {
    "collapsed": true
   },
   "outputs": [],
   "source": [
    "b_min  = 0;\n",
    "b_max  = 75;\n",
    "b_grid = collect(linspace(b_min,b_max,200));"
   ]
  },
  {
   "cell_type": "markdown",
   "metadata": {},
   "source": [
    "## Endogenous grid function"
   ]
  },
  {
   "cell_type": "markdown",
   "metadata": {},
   "source": [
    "Add detailed description of what this does, and reference QuantEcon EGM lecture."
   ]
  },
  {
   "cell_type": "code",
   "execution_count": 144,
   "metadata": {},
   "outputs": [
    {
     "data": {
      "text/plain": [
       "egm (generic function with 7 methods)"
      ]
     },
     "execution_count": 144,
     "metadata": {},
     "output_type": "execute_result"
    }
   ],
   "source": [
    "function egm(G::AbstractArray,\n",
    "             b_grid::AbstractArray,\n",
    "             z_grid::AbstractArray,\n",
    "             P::AbstractArray,\n",
    "             β::Real,\n",
    "             γ::Real,\n",
    "             ψ::Real,\n",
    "             R::Real,\n",
    "             W::Real)\n",
    "   \n",
    "    # Allocate memory for value of today's consumption on endogenous grid points,...\n",
    "    # and the endogenous grid itself,...\n",
    "    # and the updated guess of the policy function for each state pair.\n",
    "    c      = zeros(length(z_grid),length(b_grid))\n",
    "    b_eg   = zeros(length(z_grid),length(b_grid))\n",
    "    KG     = zeros(length(z_grid),length(b_grid))\n",
    "    \n",
    "    # Compute today's optimal consumption\n",
    "    for (i, z) in enumerate(z_grid)\n",
    "        for (j,b) in enumerate(b_grid)\n",
    "            c[i,j] = (β*R*P[i,:]'*(G[:,j].^(-γ)))^(-1/γ)\n",
    "        end\n",
    "    end\n",
    "\n",
    "    # Compute endogenous bond grid using the budget constraint\n",
    "    for (i,z) in enumerate(z_grid)\n",
    "        for(j,b) in enumerate(b_grid)\n",
    "            b_eg[i,j] = c[i,j] + b_grid[j]/R - c[i,j]^(-γ/ψ)*(W*z_grid[i])^(1+1/ψ)\n",
    "        end\n",
    "    end\n",
    "    \n",
    "    \n",
    "    \n",
    "    \n",
    "    # Interpolate the updated guess [NEED TO CHANGE THIS TO CUBIC]\n",
    "    for (i,z) in enumerate(z_grid)\n",
    "        KG_f      = LinInterp(b_eg[i,:],c[i,:])\n",
    "        KG[i,:]   = KG_f.(b_grid)'\n",
    "    end\n",
    "    \n",
    "    return KG\n",
    "\n",
    "end"
   ]
  },
  {
   "cell_type": "markdown",
   "metadata": {},
   "source": [
    "## Compute initial guess of the policy function"
   ]
  },
  {
   "cell_type": "markdown",
   "metadata": {},
   "source": [
    "To compute the initial guess of the policy function I need to solve equation (4) in my TeX notes. With the calibrated parameters, this is just a quadratic equation, so I can solve it by hand. Note that I'm not including dividends or taxes here (nor above), because I don't know what their respective steady state values are. I can easily incorporate them later."
   ]
  },
  {
   "cell_type": "code",
   "execution_count": 145,
   "metadata": {},
   "outputs": [],
   "source": [
    "Wbar = 1/μ;"
   ]
  },
  {
   "cell_type": "code",
   "execution_count": 151,
   "metadata": {},
   "outputs": [],
   "source": [
    "G0   = zeros(length(z_grid),length(b_grid));\n",
    "\n",
    "for (i,z) in enumerate(z_grid)\n",
    "        for(j,b) in enumerate(b_grid)\n",
    "            G0[i,j] = (b_grid[j]+sqrt(b_grid[j]^2+4*(Wbar*z_grid[i])^(1+1/ψ)))/2\n",
    "        end\n",
    "end"
   ]
  },
  {
   "cell_type": "markdown",
   "metadata": {},
   "source": [
    "## Check convergence"
   ]
  },
  {
   "cell_type": "code",
   "execution_count": 190,
   "metadata": {},
   "outputs": [
    {
     "data": {
      "text/plain": [
       "3×200 Array{Float64,2}:\n",
       " 0.11522   0.263322  0.413362  …  37.1118  37.3011  37.4904  37.6798\n",
       " 0.818074  0.940997  1.06521      37.1408  37.33    37.5192  37.7084\n",
       " 6.07721   6.20172   6.32948      38.2837  38.4674  38.6512  38.8351"
      ]
     },
     "execution_count": 190,
     "metadata": {},
     "output_type": "execute_result"
    }
   ],
   "source": [
    "G1 = egm(G0,b_grid,z_grid,MC.p,β,γ,ψ,Rbar,Wbar)"
   ]
  },
  {
   "cell_type": "code",
   "execution_count": 191,
   "metadata": {},
   "outputs": [
    {
     "ename": "LoadError",
     "evalue": "\u001b[91mtype Array has no field b_eg\u001b[39m",
     "output_type": "error",
     "traceback": [
      "\u001b[91mtype Array has no field b_eg\u001b[39m",
      "",
      "Stacktrace:",
      " [1] \u001b[1minclude_string\u001b[22m\u001b[22m\u001b[1m(\u001b[22m\u001b[22m::String, ::String\u001b[1m)\u001b[22m\u001b[22m at \u001b[1m./loading.jl:522\u001b[22m\u001b[22m"
     ]
    }
   ],
   "source": [
    "G1.b_eg"
   ]
  },
  {
   "cell_type": "code",
   "execution_count": 189,
   "metadata": {},
   "outputs": [
    {
     "data": {
      "text/plain": [
       "3×200 Array{Float64,2}:\n",
       " 61.5516  61.5516  61.5516  61.5516  …  61.5516  61.5516  61.5516  61.5516\n",
       " 61.5516  61.5516  61.5516  61.5516     61.5516  61.5516  61.5516  61.5516\n",
       " 61.5516  61.5516  61.5516  61.5516     61.5516  61.5516  61.5516  61.5516"
      ]
     },
     "execution_count": 189,
     "metadata": {},
     "output_type": "execute_result"
    }
   ],
   "source": [
    "G = G0\n",
    "\n",
    "for i in 1:1000\n",
    "   \n",
    "    Gnew = egm(G,b_grid,z_grid,MC.p,β,γ,ψ,Rbar,Wbar)\n",
    "    G    = Gnew\n",
    "    \n",
    "end\n",
    "\n",
    "G"
   ]
  },
  {
   "cell_type": "code",
   "execution_count": null,
   "metadata": {
    "collapsed": true
   },
   "outputs": [],
   "source": []
  },
  {
   "cell_type": "code",
   "execution_count": null,
   "metadata": {
    "collapsed": true
   },
   "outputs": [],
   "source": []
  }
 ],
 "metadata": {
  "kernelspec": {
   "display_name": "Julia 0.6.1",
   "language": "julia",
   "name": "julia-0.6"
  },
  "language_info": {
   "file_extension": ".jl",
   "mimetype": "application/julia",
   "name": "julia",
   "version": "0.6.1"
  }
 },
 "nbformat": 4,
 "nbformat_minor": 2
}
