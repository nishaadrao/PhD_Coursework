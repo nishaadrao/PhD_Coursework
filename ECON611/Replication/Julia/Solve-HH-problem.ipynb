{
 "cells": [
  {
   "cell_type": "markdown",
   "metadata": {},
   "source": [
    "# Solve Household's Problem"
   ]
  },
  {
   "cell_type": "markdown",
   "metadata": {},
   "source": [
    "This file solves the for the household's (consumption) policy function in the steady state using the endogenous grid point method."
   ]
  },
  {
   "cell_type": "code",
   "execution_count": 1,
   "metadata": {
    "ExecuteTime": {
     "end_time": "2018-12-03T17:39:50.527000-05:00",
     "start_time": "2018-12-03T22:39:24.832Z"
    },
    "collapsed": true
   },
   "outputs": [],
   "source": [
    "using QuantEcon\n",
    "using Interpolations\n",
    "using Plots\n",
    "using LaTeXStrings\n",
    "using DataFrames\n",
    "import PyPlot"
   ]
  },
  {
   "cell_type": "markdown",
   "metadata": {},
   "source": [
    "## Calibration"
   ]
  },
  {
   "cell_type": "markdown",
   "metadata": {},
   "source": [
    "All parameter values are from Table 1 in MNS, except for ```Rbar``` (steady state gross interest rate), which is from MNS's ```initparam.m``` file."
   ]
  },
  {
   "cell_type": "code",
   "execution_count": 2,
   "metadata": {
    "ExecuteTime": {
     "end_time": "2018-12-03T17:39:51.787000-05:00",
     "start_time": "2018-12-03T22:39:24.837Z"
    },
    "collapsed": true
   },
   "outputs": [],
   "source": [
    "β     = 0.986;\n",
    "Rbar  = 1.005;\n",
    "γ     = 2;\n",
    "μ     = 1.2;\n",
    "ψ     = 2;\n",
    "Wbar  = 1/μ; #steady state wage"
   ]
  },
  {
   "cell_type": "markdown",
   "metadata": {},
   "source": [
    "MNS assume that only rich households (i.e. those with high productivity) pay tax (I specify the productivity grid below)."
   ]
  },
  {
   "cell_type": "code",
   "execution_count": 3,
   "metadata": {
    "ExecuteTime": {
     "end_time": "2018-12-03T17:39:52.127000-05:00",
     "start_time": "2018-12-03T22:39:24.840Z"
    }
   },
   "outputs": [
    {
     "data": {
      "text/plain": [
       "tax (generic function with 1 method)"
      ]
     },
     "execution_count": 3,
     "metadata": {},
     "output_type": "execute_result"
    }
   ],
   "source": [
    "function tax(x)\n",
    "    if x==z_grid[3]\n",
    "        return 1\n",
    "    else return 0\n",
    "    end\n",
    "end"
   ]
  },
  {
   "cell_type": "markdown",
   "metadata": {},
   "source": [
    "### Markov chain for idisyncratic productivity"
   ]
  },
  {
   "cell_type": "markdown",
   "metadata": {},
   "source": [
    "Following MNS, I compute the three-point Markov chain using Rouwenhort's method (this corresponds to MNS's baseline calibration)."
   ]
  },
  {
   "cell_type": "code",
   "execution_count": 4,
   "metadata": {
    "ExecuteTime": {
     "end_time": "2018-12-03T17:39:52.898000-05:00",
     "start_time": "2018-12-03T22:39:24.843Z"
    },
    "collapsed": true
   },
   "outputs": [],
   "source": [
    "MC = rouwenhorst(3, 0.96566, sqrt(0.01695/(1-0.96566^2)), 0);"
   ]
  },
  {
   "cell_type": "markdown",
   "metadata": {},
   "source": [
    "Note that the transition matrix is stored in ```MC.p``` and the state values are stored in ```MC.state_values```. However, it looks like the state values that the above function spits out are different to the ones the MNS get in Matlab. Accordingly, I will take the state values from MNS's code, to give me the best chance of getting some results that match theirs."
   ]
  },
  {
   "cell_type": "markdown",
   "metadata": {},
   "source": [
    "### Create grids for productivity and bond holdings"
   ]
  },
  {
   "cell_type": "code",
   "execution_count": 5,
   "metadata": {
    "ExecuteTime": {
     "end_time": "2018-12-03T17:39:52.928000-05:00",
     "start_time": "2018-12-03T22:39:24.846Z"
    },
    "collapsed": true
   },
   "outputs": [],
   "source": [
    "#z_grid = exp.(MC.state_values); # Very different to MNS's grid, so use theirs.\n",
    "z_grid  = [0.49229735012925,1,2.03129267248230]; #MNS z_grid"
   ]
  },
  {
   "cell_type": "markdown",
   "metadata": {},
   "source": [
    "Below I create the grid of bond holdings. There are currently important differences between my grid below and MNS's. MNS use a `logspace' function in Matlab to get more grid points at lower levels of bond holdings (because the policy function has more curvature at lower asset values). I use linspace, so that grid points are evenly space; bear this in mind."
   ]
  },
  {
   "cell_type": "code",
   "execution_count": 6,
   "metadata": {
    "ExecuteTime": {
     "end_time": "2018-12-03T17:39:52.949000-05:00",
     "start_time": "2018-12-03T22:39:24.848Z"
    },
    "collapsed": true
   },
   "outputs": [],
   "source": [
    "b_min  = 0;\n",
    "b_max  = 75;\n",
    "b_grid = collect(linspace(b_min,b_max,200));"
   ]
  },
  {
   "cell_type": "markdown",
   "metadata": {},
   "source": [
    "## Endogenous grid function"
   ]
  },
  {
   "cell_type": "markdown",
   "metadata": {},
   "source": [
    "This function updates the guess of the policy function (for a given set of prices) using the endogenous grid method (EGM). The function should be read in conjunction with my TeX notes and draws heavily from the QuantEcon lecture on EGM. I've currently implemented the iteratation with a linear interpolation, rather than MNS's cubic spline interpolation; I should be able incorporate the latter later on."
   ]
  },
  {
   "cell_type": "code",
   "execution_count": 7,
   "metadata": {
    "ExecuteTime": {
     "end_time": "2018-12-03T17:39:53.042000-05:00",
     "start_time": "2018-12-03T22:39:24.851Z"
    }
   },
   "outputs": [
    {
     "data": {
      "text/plain": [
       "egm (generic function with 1 method)"
      ]
     },
     "execution_count": 7,
     "metadata": {},
     "output_type": "execute_result"
    }
   ],
   "source": [
    "function egm(G::AbstractArray,\n",
    "             b_grid::AbstractArray,\n",
    "             z_grid::AbstractArray,\n",
    "             P::AbstractArray,\n",
    "             β::Real,\n",
    "             γ::Real,\n",
    "             ψ::Real,\n",
    "             R::Real,\n",
    "             W::Real,\n",
    "             D::Real,\n",
    "             τ::Real)\n",
    "   \n",
    "    # Allocate memory for value of today's consumption on endogenous grid points,...\n",
    "    # and the endogenous grid itself,...\n",
    "    # and the updated guess of the policy function for each state pair.\n",
    "    c      = zeros(length(z_grid),length(b_grid))\n",
    "    b_eg   = zeros(length(z_grid),length(b_grid))\n",
    "    KG     = zeros(length(z_grid),length(b_grid))\n",
    "    \n",
    "    # Compute today's optimal consumption using Euler equation\n",
    "    for (i, z) in enumerate(z_grid)\n",
    "        for (j,b) in enumerate(b_grid)\n",
    "            c[i,j] = (β*R*P[i,:]'*(G[:,j].^(-γ)))^(-1/γ)\n",
    "        end\n",
    "    end\n",
    "\n",
    "    # Compute endogenous bond grid using the budget constraint\n",
    "    for (i,z) in enumerate(z_grid)\n",
    "        for(j,b) in enumerate(b_grid)\n",
    "            b_eg[i,j] = c[i,j] + b_grid[j]/R - c[i,j]^(-γ/ψ)*(W*z_grid[i])^(1+1/ψ) - D + τ*tax(z_grid[i])\n",
    "        end\n",
    "    end\n",
    "    \n",
    "    # Compute today's optimal consumption for agents with binding constraint\n",
    "    for (i,z) in enumerate(z_grid)\n",
    "        for(j,b) in enumerate(b_grid)\n",
    "            \n",
    "            if b_grid[j] <= b_eg[i,1]\n",
    "                c[i,j] = (b_grid[j]+D-τ*tax(z_grid[i])+sqrt((b_grid[j]+D-τ*tax(z_grid[i]))^2+4*(W*z_grid[i])^(1+1/ψ)))/2\n",
    "            else\n",
    "                c[i,j] = c[i,j]\n",
    "            end\n",
    "        end\n",
    "    end\n",
    "    \n",
    "    \n",
    "    # Interpolate the updated guess [NEED TO CHANGE THIS TO CUBIC SPLINE!]\n",
    "    for (i,z) in enumerate(z_grid)\n",
    "        KG_f      = LinInterp(b_eg[i,:],c[i,:])\n",
    "        KG[i,:]   = KG_f.(b_grid)'\n",
    "    end\n",
    "    \n",
    "    return KG\n",
    "\n",
    "end"
   ]
  },
  {
   "cell_type": "markdown",
   "metadata": {},
   "source": [
    "## Compute initial guess of the policy function"
   ]
  },
  {
   "cell_type": "markdown",
   "metadata": {},
   "source": [
    "To compute the initial guess of the policy function I need to solve equation (4) in my TeX notes. With the calibrated parameters, this is just a quadratic equation, so I can solve it by hand. Note that I write a function to compute the initial guess, which takes dividends as an input. This is because I'll need to solve for the steady state level of dividends (which is a function of steady state consumption)."
   ]
  },
  {
   "cell_type": "code",
   "execution_count": 8,
   "metadata": {
    "ExecuteTime": {
     "end_time": "2018-12-03T17:39:53.131000-05:00",
     "start_time": "2018-12-03T22:39:24.854Z"
    }
   },
   "outputs": [
    {
     "data": {
      "text/plain": [
       "G_init (generic function with 1 method)"
      ]
     },
     "execution_count": 8,
     "metadata": {},
     "output_type": "execute_result"
    }
   ],
   "source": [
    "function G_init(D::Real,τ::Real)\n",
    "\n",
    "    G0   = zeros(length(z_grid),length(b_grid));\n",
    "\n",
    "    for (i,z) in enumerate(z_grid)\n",
    "            for(j,b) in enumerate(b_grid)\n",
    "                G0[i,j] = (b_grid[j]+D-τ*tax(z_grid[i])+sqrt((b_grid[j]+D-τ*tax(z_grid[i]))^2+4*(Wbar*z_grid[i])^(1+1/ψ)))/2\n",
    "            end\n",
    "    end\n",
    "    \n",
    "    return G0\n",
    "end"
   ]
  },
  {
   "cell_type": "markdown",
   "metadata": {},
   "source": [
    "## Policy function iteration"
   ]
  },
  {
   "cell_type": "markdown",
   "metadata": {},
   "source": [
    "Next, I write a function that takes an initial guess of the policy function, and iterates until convergence."
   ]
  },
  {
   "cell_type": "code",
   "execution_count": 9,
   "metadata": {
    "ExecuteTime": {
     "end_time": "2018-12-03T17:39:53.222000-05:00",
     "start_time": "2018-12-03T22:39:24.858Z"
    }
   },
   "outputs": [
    {
     "data": {
      "text/plain": [
       "get_policy (generic function with 5 methods)"
      ]
     },
     "execution_count": 9,
     "metadata": {},
     "output_type": "execute_result"
    }
   ],
   "source": [
    "function get_policy(G0, D, τ, tol=1e-8, maxiter=1000, err=1, i=0)\n",
    "    G       = G0    # Initial guess\n",
    "\n",
    "    while i<=maxiter && err > tol\n",
    "\n",
    "        Gnew = egm(G,b_grid,z_grid,MC.p,β,γ,ψ,Rbar,Wbar,D,τ)\n",
    "\n",
    "        err  = maximum(abs, Gnew - G)\n",
    "        G    = Gnew\n",
    "\n",
    "        i    = i+1\n",
    "    end\n",
    "return G\n",
    "\n",
    "end"
   ]
  },
  {
   "cell_type": "markdown",
   "metadata": {},
   "source": [
    "## Simulate distribution of bond holdings"
   ]
  },
  {
   "cell_type": "markdown",
   "metadata": {},
   "source": [
    "In order to compute aggregate consumption (and hence output and dividends) in the steady state, I need to know the distribtution of bond holdings. To simulate the steady state distribution of bond holdings I first draw a very long vector of productivity draws using the Markov chain. I then pick an initial value for bond holdings. Then I use the policy function to compute next period's bond holdings, and so on. This gives me a level of bond holdings associated with each productivity draw. Then, for each level of productivity, I simply compute a histogram of the bond holdings. Accordingly, I end up with a histogram of bond holdings for each level of productivity. The idea is that if my vector of draws is long enough, this should be the steady state distribution."
   ]
  },
  {
   "cell_type": "markdown",
   "metadata": {},
   "source": [
    "First I write a function that creates a vector of idiosyncractic productivity draws of a specified length. (This function draws on the QuantEcon lecture on Finite Markov Chains: <https://lectures.quantecon.org/jl/finite_markov.html#simulation>)."
   ]
  },
  {
   "cell_type": "code",
   "execution_count": 10,
   "metadata": {
    "ExecuteTime": {
     "end_time": "2018-12-03T17:39:53.314000-05:00",
     "start_time": "2018-12-03T22:39:24.861Z"
    }
   },
   "outputs": [
    {
     "data": {
      "text/plain": [
       "mc_sample_path (generic function with 3 methods)"
      ]
     },
     "execution_count": 10,
     "metadata": {},
     "output_type": "execute_result"
    }
   ],
   "source": [
    "function mc_sample_path(P, init=2, sample_size=1000)\n",
    "    X = Array{Int64}(sample_size) # allocate memory\n",
    "    Z = zeros(length(X))\n",
    "    \n",
    "    X[1] = init\n",
    "    \n",
    "    # === convert each row of P into a distribution === #\n",
    "    n = size(P)[1]\n",
    "    P_dist = [DiscreteRV(vec(P[i,:])) for i in 1:n]\n",
    "\n",
    "    # === generate the sample path for the state (i.e. X \\in {1,2,3}) === #\n",
    "    for t in 1:(sample_size - 1)\n",
    "        X[t+1] = rand(P_dist[X[t]])\n",
    "    end\n",
    "    \n",
    "    # === get the z associated with each value of the state === #\n",
    "    for t in 1:(sample_size)\n",
    "        if X[t]==1\n",
    "            Z[t]=z_grid[1]\n",
    "        elseif X[t]==2\n",
    "            Z[t]=z_grid[2]\n",
    "        else\n",
    "            Z[t]=z_grid[3]\n",
    "        end\n",
    "    end\n",
    "    \n",
    "    return Z\n",
    "end"
   ]
  },
  {
   "cell_type": "markdown",
   "metadata": {},
   "source": [
    "Let's go ahead and simulate those states!"
   ]
  },
  {
   "cell_type": "code",
   "execution_count": 27,
   "metadata": {
    "ExecuteTime": {
     "end_time": "2018-12-03T18:05:12.414000-05:00",
     "start_time": "2018-12-03T23:05:12.263Z"
    },
    "collapsed": true
   },
   "outputs": [],
   "source": [
    "Z=mc_sample_path(MC.p,2,1000000);"
   ]
  },
  {
   "cell_type": "markdown",
   "metadata": {},
   "source": [
    "Next, I need to write a function that computes the level of bond holdings associated with each individual z-draw using the policy function and budget constraint (given an initial level of bond holdings). Currently, my function isn't very slick. First, I need to back back out the actual optimal policy *functions* for each level of productivity from the ${G}$ matrix (which is clearly inefficient because I compute, but don't store, these when I run my EGM function above!). Then I construct the bond holdings using the policy functions. There are two reasons for this slopiness: (1) I need the actual policy functions because for any $(z_t,b_t)$ pair, using the budget constraint may give a level of bond holdings that doesn't correspond to a point in my bond grid; (2) I can't work out how to properly store the (three, one for each $z$) policy functions in my EGM function above!\n",
    "\n",
    "Ideas: maybe I could actually compute a two-dimensional function in the interpolation step of my EGM function, rather than a separate function for each $z$?"
   ]
  },
  {
   "cell_type": "code",
   "execution_count": 12,
   "metadata": {
    "ExecuteTime": {
     "end_time": "2018-12-03T17:39:53.830000-05:00",
     "start_time": "2018-12-03T22:39:24.867Z"
    }
   },
   "outputs": [
    {
     "data": {
      "text/plain": [
       "get_bonds (generic function with 2 methods)"
      ]
     },
     "execution_count": 12,
     "metadata": {},
     "output_type": "execute_result"
    }
   ],
   "source": [
    "function get_bonds(Z,G::AbstractArray,D::Real,τ::Real,c1,c2,c3,init=b_grid[1])\n",
    "    B = zeros(length(Z)) #allocate memory\n",
    "    \n",
    "    # This is what c1,c2,c3 will be!\n",
    "    #c1 = LinInterp(b_grid,G[1,:]); \n",
    "    #c2 = LinInterp(b_grid,G[2,:]);\n",
    "    #c3 = LinInterp(b_grid,G[3,:]);\n",
    "    \n",
    "    B[1] = init\n",
    "    \n",
    "    for t in 1:(length(B)-1)\n",
    "        \n",
    "        if Z[t]==z_grid[1]\n",
    "            B[t+1]=Rbar*(B[t]+(Wbar*Z[t])^(1+1/ψ)*c1(B[t])^(-γ/ψ)-c1(B[t])+D-τ*tax(z_grid[1]))\n",
    "        elseif Z[t]==z_grid[2]\n",
    "            B[t+1]=Rbar*(B[t]+(Wbar*Z[t])^(1+1/ψ)*c2(B[t])^(-γ/ψ)-c2(B[t])+D-τ*tax(z_grid[2]))\n",
    "        else\n",
    "            B[t+1]=Rbar*(B[t]+(Wbar*Z[t])^(1+1/ψ)*c3(B[t])^(-γ/ψ)-c3(B[t])+D-τ*tax(z_grid[3]))\n",
    "        end \n",
    "    end\n",
    "    \n",
    "    return B\n",
    "end"
   ]
  },
  {
   "cell_type": "markdown",
   "metadata": {},
   "source": [
    "Almost there. Next I write a simple function that computes aggregate consumption. I simply evaluate the policy function for each $(z,b)$ pair in my long vector; then since there is a unit mass of agents, the mean consumption level is aggregate consumption."
   ]
  },
  {
   "cell_type": "code",
   "execution_count": 13,
   "metadata": {
    "ExecuteTime": {
     "end_time": "2018-12-03T17:39:53.923000-05:00",
     "start_time": "2018-12-03T22:39:24.868Z"
    }
   },
   "outputs": [
    {
     "data": {
      "text/plain": [
       "get_C (generic function with 1 method)"
      ]
     },
     "execution_count": 13,
     "metadata": {},
     "output_type": "execute_result"
    }
   ],
   "source": [
    "function get_C(B,c1,c2,c3)\n",
    "\n",
    "C = zeros(length(B)) #allocate memory\n",
    "\n",
    "    for t in 1:(length(C))\n",
    "\n",
    "            if Z[t]==z_grid[1]\n",
    "                C[t]=c1(B[t])\n",
    "            elseif Z[t]==z_grid[2]\n",
    "                C[t]=c2(B[t])\n",
    "            else\n",
    "                C[t]=c3(B[t])\n",
    "            end \n",
    "    end\n",
    "    \n",
    "    return C\n",
    "end"
   ]
  },
  {
   "cell_type": "markdown",
   "metadata": {},
   "source": [
    "## Solve for steady state"
   ]
  },
  {
   "cell_type": "markdown",
   "metadata": {},
   "source": [
    "Finally, I write a loop that puts all of the above functions together to solve for steady state. The iterative algorithm proceeds as follows:\n",
    "\n",
    "1. Guess an initial level of dividends and taxes, $X^0 = [D^0=0, \\tau^0=0]$.\n",
    "2. Using this guess and other steady state prices, compute the HH's policy function.\n",
    "3. Simulate the distribution of bond holdings, using the policy function.\n",
    "4. Compute aggregate consumption, $\\bar C^0$.\n",
    "5. Compute the implied level of dividends $\\tilde{D}^0 = \\bar{C}^0\\times(1-\\bar{W})$.\n",
    "6. Compute the implied level of taxes $\\tilde{\\tau}^0 = 1.4\\times4\\times\\bar C^0 \\times (\\bar{R} -1)/\\bar{R}$. Let $\\tilde{X}^0 = [\\tilde{D}^0,\\tilde{\\tau}^0]$.\n",
    "7. Update the guess: $X^1 = \\omega  \\tilde{X}^0 + (1-\\omega)X^0$. I set $\\omega=0.5$.\n",
    "8. Iterate until convergence: $X^n=X^{n-1}$."
   ]
  },
  {
   "cell_type": "code",
   "execution_count": 28,
   "metadata": {
    "ExecuteTime": {
     "end_time": "2018-12-03T18:05:52.923000-05:00",
     "start_time": "2018-12-03T23:05:16.543Z"
    },
    "collapsed": true
   },
   "outputs": [],
   "source": [
    "#function solve_ss(D=0,tol=1e-8,maxiter=1000,err=1,i=0)\n",
    "\n",
    "D       = 0    # Initial guess\n",
    "τ       = 0\n",
    "tol     = 1e-8   \n",
    "maxiter = 1000\n",
    "err     = 1\n",
    "i       = 0\n",
    "\n",
    "\n",
    "    while i<=maxiter && err > tol\n",
    "\n",
    "        global G, C, D, B, τ             # Ensures the loop spits out these things (cf. local)        \n",
    "    \n",
    "        X    = [D,τ]\n",
    "        \n",
    "        G0   = G_init(D,τ)               # Compute initial guess of policy fn\n",
    "\n",
    "        G    = get_policy(G0,D,τ)        # Compute policy function\n",
    "\n",
    "        c1 = LinInterp(b_grid,G[1,:])    # optimal policy *function* for low productivity\n",
    "        c2 = LinInterp(b_grid,G[2,:])\n",
    "        c3 = LinInterp(b_grid,G[3,:])\n",
    "\n",
    "        B  = get_bonds(Z,G,D,τ,c1,c2,c3) # Simulate distribution of bonds\n",
    "\n",
    "        C  = get_C(B,c1,c2,c3)           # Get consumption distribution\n",
    "\n",
    "        Dnew = mean(C)*(1-Wbar)          # Compute prelim updated guess of divs\n",
    "    \n",
    "        τnew = 1.4*4*mean(C)*(Rbar-1)/Rbar # Compute prelim updated guess of τ\n",
    "\n",
    "        Xnew = [Dnew,τnew]\n",
    "    \n",
    "        err  = maximum(abs, Xnew - X)  # Compute error\n",
    "\n",
    "        D    = 0.5*Dnew + 0.5*D        # Update guess of dividends\n",
    "        τ    = 0.5*τnew + 0.5*τ         # Update guess of τ\n",
    "\n",
    "        i    = i+1\n",
    "    end\n",
    "#end"
   ]
  },
  {
   "cell_type": "code",
   "execution_count": 15,
   "metadata": {
    "ExecuteTime": {
     "end_time": "2018-12-03T17:40:34.892000-05:00",
     "start_time": "2018-12-03T22:39:24.873Z"
    },
    "collapsed": true
   },
   "outputs": [],
   "source": [
    "#@time solve_ss()"
   ]
  },
  {
   "cell_type": "markdown",
   "metadata": {},
   "source": [
    "Solved. Convergence takes about 25-30 iterations, and about 30-40 seconds. The steady state policy function is stored in $G$; consumption distribution is $C$; and this distribution of bond holdings is given by the vectors $(Z,B)$."
   ]
  },
  {
   "cell_type": "markdown",
   "metadata": {},
   "source": [
    "## Some plots and analysis"
   ]
  },
  {
   "cell_type": "markdown",
   "metadata": {},
   "source": [
    "First, I plot the steady state policy function for different levels of idiosyncratic productivity. The results are nice: consumption is increasing in wealth, and productivty levels. As MNS note, there is more curvature on the policy function at lower asset levels. Recall that I've implemented the EGM method using an evenly spaced bond grid, and a linear interpolation. This plot is decent evidence why we might want more grid points at lower bond levels."
   ]
  },
  {
   "cell_type": "code",
   "execution_count": 30,
   "metadata": {
    "ExecuteTime": {
     "end_time": "2018-12-03T18:06:03.869000-05:00",
     "start_time": "2018-12-03T23:06:03.530Z"
    }
   },
   "outputs": [
    {
     "data": {
      "image/png": "[encoded data removed]",
      "text/plain": [
       "PyPlot.Figure(PyObject <matplotlib.figure.Figure object at 0x1284ee750>)"
      ]
     },
     "metadata": {},
     "output_type": "display_data"
    }
   ],
   "source": [
    "pyplot()\n",
    "plot(b_grid, G[1, :], label=\"Low productivity\",grid=false)\n",
    "plot!(b_grid, G[2, :], label=\"Medium productivity\")\n",
    "plot!(b_grid, G[3, :], label=\"High productivity\")\n",
    "plot!(xlabel=\"Bond holdings\", ylabel=\"Optimal Consumption\")\n",
    "plot!(title=\"Steady State Policy Function\")\n",
    "savefig(\"/Users/Anirudh/Desktop/GitHub/PhD_Coursework/ECON611/Replication/TeX/pol_fn_C.pdf\")"
   ]
  },
  {
   "cell_type": "markdown",
   "metadata": {},
   "source": [
    "Next, I plot the law of motion for asset holdings for each level of productivity. To do so, I first need to back out next period's bond holdings for each state pair using the budget constraint (which I can do because I know what the optimal consumption levels are for each state pair!). Next period's bond holdings are given by\n",
    "\n",
    "$$ b_{t+1} = \\bar{R}[b+(\\bar{W}z)^{1+1/\\psi}c^{-\\gamma/\\psi}+\\bar{D}-c]$$"
   ]
  },
  {
   "cell_type": "code",
   "execution_count": 17,
   "metadata": {
    "ExecuteTime": {
     "end_time": "2018-12-03T17:40:55.217000-05:00",
     "start_time": "2018-12-03T22:39:24.879Z"
    },
    "collapsed": true
   },
   "outputs": [],
   "source": [
    "b_next   = zeros(length(z_grid),length(b_grid));\n",
    "\n",
    "for (i,z) in enumerate(z_grid)\n",
    "        for(j,b) in enumerate(b_grid)\n",
    "            b_next[i,j] = Rbar*(b_grid[j]+(Wbar*z_grid[i])^(1+1/ψ)*G[i,j]^(-γ/ψ)+D-G[i,j])\n",
    "        end\n",
    "end"
   ]
  },
  {
   "cell_type": "code",
   "execution_count": 31,
   "metadata": {
    "ExecuteTime": {
     "end_time": "2018-12-03T18:06:07.183000-05:00",
     "start_time": "2018-12-03T23:06:06.823Z"
    }
   },
   "outputs": [
    {
     "data": {
      "image/png": "[encoded data removed]",
      "text/plain": [
       "PyPlot.Figure(PyObject <matplotlib.figure.Figure object at 0x127f39190>)"
      ]
     },
     "metadata": {},
     "output_type": "display_data"
    }
   ],
   "source": [
    "plot(b_grid[1:15], b_next[1,1:15], label=\"Low productivity\", grid=false)\n",
    "plot!(b_grid[1:15], b_next[2,1:15], label=\"Medium productivity\")\n",
    "plot!(b_grid[1:15], b_next[3,1:15], label=\"High productivity\")\n",
    "plot!(b_grid[1:15], b_grid[1:15], linestyle=:dash, color=\"black\", label=\"\")\n",
    "plot!(xlabel=\"Current assets\", ylabel=\"Next period assets\")\n",
    "plot!(title=\"Law of Motion for Bond Holdings\")\n",
    "savefig(\"/Users/Anirudh/Desktop/GitHub/PhD_Coursework/ECON611/Replication/TeX/pol_fn_B.pdf\")"
   ]
  },
  {
   "cell_type": "markdown",
   "metadata": {},
   "source": [
    "First, note that I only plotted the law of motion for the first 15 grid points; otherwise the lines are very hard to distinguish from one another. Some results worth noting. Agents with a high productivity draw save a lot -- this is the precautionary savings motive at work."
   ]
  },
  {
   "cell_type": "markdown",
   "metadata": {},
   "source": [
    "Next, let's look at the steady state distribution of bond holdings."
   ]
  },
  {
   "cell_type": "code",
   "execution_count": 19,
   "metadata": {
    "ExecuteTime": {
     "end_time": "2018-12-03T17:40:56.227000-05:00",
     "start_time": "2018-12-03T22:39:24.884Z"
    },
    "collapsed": true
   },
   "outputs": [],
   "source": [
    "# Combine Z and B into data frame\n",
    "df = DataFrame(Z=Z,B=B);"
   ]
  },
  {
   "cell_type": "code",
   "execution_count": 34,
   "metadata": {
    "ExecuteTime": {
     "end_time": "2018-12-03T18:07:58.957000-05:00",
     "start_time": "2018-12-03T23:07:58.019Z"
    }
   },
   "outputs": [
    {
     "data": {
      "image/png": "[encoded data removed]",
      "text/plain": [
       "PyPlot.Figure(PyObject <matplotlib.figure.Figure object at 0x127e1bc50>)"
      ]
     },
     "metadata": {},
     "output_type": "display_data"
    }
   ],
   "source": [
    "#Make individual histograms for each productivity level\n",
    "h1 = histogram(df[df[:Z].==z_grid[1],:][2],bins=50,normalized=true,title=\"Low productivity\");\n",
    "h2 = histogram(df[df[:Z].==z_grid[2],:][2],bins=50,normalized=true,title=\"Medium productivity\",ylabel=\"Density\");\n",
    "h3 = histogram(df[df[:Z].==z_grid[3],:][2],bins=50,normalized=true,title=\"High productivity\",xlabel=\"Bond holdings\");\n",
    "\n",
    "# Combine into single plot\n",
    "p1 = plot(h1,h2,h3,layout=(3,1),legend = false, fmt= :png, size=(600,600),grid=false)\n",
    "plot!(xlims=(0,40))\n",
    "savefig(\"/Users/Anirudh/Desktop/GitHub/PhD_Coursework/ECON611/Replication/TeX/bonds.pdf\")"
   ]
  },
  {
   "cell_type": "code",
   "execution_count": 33,
   "metadata": {
    "ExecuteTime": {
     "end_time": "2018-12-03T18:06:33.762000-05:00",
     "start_time": "2018-12-03T23:06:33.030Z"
    }
   },
   "outputs": [
    {
     "data": {
      "image/png": "[encoded data removed]",
      "text/plain": [
       "PyPlot.Figure(PyObject <matplotlib.figure.Figure object at 0x1269b6fd0>)"
      ]
     },
     "metadata": {},
     "output_type": "display_data"
    }
   ],
   "source": [
    "# Force y axis to be the same!\n",
    "p2 = plot(h1,h2,h3,layout=(3,1),legend = false, fmt= :png, size=(600,600),grid=false,ylim=[0,0.72])\n",
    "savefig(\"/Users/Anirudh/Desktop/GitHub/PhD_Coursework/ECON611/Replication/TeX/bonds2.pdf\")"
   ]
  },
  {
   "cell_type": "markdown",
   "metadata": {
    "collapsed": true
   },
   "source": [
    "# Problems with my solution"
   ]
  },
  {
   "cell_type": "markdown",
   "metadata": {},
   "source": [
    "The above solution is incomplete (i.e. not an actual solution for steady state), because I do not verify that the labor and bond markets clear!"
   ]
  },
  {
   "cell_type": "markdown",
   "metadata": {},
   "source": [
    "## Labor market clearing"
   ]
  },
  {
   "cell_type": "markdown",
   "metadata": {},
   "source": [
    "Aggregate labor supply is given by $\\bar{L}$ below, which corresponds to equation (12) in MNS. In the steady state, linear production technology and market clearing imply that aggregate labor demand, $\\bar{N}$, is given by $\\bar{N} =\\bar{Y}= \\bar{C}$. Accordingly, I should have $\\bar{L} = \\bar{C}$, but I don't."
   ]
  },
  {
   "cell_type": "code",
   "execution_count": 22,
   "metadata": {
    "ExecuteTime": {
     "end_time": "2018-12-03T17:41:01.790000-05:00",
     "start_time": "2018-12-03T22:39:24.993Z"
    }
   },
   "outputs": [
    {
     "data": {
      "text/html": [
       "1.0210396165978812"
      ],
      "text/plain": [
       "1.0210396165978812"
      ]
     },
     "execution_count": 22,
     "metadata": {},
     "output_type": "execute_result"
    }
   ],
   "source": [
    "L    = C.^(-γ/ψ).*((Wbar*Z).^(1/ψ)); # Compute lsupply using intratemporal sub condition\n",
    "zL   = L.*Z;\n",
    "Lbar = mean(zL)"
   ]
  },
  {
   "cell_type": "code",
   "execution_count": 23,
   "metadata": {
    "ExecuteTime": {
     "end_time": "2018-12-03T17:41:01.793000-05:00",
     "start_time": "2018-12-03T22:39:24.995Z"
    }
   },
   "outputs": [
    {
     "data": {
      "text/html": [
       "1.0512666822341894"
      ],
      "text/plain": [
       "1.0512666822341894"
      ]
     },
     "execution_count": 23,
     "metadata": {},
     "output_type": "execute_result"
    }
   ],
   "source": [
    "mean(C)"
   ]
  },
  {
   "cell_type": "markdown",
   "metadata": {},
   "source": [
    "## Bond market clearing"
   ]
  },
  {
   "cell_type": "markdown",
   "metadata": {},
   "source": [
    "Furthermore, the bond market doesn't clear. MNS calibrate the supply of bonds to 1.4 times annual GDP; i.e. $B = 1.4 \\times 4 \\times \\bar{C}$. I use this calibration, and the government budget constraint (equation (4) in MNS) to compute the steady state level of taxes. However, households' demand for bonds, given by the mean of the bond distribution, does not equal supply (see below)."
   ]
  },
  {
   "cell_type": "code",
   "execution_count": 24,
   "metadata": {
    "ExecuteTime": {
     "end_time": "2018-12-03T17:41:01.797000-05:00",
     "start_time": "2018-12-03T22:39:24.999Z"
    }
   },
   "outputs": [
    {
     "data": {
      "text/html": [
       "5.8870934205114605"
      ],
      "text/plain": [
       "5.8870934205114605"
      ]
     },
     "execution_count": 24,
     "metadata": {},
     "output_type": "execute_result"
    }
   ],
   "source": [
    "b_supp = 1.4*4*mean(C)"
   ]
  },
  {
   "cell_type": "code",
   "execution_count": 25,
   "metadata": {
    "ExecuteTime": {
     "end_time": "2018-12-03T17:41:01.800000-05:00",
     "start_time": "2018-12-03T22:39:25.002Z"
    }
   },
   "outputs": [
    {
     "data": {
      "text/html": [
       "6.531774586293912"
      ],
      "text/plain": [
       "6.531774586293912"
      ]
     },
     "execution_count": 25,
     "metadata": {},
     "output_type": "execute_result"
    }
   ],
   "source": [
    "b_dem  = mean(B)"
   ]
  },
  {
   "cell_type": "markdown",
   "metadata": {},
   "source": [
    "## Where I'm at..."
   ]
  },
  {
   "cell_type": "markdown",
   "metadata": {},
   "source": [
    "I'm not exactly sure how I can enforce labor and bond market clearing in my solution above. For example, since there appears to be excess demand for bonds, I would think that we need a lower interest rate; but the steady state interest rate is calibrated! Similarly, it looks like there's excess demand for labor, which would suggest a lower steady state wage is needed; but, again, $\\bar{W}$ is constant!"
   ]
  },
  {
   "cell_type": "markdown",
   "metadata": {},
   "source": [
    "**UPDATE #1**: CH thinks that the small discrepancies may have something to do with the difference between my (equally spaced) bond grid and MNS's! He suggested that I try the usual approach for adjusting $R$ and $W$ to make markets clear, and iterate until convergence -- this sounds like a cool exercise!!\n",
    "\n",
    "**UPDATE #2**: I tried the exercise to iterate over $R$ and $W$ so that markets clear. My algorithm gets prices to move in the right direction (i.e. $R$ falls from steady state, reflecting excess bond demand, and $W$ rises, reflecting excess labor demand). For example, after 100 iterations, I get $R \\approx 1.003$ and $W \\approx 0.91$. But the algorithm doesn't converge. I may be updating the prices incorrectly; or maybe the simulation introduces some small error that I can't overcome?"
   ]
  },
  {
   "cell_type": "markdown",
   "metadata": {},
   "source": [
    "Nonetheless, I think I have a better understanding of MNS's explanation of their solution method (in their computational appendix). First, note that my attempted solution starts by guessing $\\bar D$ and $\\bar{\\tau}$ and iterating until convergence. However, MNS say we need to start by guessing the entire vector of values in $X$! When this guess is not an equilibrium we need to move the entire vector closer to one that is -- which is where their \"auxillary model\" comes it. In my attempt, I simply update my guess of $\\bar D$ and $\\bar{\\tau}$, but obviously, this isn't enough.\n",
    "\n",
    "In summary, my attempted solution resembles the solution for a simple Hugget-Beweley model (in which you start by guessing a steady state interest rate, and iterate to convergence); but MNS's model is more complicated!"
   ]
  },
  {
   "cell_type": "code",
   "execution_count": 29,
   "metadata": {
    "ExecuteTime": {
     "end_time": "2018-12-03T18:05:56.849000-05:00",
     "start_time": "2018-12-03T23:05:56.843Z"
    }
   },
   "outputs": [
    {
     "data": {
      "text/html": [
       "0.0"
      ],
      "text/plain": [
       "0.0"
      ]
     },
     "execution_count": 29,
     "metadata": {},
     "output_type": "execute_result"
    }
   ],
   "source": [
    "minimum(B)"
   ]
  },
  {
   "cell_type": "code",
   "execution_count": null,
   "metadata": {
    "collapsed": true
   },
   "outputs": [],
   "source": []
  }
 ],
 "metadata": {
  "kernelspec": {
   "display_name": "Julia 0.6.1",
   "language": "julia",
   "name": "julia-0.6"
  },
  "language_info": {
   "file_extension": ".jl",
   "mimetype": "application/julia",
   "name": "julia",
   "version": "0.6.1"
  },
  "toc": {
   "base_numbering": 1,
   "nav_menu": {},
   "number_sections": true,
   "sideBar": true,
   "skip_h1_title": false,
   "title_cell": "Table of Contents",
   "title_sidebar": "Contents",
   "toc_cell": false,
   "toc_position": {
    "height": "calc(100% - 180px)",
    "left": "10px",
    "top": "150px",
    "width": "336px"
   },
   "toc_section_display": true,
   "toc_window_display": false
  },
  "varInspector": {
   "cols": {
    "lenName": 16,
    "lenType": 16,
    "lenVar": 40
   },
   "kernels_config": {
    "python": {
     "delete_cmd_postfix": "",
     "delete_cmd_prefix": "del ",
     "library": "var_list.py",
     "varRefreshCmd": "print(var_dic_list())"
    },
    "r": {
     "delete_cmd_postfix": ") ",
     "delete_cmd_prefix": "rm(",
     "library": "var_list.r",
     "varRefreshCmd": "cat(var_dic_list()) "
    }
   },
   "types_to_exclude": [
    "module",
    "function",
    "builtin_function_or_method",
    "instance",
    "_Feature"
   ],
   "window_display": false
  }
 },
 "nbformat": 4,
 "nbformat_minor": 2
}
