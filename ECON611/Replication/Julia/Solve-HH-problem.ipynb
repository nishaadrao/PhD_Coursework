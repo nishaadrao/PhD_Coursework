{
 "cells": [
  {
   "cell_type": "markdown",
   "metadata": {},
   "source": [
    "# Solve Household's Problem"
   ]
  },
  {
   "cell_type": "markdown",
   "metadata": {},
   "source": [
    "Add file description"
   ]
  },
  {
   "cell_type": "code",
   "execution_count": 41,
   "metadata": {},
   "outputs": [],
   "source": [
    "using QuantEcon\n",
    "using Interpolations\n",
    "using Roots"
   ]
  },
  {
   "cell_type": "markdown",
   "metadata": {},
   "source": [
    "## Calibration"
   ]
  },
  {
   "cell_type": "markdown",
   "metadata": {},
   "source": [
    "Add details of where these numbers come from and what they are."
   ]
  },
  {
   "cell_type": "code",
   "execution_count": null,
   "metadata": {
    "collapsed": true
   },
   "outputs": [],
   "source": [
    "β     = 0.986;\n",
    "Rbar  = 1.005;\n",
    "γ     = 2;\n",
    "μ     = 1.2;\n",
    "ψ     = 2;"
   ]
  },
  {
   "cell_type": "markdown",
   "metadata": {},
   "source": [
    "### Markov chain for idisyncratic productivity"
   ]
  },
  {
   "cell_type": "code",
   "execution_count": 10,
   "metadata": {},
   "outputs": [],
   "source": [
    "MC = rouwenhorst(3, 0.96566, sqrt(0.01695/(1-0.96566^2)), 0);"
   ]
  },
  {
   "cell_type": "markdown",
   "metadata": {},
   "source": [
    "Note that the transition matrix is stored in MC.p and the state values are stored in MC.state_values. However, it looks like the state values that the above function spits out are slightly different to the ones the MNS get in Matlab. For now I'll stick with Julia's state values, but bear this in mind below. Furthermore, I need to take the expoenent of the state values because the Markov chain approximates an AR(1) for log residual wages (see MNS p 3144)."
   ]
  },
  {
   "cell_type": "markdown",
   "metadata": {},
   "source": [
    "### Create grids for productivity and bond holdings"
   ]
  },
  {
   "cell_type": "code",
   "execution_count": 49,
   "metadata": {},
   "outputs": [],
   "source": [
    "z_grid = exp.(MC.state_values);"
   ]
  },
  {
   "cell_type": "markdown",
   "metadata": {},
   "source": [
    "Below I create the grid of bond holdings. There are currently important differences between my grid below and MNS's. MNS's use a `logspace' function in Matlab to get more grid point at lower levels of bond holdings (because there is more curvature on the policy function there). I'll use linspace for now, but bear this in mind."
   ]
  },
  {
   "cell_type": "code",
   "execution_count": 54,
   "metadata": {
    "collapsed": true
   },
   "outputs": [],
   "source": [
    "b_min  = 0;\n",
    "b_max  = 75;\n",
    "b_grid = collect(linspace(b_min,b_max,200));"
   ]
  },
  {
   "cell_type": "markdown",
   "metadata": {},
   "source": [
    "## Endogenous grid function"
   ]
  },
  {
   "cell_type": "markdown",
   "metadata": {},
   "source": [
    "Add detailed description of what this does, and reference QuantEcon EGM lecture."
   ]
  },
  {
   "cell_type": "code",
   "execution_count": 45,
   "metadata": {},
   "outputs": [],
   "source": [
    "function egm(G::AbstractArray,\n",
    "             b_grid::AbstractArray,\n",
    "             z_grid::AbstractArray,\n",
    "             P::AbstractArray,\n",
    "             β::AbstractFloat,\n",
    "             γ::AbstractFloat,\n",
    "             ψ::AbstractFloat,\n",
    "             R::AbstractFloat,\n",
    "             W::AbstractFloat)\n",
    "   \n",
    "    # Allocate memory for value of today's consumption on endogenous grid points,...\n",
    "    # and the endogenous grid itself,...\n",
    "    # and the updated guess of the policy function for each state pair.\n",
    "    c      = zeros(length(z_grid),length(b_grid))\n",
    "    b_eg   = zeros(length(z_grid),length(b_grid))\n",
    "    KG     = zeros(length(z_grid),length(b_grid))\n",
    "    \n",
    "    # Compute today's optimal consumption\n",
    "    for (i, z) in enumerate(z_grid)\n",
    "        for (j,b) in enumerate(b_grid)\n",
    "            c[i,j] = (β*R*P[i,:]'*(G[:,j].^(-γ)))^(-1/γ)\n",
    "        end\n",
    "    end\n",
    "\n",
    "    # Compute endogenous bond grid using the budget constraint\n",
    "    for (i,z) in enumerate(z_grid)\n",
    "        for(j,b) in enumerate(b_grid)\n",
    "            b_eg[i,j] = c[i,j] + b_grid[j]/R - c[i,j]^(-γ/ψ)*(W*z_grid[i])^(1+1/ψ)\n",
    "        end\n",
    "    end\n",
    "    \n",
    "    # Interpolate the updated guess [NEED TO CHANGE THIS TO CUBIC]\n",
    "    for (i,z) in enumerate(z_grid)\n",
    "        KG_f      = LinInterp(b_eg[i,:],c[i,:])\n",
    "        KG[i,:]   = KG_f.(b_grid)'\n",
    "    end\n",
    "    \n",
    "\n",
    "end;"
   ]
  },
  {
   "cell_type": "markdown",
   "metadata": {},
   "source": [
    "## Compute initial guess of the policy function"
   ]
  },
  {
   "cell_type": "code",
   "execution_count": 57,
   "metadata": {},
   "outputs": [
    {
     "data": {
      "text/html": [
       "0.8333333333333334"
      ],
      "text/plain": [
       "0.8333333333333334"
      ]
     },
     "execution_count": 57,
     "metadata": {},
     "output_type": "execute_result"
    }
   ],
   "source": [
    "Wbar = 1/μ"
   ]
  },
  {
   "cell_type": "code",
   "execution_count": 79,
   "metadata": {},
   "outputs": [
    {
     "data": {
      "text/plain": [
       "f (generic function with 1 method)"
      ]
     },
     "execution_count": 79,
     "metadata": {},
     "output_type": "execute_result"
    }
   ],
   "source": [
    "f(c) = -c + c^(-γ/ψ)*(Wbar*z_grid[2])^(1+1/ψ)+b_grid[75]"
   ]
  },
  {
   "cell_type": "code",
   "execution_count": 93,
   "metadata": {},
   "outputs": [
    {
     "data": {
      "text/plain": [
       "g (generic function with 1 method)"
      ]
     },
     "execution_count": 93,
     "metadata": {},
     "output_type": "execute_result"
    }
   ],
   "source": [
    "g(c) = c^2 - b_grid[75]*c - (Wbar*z_grid[2])^(1.5) "
   ]
  },
  {
   "cell_type": "code",
   "execution_count": 97,
   "metadata": {},
   "outputs": [],
   "source": [
    "x = -10:0.1:10\n",
    "y = g.(x);"
   ]
  },
  {
   "cell_type": "code",
   "execution_count": 98,
   "metadata": {},
   "outputs": [
    {
     "data": {
      "text/html": [
       "<img src=\"data:image/png;base64,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\" />"
      ]
     },
     "execution_count": 98,
     "metadata": {},
     "output_type": "execute_result"
    }
   ],
   "source": [
    "using Plots\n",
    "plot(x, y)"
   ]
  },
  {
   "cell_type": "code",
   "execution_count": 99,
   "metadata": {},
   "outputs": [
    {
     "data": {
      "text/html": [
       "-0.02724984879111079"
      ],
      "text/plain": [
       "-0.02724984879111079"
      ]
     },
     "execution_count": 99,
     "metadata": {},
     "output_type": "execute_result"
    }
   ],
   "source": [
    "newton(g, 1)"
   ]
  },
  {
   "cell_type": "code",
   "execution_count": 19,
   "metadata": {},
   "outputs": [
    {
     "data": {
      "text/plain": [
       "([1 2 3; 1 2 3; 1 2 3], [4 4 4; 5 5 5; 6 6 6])"
      ]
     },
     "execution_count": 19,
     "metadata": {},
     "output_type": "execute_result"
    }
   ],
   "source": [
    "meshgrid([1,2,3],[4,5,6])"
   ]
  },
  {
   "cell_type": "code",
   "execution_count": null,
   "metadata": {
    "collapsed": true
   },
   "outputs": [],
   "source": []
  },
  {
   "cell_type": "code",
   "execution_count": 20,
   "metadata": {},
   "outputs": [
    {
     "data": {
      "text/plain": [
       "3×3 Array{Float64,2}:\n",
       " 0.965955     0.0337504  0.000294809\n",
       " 0.0168752    0.96625    0.0168752  \n",
       " 0.000294809  0.0337504  0.965955   "
      ]
     },
     "execution_count": 20,
     "metadata": {},
     "output_type": "execute_result"
    }
   ],
   "source": [
    "MC.p"
   ]
  },
  {
   "cell_type": "code",
   "execution_count": 22,
   "metadata": {},
   "outputs": [
    {
     "data": {
      "text/html": [
       "true"
      ],
      "text/plain": [
       "true"
      ]
     },
     "execution_count": 22,
     "metadata": {},
     "output_type": "execute_result"
    }
   ],
   "source": [
    "Array <: AbstractArray"
   ]
  },
  {
   "cell_type": "code",
   "execution_count": 31,
   "metadata": {},
   "outputs": [
    {
     "data": {
      "text/html": [
       "1.03434"
      ],
      "text/plain": [
       "1.03434"
      ]
     },
     "execution_count": 31,
     "metadata": {},
     "output_type": "execute_result"
    }
   ],
   "source": [
    "MC.p[1,:]'*[1,2,3]"
   ]
  },
  {
   "cell_type": "code",
   "execution_count": 28,
   "metadata": {},
   "outputs": [
    {
     "data": {
      "text/html": [
       "-2"
      ],
      "text/plain": [
       "-2"
      ]
     },
     "execution_count": 28,
     "metadata": {},
     "output_type": "execute_result"
    }
   ],
   "source": [
    "-γ"
   ]
  },
  {
   "cell_type": "code",
   "execution_count": 33,
   "metadata": {},
   "outputs": [
    {
     "data": {
      "text/plain": [
       "3×3 Array{Float64,2}:\n",
       " 0.0  0.0  0.0\n",
       " 0.0  0.0  0.0\n",
       " 0.0  0.0  0.0"
      ]
     },
     "execution_count": 33,
     "metadata": {},
     "output_type": "execute_result"
    }
   ],
   "source": [
    "similar(MC.p)"
   ]
  },
  {
   "cell_type": "code",
   "execution_count": 38,
   "metadata": {},
   "outputs": [
    {
     "data": {
      "text/html": [
       "3"
      ],
      "text/plain": [
       "3"
      ]
     },
     "execution_count": 38,
     "metadata": {},
     "output_type": "execute_result"
    }
   ],
   "source": [
    "length([1,2,3])"
   ]
  },
  {
   "cell_type": "code",
   "execution_count": 52,
   "metadata": {},
   "outputs": [
    {
     "data": {
      "text/plain": [
       "0.0:0.3768844221105528:75.0"
      ]
     },
     "execution_count": 52,
     "metadata": {},
     "output_type": "execute_result"
    }
   ],
   "source": [
    "b_grid"
   ]
  },
  {
   "cell_type": "code",
   "execution_count": 56,
   "metadata": {},
   "outputs": [
    {
     "data": {
      "text/plain": [
       "3-element Array{Float64,1}:\n",
       "  0.0653717\n",
       "  1.0      \n",
       " 15.2971   "
      ]
     },
     "execution_count": 56,
     "metadata": {},
     "output_type": "execute_result"
    }
   ],
   "source": [
    "z_grid"
   ]
  },
  {
   "cell_type": "code",
   "execution_count": null,
   "metadata": {
    "collapsed": true
   },
   "outputs": [],
   "source": []
  }
 ],
 "metadata": {
  "kernelspec": {
   "display_name": "Julia 0.6.1",
   "language": "julia",
   "name": "julia-0.6"
  },
  "language_info": {
   "file_extension": ".jl",
   "mimetype": "application/julia",
   "name": "julia",
   "version": "0.6.1"
  }
 },
 "nbformat": 4,
 "nbformat_minor": 2
}
