{
 "cells": [
  {
   "cell_type": "markdown",
   "metadata": {},
   "source": [
    "Note that to use Greek letters simply type \\alpha then press tab"
   ]
  },
  {
   "cell_type": "code",
   "execution_count": 1,
   "metadata": {},
   "outputs": [
    {
     "data": {
      "text/plain": [
       "0.5"
      ]
     },
     "execution_count": 1,
     "metadata": {},
     "output_type": "execute_result"
    }
   ],
   "source": [
    "α=0.5"
   ]
  },
  {
   "cell_type": "code",
   "execution_count": 2,
   "metadata": {},
   "outputs": [
    {
     "data": {
      "text/plain": [
       "Float64"
      ]
     },
     "execution_count": 2,
     "metadata": {},
     "output_type": "execute_result"
    }
   ],
   "source": [
    "typeof(α)"
   ]
  },
  {
   "cell_type": "code",
   "execution_count": 6,
   "metadata": {
    "collapsed": true
   },
   "outputs": [],
   "source": [
    "using Distributions"
   ]
  },
  {
   "cell_type": "code",
   "execution_count": 7,
   "metadata": {
    "collapsed": true
   },
   "outputs": [],
   "source": [
    "struct AR1{T <: Real}\n",
    "    a::T\n",
    "    b::T\n",
    "    σ::T\n",
    "    ϕ::Distribution\n",
    "end"
   ]
  },
  {
   "cell_type": "code",
   "execution_count": 8,
   "metadata": {},
   "outputs": [
    {
     "data": {
      "text/plain": [
       "AR1{Float64}(0.9, 1.0, 1.0, Distributions.Beta{Float64}(α=5.0, β=5.0))"
      ]
     },
     "execution_count": 8,
     "metadata": {},
     "output_type": "execute_result"
    }
   ],
   "source": [
    "m = AR1(0.9, 1.0, 1.0, Beta(5, 5))"
   ]
  },
  {
   "cell_type": "code",
   "execution_count": 13,
   "metadata": {},
   "outputs": [
    {
     "data": {
      "text/plain": [
       "simulate (generic function with 1 method)"
      ]
     },
     "execution_count": 13,
     "metadata": {},
     "output_type": "execute_result"
    }
   ],
   "source": [
    "function simulate(m::AR1, n::Integer, x0::Real) \n",
    "    \n",
    "    X = Array{Float64}(n)\n",
    "    X[1] = x0\n",
    "    \n",
    "    for t in 1:(n-1)\n",
    "        X[t+1] = m.a * X[t] + m.b + m.σ * rand(m.ϕ)\n",
    "    end\n",
    "    \n",
    "    return X\n",
    "end"
   ]
  },
  {
   "cell_type": "code",
   "execution_count": 14,
   "metadata": {},
   "outputs": [
    {
     "data": {
      "text/plain": [
       "100-element Array{Float64,1}:\n",
       "  0.0    \n",
       "  1.62435\n",
       "  3.04075\n",
       "  3.97345\n",
       "  4.92105\n",
       "  5.96121\n",
       "  6.73686\n",
       "  7.35233\n",
       "  8.17899\n",
       "  8.8037 \n",
       "  9.25347\n",
       "  9.64752\n",
       " 10.3036 \n",
       "  ⋮      \n",
       " 14.8086 \n",
       " 15.0576 \n",
       " 15.1305 \n",
       " 14.8641 \n",
       " 14.9064 \n",
       " 14.9477 \n",
       " 14.8391 \n",
       " 14.7153 \n",
       " 14.7504 \n",
       " 14.7734 \n",
       " 14.6089 \n",
       " 14.6075 "
      ]
     },
     "execution_count": 14,
     "metadata": {},
     "output_type": "execute_result"
    }
   ],
   "source": [
    "simulate(m,100,0)"
   ]
  },
  {
   "cell_type": "code",
   "execution_count": 2,
   "metadata": {
    "collapsed": true
   },
   "outputs": [],
   "source": [
    "using QuantEcon"
   ]
  },
  {
   "cell_type": "code",
   "execution_count": 3,
   "metadata": {},
   "outputs": [
    {
     "data": {
      "text/plain": [
       "Discrete Markov Chain\n",
       "stochastic matrix of type Array{Float64,2}:\n",
       "[0.965955 0.0337504 0.000294809; 0.0168752 0.96625 0.0168752; 0.000294809 0.0337504 0.965955]"
      ]
     },
     "execution_count": 3,
     "metadata": {},
     "output_type": "execute_result"
    }
   ],
   "source": [
    "P = rouwenhorst(3, 0.96566, sqrt(0.01695/(1-0.96566^2)), 0)"
   ]
  },
  {
   "cell_type": "code",
   "execution_count": 9,
   "metadata": {},
   "outputs": [
    {
     "data": {
      "text/html": [
       "0.9"
      ],
      "text/plain": [
       "0.9"
      ]
     },
     "execution_count": 9,
     "metadata": {},
     "output_type": "execute_result"
    }
   ],
   "source": [
    "m.a"
   ]
  },
  {
   "cell_type": "code",
   "execution_count": 10,
   "metadata": {},
   "outputs": [
    {
     "data": {
      "text/plain": [
       "-2.727665798036792:2.727665798036792:2.727665798036792"
      ]
     },
     "execution_count": 10,
     "metadata": {},
     "output_type": "execute_result"
    }
   ],
   "source": [
    "P.state_values"
   ]
  },
  {
   "cell_type": "code",
   "execution_count": 11,
   "metadata": {},
   "outputs": [
    {
     "data": {
      "text/plain": [
       "3×3 Array{Float64,2}:\n",
       " 0.965955     0.0337504  0.000294809\n",
       " 0.0168752    0.96625    0.0168752  \n",
       " 0.000294809  0.0337504  0.965955   "
      ]
     },
     "execution_count": 11,
     "metadata": {},
     "output_type": "execute_result"
    }
   ],
   "source": [
    "P.p"
   ]
  },
  {
   "cell_type": "code",
   "execution_count": 22,
   "metadata": {},
   "outputs": [
    {
     "data": {
      "text/plain": [
       "Array{Float64,1}"
      ]
     },
     "execution_count": 22,
     "metadata": {},
     "output_type": "execute_result"
    }
   ],
   "source": [
    "typeof(exp.(P.state_values))"
   ]
  },
  {
   "cell_type": "code",
   "execution_count": 18,
   "metadata": {},
   "outputs": [
    {
     "ename": "LoadError",
     "evalue": "\u001b[91mMethodError: no method matching dim(::StepRangeLen{Float64,Base.TwicePrecision{Float64},Base.TwicePrecision{Float64}})\u001b[0m\nClosest candidates are:\n  dim(\u001b[91m::PDMats.PDMat\u001b[39m) at /Users/Anirudh/.julia/v0.6/PDMats/src/pdmat.jl:26\n  dim(\u001b[91m::PDMats.PDSparseMat\u001b[39m) at /Users/Anirudh/.julia/v0.6/PDMats/src/pdsparsemat.jl:24\n  dim(\u001b[91m::PDMats.PDiagMat\u001b[39m) at /Users/Anirudh/.julia/v0.6/PDMats/src/pdiagmat.jl:23\n  ...\u001b[39m",
     "output_type": "error",
     "traceback": [
      "\u001b[91mMethodError: no method matching dim(::StepRangeLen{Float64,Base.TwicePrecision{Float64},Base.TwicePrecision{Float64}})\u001b[0m\nClosest candidates are:\n  dim(\u001b[91m::PDMats.PDMat\u001b[39m) at /Users/Anirudh/.julia/v0.6/PDMats/src/pdmat.jl:26\n  dim(\u001b[91m::PDMats.PDSparseMat\u001b[39m) at /Users/Anirudh/.julia/v0.6/PDMats/src/pdsparsemat.jl:24\n  dim(\u001b[91m::PDMats.PDiagMat\u001b[39m) at /Users/Anirudh/.julia/v0.6/PDMats/src/pdiagmat.jl:23\n  ...\u001b[39m",
      "",
      "Stacktrace:",
      " [1] \u001b[1minclude_string\u001b[22m\u001b[22m\u001b[1m(\u001b[22m\u001b[22m::String, ::String\u001b[1m)\u001b[22m\u001b[22m at \u001b[1m./loading.jl:522\u001b[22m\u001b[22m"
     ]
    }
   ],
   "source": [
    "dim(P.state_values)"
   ]
  },
  {
   "cell_type": "code",
   "execution_count": 20,
   "metadata": {},
   "outputs": [
    {
     "data": {
      "text/plain": [
       "StepRangeLen{Float64,Base.TwicePrecision{Float64},Base.TwicePrecision{Float64}}"
      ]
     },
     "execution_count": 20,
     "metadata": {},
     "output_type": "execute_result"
    }
   ],
   "source": [
    "typeof(P.state_values)"
   ]
  },
  {
   "cell_type": "code",
   "execution_count": 23,
   "metadata": {
    "collapsed": true
   },
   "outputs": [],
   "source": [
    "meshgrid(x,y) = (repmat(x',length(y),1),repmat(y,1,length(x)));"
   ]
  },
  {
   "cell_type": "code",
   "execution_count": 24,
   "metadata": {},
   "outputs": [
    {
     "data": {
      "text/plain": [
       "3-element Array{Int64,1}:\n",
       " 1\n",
       " 2\n",
       " 3"
      ]
     },
     "execution_count": 24,
     "metadata": {},
     "output_type": "execute_result"
    }
   ],
   "source": [
    "x = [1,2,3]"
   ]
  },
  {
   "cell_type": "code",
   "execution_count": 25,
   "metadata": {},
   "outputs": [
    {
     "data": {
      "text/plain": [
       "3-element Array{Int64,1}:\n",
       " 4\n",
       " 5\n",
       " 6"
      ]
     },
     "execution_count": 25,
     "metadata": {},
     "output_type": "execute_result"
    }
   ],
   "source": [
    "y= [4,5,6]"
   ]
  },
  {
   "cell_type": "code",
   "execution_count": 26,
   "metadata": {},
   "outputs": [
    {
     "data": {
      "text/plain": [
       "([1 2 3; 1 2 3; 1 2 3], [4 4 4; 5 5 5; 6 6 6])"
      ]
     },
     "execution_count": 26,
     "metadata": {},
     "output_type": "execute_result"
    }
   ],
   "source": [
    "meshgrid(x,y)"
   ]
  },
  {
   "cell_type": "code",
   "execution_count": 30,
   "metadata": {},
   "outputs": [
    {
     "data": {
      "text/plain": [
       "3-element Array{Int64,1}:\n",
       " 1\n",
       " 4\n",
       " 9"
      ]
     },
     "execution_count": 30,
     "metadata": {},
     "output_type": "execute_result"
    }
   ],
   "source": [
    "x.^2"
   ]
  },
  {
   "cell_type": "code",
   "execution_count": 39,
   "metadata": {},
   "outputs": [
    {
     "data": {
      "text/plain": [
       "-7.0:0.1:7.0"
      ]
     },
     "execution_count": 39,
     "metadata": {},
     "output_type": "execute_result"
    }
   ],
   "source": [
    "x = -7:7 \n",
    "y = sin.(x)\n",
    "xf = -7:0.1:7"
   ]
  },
  {
   "cell_type": "code",
   "execution_count": 32,
   "metadata": {},
   "outputs": [
    {
     "data": {
      "text/plain": [
       "QuantEcon.LinInterp{Array{Float64,1},UnitRange{Int64}}(-7:7, [-0.656987, 0.279415, 0.958924, 0.756802, -0.14112, -0.909297, -0.841471, 0.0, 0.841471, 0.909297, 0.14112, -0.756802, -0.958924, -0.279415, 0.656987], 15, 1)"
      ]
     },
     "execution_count": 32,
     "metadata": {},
     "output_type": "execute_result"
    }
   ],
   "source": [
    "li = LinInterp(x, y)"
   ]
  },
  {
   "cell_type": "code",
   "execution_count": 33,
   "metadata": {},
   "outputs": [
    {
     "data": {
      "text/plain": [
       "141-element Array{Float64,1}:\n",
       " -0.656987  \n",
       " -0.563346  \n",
       " -0.469706  \n",
       " -0.376066  \n",
       " -0.282426  \n",
       " -0.188786  \n",
       " -0.0951453 \n",
       " -0.00150513\n",
       "  0.0921351 \n",
       "  0.185775  \n",
       "  0.279415  \n",
       "  0.347366  \n",
       "  0.415317  \n",
       "  ⋮         \n",
       " -0.347366  \n",
       " -0.279415  \n",
       " -0.185775  \n",
       " -0.0921351 \n",
       "  0.00150513\n",
       "  0.0951453 \n",
       "  0.188786  \n",
       "  0.282426  \n",
       "  0.376066  \n",
       "  0.469706  \n",
       "  0.563346  \n",
       "  0.656987  "
      ]
     },
     "execution_count": 33,
     "metadata": {},
     "output_type": "execute_result"
    }
   ],
   "source": [
    "y_linear_qe = li.(xf)"
   ]
  },
  {
   "cell_type": "code",
   "execution_count": 52,
   "metadata": {
    "collapsed": true
   },
   "outputs": [],
   "source": [
    "using Interpolations"
   ]
  },
  {
   "cell_type": "code",
   "execution_count": 41,
   "metadata": {},
   "outputs": [
    {
     "ename": "LoadError",
     "evalue": "\u001b[91mMethodError: no method matching scale(::Interpolations.BSplineInterpolation{Float64,1,Array{Float64,1},Interpolations.BSpline{Interpolations.Constant},Interpolations.OnGrid,0}, ::UnitRange{Int64})\u001b[39m",
     "output_type": "error",
     "traceback": [
      "\u001b[91mMethodError: no method matching scale(::Interpolations.BSplineInterpolation{Float64,1,Array{Float64,1},Interpolations.BSpline{Interpolations.Constant},Interpolations.OnGrid,0}, ::UnitRange{Int64})\u001b[39m",
      "",
      "Stacktrace:",
      " [1] \u001b[1minclude_string\u001b[22m\u001b[22m\u001b[1m(\u001b[22m\u001b[22m::String, ::String\u001b[1m)\u001b[22m\u001b[22m at \u001b[1m./loading.jl:522\u001b[22m\u001b[22m"
     ]
    }
   ],
   "source": [
    "itp_const = scale(interpolate(y, BSpline(Constant()), OnGrid()), x)"
   ]
  },
  {
   "cell_type": "code",
   "execution_count": 42,
   "metadata": {},
   "outputs": [
    {
     "data": {
      "text/plain": [
       "20-element Array{Float64,1}:\n",
       " 0.657282 \n",
       " 0.41764  \n",
       " 0.966742 \n",
       " 0.433983 \n",
       " 0.914784 \n",
       " 0.268112 \n",
       " 0.766252 \n",
       " 0.748504 \n",
       " 0.495582 \n",
       " 0.971046 \n",
       " 0.181614 \n",
       " 0.515275 \n",
       " 0.0396085\n",
       " 0.387376 \n",
       " 0.911528 \n",
       " 0.310442 \n",
       " 0.641784 \n",
       " 0.328174 \n",
       " 0.584493 \n",
       " 0.774057 "
      ]
     },
     "execution_count": 42,
     "metadata": {},
     "output_type": "execute_result"
    }
   ],
   "source": [
    "A = rand(20)"
   ]
  },
  {
   "cell_type": "code",
   "execution_count": 43,
   "metadata": {},
   "outputs": [
    {
     "data": {
      "text/plain": [
       "([1.0, 3.0, 5.0, 7.0, 9.0, 11.0, 13.0, 15.0, 17.0, 19.0, 21.0, 23.0, 25.0, 27.0, 29.0, 31.0, 33.0, 35.0, 37.0, 39.0],)"
      ]
     },
     "execution_count": 43,
     "metadata": {},
     "output_type": "execute_result"
    }
   ],
   "source": [
    "A_x = collect(1.0:2.0:40.0)\n",
    "knots = (A_x,)"
   ]
  },
  {
   "cell_type": "code",
   "execution_count": 46,
   "metadata": {},
   "outputs": [
    {
     "data": {
      "text/plain": [
       "Tuple{Array{Float64,1}}"
      ]
     },
     "execution_count": 46,
     "metadata": {},
     "output_type": "execute_result"
    }
   ],
   "source": [
    "typeof(knots)"
   ]
  },
  {
   "cell_type": "code",
   "execution_count": 49,
   "metadata": {},
   "outputs": [
    {
     "ename": "LoadError",
     "evalue": "\u001b[91mMethodError: no method matching Interpolations.Cubic()\u001b[0m\nClosest candidates are:\n  Interpolations.Cubic(\u001b[91m::BC<:Interpolations.Flag\u001b[39m) where BC<:Interpolations.Flag at /Users/Anirudh/.julia/v0.6/Interpolations/src/b-splines/cubic.jl:2\u001b[39m",
     "output_type": "error",
     "traceback": [
      "\u001b[91mMethodError: no method matching Interpolations.Cubic()\u001b[0m\nClosest candidates are:\n  Interpolations.Cubic(\u001b[91m::BC<:Interpolations.Flag\u001b[39m) where BC<:Interpolations.Flag at /Users/Anirudh/.julia/v0.6/Interpolations/src/b-splines/cubic.jl:2\u001b[39m",
      "",
      "Stacktrace:",
      " [1] \u001b[1minclude_string\u001b[22m\u001b[22m\u001b[1m(\u001b[22m\u001b[22m::String, ::String\u001b[1m)\u001b[22m\u001b[22m at \u001b[1m./loading.jl:522\u001b[22m\u001b[22m"
     ]
    }
   ],
   "source": [
    "itp = interpolate(knots, A, Gridded(Cubic()))"
   ]
  },
  {
   "cell_type": "code",
   "execution_count": 57,
   "metadata": {},
   "outputs": [
    {
     "ename": "LoadError",
     "evalue": "\u001b[91mUndefVarError: CubicSplineInterpolation not defined\u001b[39m",
     "output_type": "error",
     "traceback": [
      "\u001b[91mUndefVarError: CubicSplineInterpolation not defined\u001b[39m",
      "",
      "Stacktrace:",
      " [1] \u001b[1minclude_string\u001b[22m\u001b[22m\u001b[1m(\u001b[22m\u001b[22m::String, ::String\u001b[1m)\u001b[22m\u001b[22m at \u001b[1m./loading.jl:522\u001b[22m\u001b[22m"
     ]
    }
   ],
   "source": [
    "using Interpolations\n",
    "A = rand(20, 10)\n",
    "xs = 1:20\n",
    "ys = 1:10\n",
    "f = CubicSplineInterpolation((xs,ys), A)"
   ]
  },
  {
   "cell_type": "code",
   "execution_count": 1,
   "metadata": {
    "collapsed": true
   },
   "outputs": [],
   "source": [
    "using QuantEcon"
   ]
  },
  {
   "cell_type": "code",
   "execution_count": 2,
   "metadata": {},
   "outputs": [
    {
     "data": {
      "text/plain": [
       "2×2 Array{Float64,2}:\n",
       " 0.4  0.6\n",
       " 0.2  0.8"
      ]
     },
     "execution_count": 2,
     "metadata": {},
     "output_type": "execute_result"
    }
   ],
   "source": [
    "P = [0.4 0.6; 0.2 0.8]"
   ]
  },
  {
   "cell_type": "code",
   "execution_count": 3,
   "metadata": {},
   "outputs": [
    {
     "data": {
      "text/html": [
       "2"
      ],
      "text/plain": [
       "2"
      ]
     },
     "execution_count": 3,
     "metadata": {},
     "output_type": "execute_result"
    }
   ],
   "source": [
    "nrow = size(P)[1]"
   ]
  },
  {
   "cell_type": "code",
   "execution_count": 9,
   "metadata": {},
   "outputs": [
    {
     "data": {
      "text/plain": [
       "2-element Array{QuantEcon.DiscreteRV{Array{Float64,1},Array{Float64,1}},1}:\n",
       " QuantEcon.DiscreteRV{Array{Float64,1},Array{Float64,1}}([0.4, 0.6], [0.4, 1.0])\n",
       " QuantEcon.DiscreteRV{Array{Float64,1},Array{Float64,1}}([0.2, 0.8], [0.2, 1.0])"
      ]
     },
     "execution_count": 9,
     "metadata": {},
     "output_type": "execute_result"
    }
   ],
   "source": [
    "P_dist = [DiscreteRV(vec(P[i,:])) for i in 1:nrow]"
   ]
  },
  {
   "cell_type": "code",
   "execution_count": 10,
   "metadata": {},
   "outputs": [
    {
     "data": {
      "text/plain": [
       "mc_sample_path (generic function with 1 method)"
      ]
     },
     "execution_count": 10,
     "metadata": {},
     "output_type": "execute_result"
    }
   ],
   "source": [
    "function mc_sample_path(P; init=1, sample_size=1000)\n",
    "    X = Array{Int64}(sample_size) # allocate memory\n",
    "    X[1] = init\n",
    "    # === convert each row of P into a distribution === #\n",
    "    n = size(P)[1]\n",
    "    P_dist = [DiscreteRV(vec(P[i,:])) for i in 1:n]\n",
    "\n",
    "    # === generate the sample path === #\n",
    "    for t in 1:(sample_size - 1)\n",
    "        X[t+1] = rand(P_dist[X[t]])\n",
    "    end\n",
    "    return X\n",
    "end"
   ]
  },
  {
   "cell_type": "code",
   "execution_count": 11,
   "metadata": {},
   "outputs": [
    {
     "data": {
      "text/plain": [
       "10-element Array{Int64,1}:\n",
       " 1\n",
       " 2\n",
       " 2\n",
       " 2\n",
       " 1\n",
       " 2\n",
       " 1\n",
       " 1\n",
       " 2\n",
       " 2"
      ]
     },
     "execution_count": 11,
     "metadata": {},
     "output_type": "execute_result"
    }
   ],
   "source": [
    "X = mc_sample_path(P, sample_size=10)"
   ]
  },
  {
   "cell_type": "code",
   "execution_count": 12,
   "metadata": {},
   "outputs": [
    {
     "data": {
      "text/html": [
       "2"
      ],
      "text/plain": [
       "2"
      ]
     },
     "execution_count": 12,
     "metadata": {},
     "output_type": "execute_result"
    }
   ],
   "source": [
    "rand(P_dist[1])"
   ]
  },
  {
   "cell_type": "code",
   "execution_count": 13,
   "metadata": {
    "collapsed": true
   },
   "outputs": [],
   "source": [
    "Z = zeros(length(X));"
   ]
  },
  {
   "cell_type": "code",
   "execution_count": 14,
   "metadata": {
    "collapsed": true
   },
   "outputs": [],
   "source": [
    "for i in 1:length(Z)\n",
    "    if X[i]==1\n",
    "        Z[i]=2.3\n",
    "    elseif X[i]==2\n",
    "        Z[i]=3.2\n",
    "        else Z[i]=4.6\n",
    "    end\n",
    "end"
   ]
  },
  {
   "cell_type": "code",
   "execution_count": 15,
   "metadata": {},
   "outputs": [
    {
     "data": {
      "text/plain": [
       "10-element Array{Float64,1}:\n",
       " 2.3\n",
       " 3.2\n",
       " 3.2\n",
       " 3.2\n",
       " 2.3\n",
       " 3.2\n",
       " 2.3\n",
       " 2.3\n",
       " 3.2\n",
       " 3.2"
      ]
     },
     "execution_count": 15,
     "metadata": {},
     "output_type": "execute_result"
    }
   ],
   "source": [
    "Z"
   ]
  },
  {
   "cell_type": "code",
   "execution_count": 10,
   "metadata": {},
   "outputs": [
    {
     "name": "stderr",
     "output_type": "stream",
     "text": [
      "\u001b[1m\u001b[36mINFO: \u001b[39m\u001b[22m\u001b[36mUpdating METADATA...\n",
      "\u001b[39m\u001b[1m\u001b[36mINFO: \u001b[39m\u001b[22m\u001b[36mUpdating cache of FredData...\n",
      "\u001b[39m\u001b[1m\u001b[36mINFO: \u001b[39m\u001b[22m\u001b[36mUpdating cache of AbstractFFTs...\n",
      "\u001b[39m\u001b[1m\u001b[36mINFO: \u001b[39m\u001b[22m\u001b[36mUpdating cache of BufferedStreams...\n",
      "\u001b[39m\u001b[1m\u001b[36mINFO: \u001b[39m\u001b[22m\u001b[36mUpdating cache of Polynomials...\n",
      "\u001b[39m\u001b[1m\u001b[36mINFO: \u001b[39m\u001b[22m\u001b[36mUpdating cache of CommonSubexpressions...\n",
      "\u001b[39m\u001b[1m\u001b[36mINFO: \u001b[39m\u001b[22m\u001b[36mUpdating cache of StateSpaceRoutines...\n",
      "\u001b[39m\u001b[1m\u001b[36mINFO: \u001b[39m\u001b[22m\u001b[36mUpdating cache of Libz...\n",
      "\u001b[39m\u001b[1m\u001b[36mINFO: \u001b[39m\u001b[22m\u001b[36mUpdating cache of ColorTypes...\n",
      "\u001b[39m\u001b[1m\u001b[36mINFO: \u001b[39m\u001b[22m\u001b[36mUpdating cache of Contour...\n",
      "\u001b[39m\u001b[1m\u001b[36mINFO: \u001b[39m\u001b[22m\u001b[36mUpdating cache of PlotUtils...\n",
      "\u001b[39m\u001b[1m\u001b[36mINFO: \u001b[39m\u001b[22m\u001b[36mUpdating cache of Plots...\n",
      "\u001b[39m\u001b[1m\u001b[36mINFO: \u001b[39m\u001b[22m\u001b[36mUpdating cache of Lazy...\n",
      "\u001b[39m\u001b[1m\u001b[36mINFO: \u001b[39m\u001b[22m\u001b[36mUpdating cache of Requires...\n",
      "\u001b[39m\u001b[1m\u001b[36mINFO: \u001b[39m\u001b[22m\u001b[36mUpdating cache of StatPlots...\n",
      "\u001b[39m\u001b[1m\u001b[36mINFO: \u001b[39m\u001b[22m\u001b[36mUpdating cache of PlotlyBase...\n",
      "\u001b[39m\u001b[1m\u001b[36mINFO: \u001b[39m\u001b[22m\u001b[36mUpdating cache of CategoricalArrays...\n",
      "\u001b[39m\u001b[1m\u001b[36mINFO: \u001b[39m\u001b[22m\u001b[36mUpdating cache of Measures...\n",
      "\u001b[39m\u001b[1m\u001b[36mINFO: \u001b[39m\u001b[22m\u001b[36mUpdating cache of Blosc...\n",
      "\u001b[39m\u001b[1m\u001b[36mINFO: \u001b[39m\u001b[22m\u001b[36mUpdating cache of CodecZlib...\n",
      "\u001b[39m\u001b[1m\u001b[36mINFO: \u001b[39m\u001b[22m\u001b[36mUpdating cache of MbedTLS...\n",
      "\u001b[39m\u001b[1m\u001b[36mINFO: \u001b[39m\u001b[22m\u001b[36mUpdating cache of BinDeps...\n",
      "\u001b[39m\u001b[1m\u001b[36mINFO: \u001b[39m\u001b[22m\u001b[36mUpdating cache of JLD...\n",
      "\u001b[39m\u001b[1m\u001b[36mINFO: \u001b[39m\u001b[22m\u001b[36mUpdating cache of Blink...\n",
      "\u001b[39m\u001b[1m\u001b[36mINFO: \u001b[39m\u001b[22m\u001b[36mUpdating cache of AxisAlgorithms...\n",
      "\u001b[39m\u001b[1m\u001b[36mINFO: \u001b[39m\u001b[22m\u001b[36mUpdating cache of TableTraits...\n",
      "\u001b[39m\u001b[1m\u001b[36mINFO: \u001b[39m\u001b[22m\u001b[36mUpdating cache of ZMQ...\n",
      "\u001b[39m\u001b[1m\u001b[36mINFO: \u001b[39m\u001b[22m\u001b[36mUpdating cache of IJulia...\n",
      "\u001b[39m\u001b[1m\u001b[36mINFO: \u001b[39m\u001b[22m\u001b[36mUpdating cache of StatsBase...\n",
      "\u001b[39m\u001b[1m\u001b[36mINFO: \u001b[39m\u001b[22m\u001b[36mUpdating cache of MacroTools...\n",
      "\u001b[39m\u001b[1m\u001b[36mINFO: \u001b[39m\u001b[22m\u001b[36mUpdating cache of NamedTuples...\n",
      "\u001b[39m\u001b[1m\u001b[36mINFO: \u001b[39m\u001b[22m\u001b[36mUpdating cache of DataValues...\n",
      "\u001b[39m\u001b[1m\u001b[36mINFO: \u001b[39m\u001b[22m\u001b[36mUpdating cache of Nullables...\n",
      "\u001b[39m\u001b[1m\u001b[36mINFO: \u001b[39m\u001b[22m\u001b[36mUpdating cache of URIParser...\n",
      "\u001b[39m\u001b[1m\u001b[36mINFO: \u001b[39m\u001b[22m\u001b[36mUpdating cache of LineSearches...\n",
      "\u001b[39m\u001b[1m\u001b[36mINFO: \u001b[39m\u001b[22m\u001b[36mUpdating cache of Roots...\n",
      "\u001b[39m\u001b[1m\u001b[36mINFO: \u001b[39m\u001b[22m\u001b[36mUpdating cache of WebSockets...\n",
      "\u001b[39m\u001b[1m\u001b[36mINFO: \u001b[39m\u001b[22m\u001b[36mUpdating cache of IteratorInterfaceExtensions...\n",
      "\u001b[39m\u001b[1m\u001b[36mINFO: \u001b[39m\u001b[22m\u001b[36mUpdating cache of HttpParser...\n",
      "\u001b[39m\u001b[1m\u001b[36mINFO: \u001b[39m\u001b[22m\u001b[36mUpdating cache of DataFrames...\n",
      "\u001b[39m\u001b[1m\u001b[36mINFO: \u001b[39m\u001b[22m\u001b[36mUpdating cache of Distributions...\n",
      "\u001b[39m\u001b[1m\u001b[36mINFO: \u001b[39m\u001b[22m\u001b[36mUpdating cache of NaNMath...\n",
      "\u001b[39m\u001b[1m\u001b[36mINFO: \u001b[39m\u001b[22m\u001b[36mUpdating cache of Rmath...\n",
      "\u001b[39m\u001b[1m\u001b[36mINFO: \u001b[39m\u001b[22m\u001b[36mUpdating cache of DiffRules...\n",
      "\u001b[39m\u001b[1m\u001b[36mINFO: \u001b[39m\u001b[22m\u001b[36mUpdating cache of QuantEcon...\n",
      "\u001b[39m\u001b[1m\u001b[36mINFO: \u001b[39m\u001b[22m\u001b[36mUpdating cache of FFTW...\n",
      "\u001b[39m\u001b[1m\u001b[36mINFO: \u001b[39m\u001b[22m\u001b[36mUpdating cache of ForwardDiff...\n",
      "\u001b[39m\u001b[1m\u001b[36mINFO: \u001b[39m\u001b[22m\u001b[36mUpdating cache of PlotlyJS...\n",
      "\u001b[39m\u001b[1m\u001b[36mINFO: \u001b[39m\u001b[22m\u001b[36mUpdating cache of SimpleTraits...\n",
      "\u001b[39m\u001b[1m\u001b[36mINFO: \u001b[39m\u001b[22m\u001b[36mUpdating cache of Conda...\n",
      "\u001b[39m\u001b[1m\u001b[36mINFO: \u001b[39m\u001b[22m\u001b[36mUpdating cache of WeakRefStrings...\n",
      "\u001b[39m\u001b[1m\u001b[36mINFO: \u001b[39m\u001b[22m\u001b[36mUpdating cache of DataStreams...\n",
      "\u001b[39m\u001b[1m\u001b[36mINFO: \u001b[39m\u001b[22m\u001b[36mUpdating cache of LightGraphs...\n",
      "\u001b[39m\u001b[1m\u001b[36mINFO: \u001b[39m\u001b[22m\u001b[36mUpdating cache of HttpCommon...\n",
      "\u001b[39m\u001b[1m\u001b[36mINFO: \u001b[39m\u001b[22m\u001b[36mUpdating cache of Ratios...\n",
      "\u001b[39m\u001b[1m\u001b[36mINFO: \u001b[39m\u001b[22m\u001b[36mUpdating cache of RecipesBase...\n",
      "\u001b[39m\u001b[1m\u001b[36mINFO: \u001b[39m\u001b[22m\u001b[36mUpdating cache of FixedPointNumbers...\n",
      "\u001b[39m\u001b[1m\u001b[36mINFO: \u001b[39m\u001b[22m\u001b[36mUpdating cache of FileIO...\n",
      "\u001b[39m\u001b[1m\u001b[36mINFO: \u001b[39m\u001b[22m\u001b[36mUpdating cache of DSP...\n",
      "\u001b[39m\u001b[1m\u001b[36mINFO: \u001b[39m\u001b[22m\u001b[36mUpdating cache of Compat...\n",
      "\u001b[39m\u001b[1m\u001b[36mINFO: \u001b[39m\u001b[22m\u001b[36mUpdating cache of Mux...\n",
      "\u001b[39m\u001b[1m\u001b[36mINFO: \u001b[39m\u001b[22m\u001b[36mUpdating cache of SHA...\n",
      "\u001b[39m\u001b[1m\u001b[36mINFO: \u001b[39m\u001b[22m\u001b[36mUpdating cache of JSON...\n",
      "\u001b[39m\u001b[1m\u001b[36mINFO: \u001b[39m\u001b[22m\u001b[36mUpdating cache of WoodburyMatrices...\n",
      "\u001b[39m\u001b[1m\u001b[36mINFO: \u001b[39m\u001b[22m\u001b[36mUpdating cache of PyPlot...\n",
      "\u001b[39m\u001b[1m\u001b[36mINFO: \u001b[39m\u001b[22m\u001b[36mUpdating cache of Homebrew...\n",
      "\u001b[39m\u001b[1m\u001b[36mINFO: \u001b[39m\u001b[22m\u001b[36mUpdating cache of Primes...\n",
      "\u001b[39m\u001b[1m\u001b[36mINFO: \u001b[39m\u001b[22m\u001b[36mUpdating cache of Missings...\n",
      "\u001b[39m\u001b[1m\u001b[36mINFO: \u001b[39m\u001b[22m\u001b[36mUpdating cache of StaticArrays...\n",
      "\u001b[39m\u001b[1m\u001b[36mINFO: \u001b[39m\u001b[22m\u001b[36mUpdating cache of Parameters...\n",
      "\u001b[39m\u001b[1m\u001b[36mINFO: \u001b[39m\u001b[22m\u001b[36mUpdating cache of Interpolations...\n",
      "\u001b[39m\u001b[1m\u001b[36mINFO: \u001b[39m\u001b[22m\u001b[36mUpdating cache of Codecs...\n",
      "\u001b[39m\u001b[1m\u001b[36mINFO: \u001b[39m\u001b[22m\u001b[36mUpdating cache of GZip...\n",
      "\u001b[39m\u001b[1m\u001b[36mINFO: \u001b[39m\u001b[22m\u001b[36mUpdating cache of StatsFuns...\n",
      "\u001b[39m\u001b[1m\u001b[36mINFO: \u001b[39m\u001b[22m\u001b[36mUpdating cache of TranscodingStreams...\n",
      "\u001b[39m\u001b[1m\u001b[36mINFO: \u001b[39m\u001b[22m\u001b[36mUpdating cache of KernelDensity...\n",
      "\u001b[39m\u001b[1m\u001b[36mINFO: \u001b[39m\u001b[22m\u001b[36mUpdating cache of HDF5...\n",
      "\u001b[39m\u001b[1m\u001b[36mINFO: \u001b[39m\u001b[22m\u001b[36mUpdating cache of NLSolversBase...\n",
      "\u001b[39m\u001b[1m\u001b[36mINFO: \u001b[39m\u001b[22m\u001b[36mUpdating cache of QuadGK...\n",
      "\u001b[39m\u001b[1m\u001b[36mINFO: \u001b[39m\u001b[22m\u001b[36mUpdating cache of Reexport...\n",
      "\u001b[39m\u001b[1m\u001b[36mINFO: \u001b[39m\u001b[22m\u001b[36mUpdating cache of Mustache...\n",
      "\u001b[39m\u001b[1m\u001b[36mINFO: \u001b[39m\u001b[22m\u001b[36mUpdating cache of NLopt...\n",
      "\u001b[39m\u001b[1m\u001b[36mINFO: \u001b[39m\u001b[22m\u001b[36mUpdating cache of Colors...\n",
      "\u001b[39m\u001b[1m\u001b[36mINFO: \u001b[39m\u001b[22m\u001b[36mUpdating cache of LegacyStrings...\n",
      "\u001b[39m\u001b[1m\u001b[36mINFO: \u001b[39m\u001b[22m\u001b[36mUpdating cache of DataStructures...\n",
      "\u001b[39m\u001b[1m\u001b[36mINFO: \u001b[39m\u001b[22m\u001b[36mUpdating cache of SymPy...\n",
      "\u001b[39m\u001b[1m\u001b[36mINFO: \u001b[39m\u001b[22m\u001b[36mUpdating cache of Showoff...\n",
      "\u001b[39m\u001b[1m\u001b[36mINFO: \u001b[39m\u001b[22m\u001b[36mUpdating cache of IterableTables...\n",
      "\u001b[39m\u001b[1m\u001b[36mINFO: \u001b[39m\u001b[22m\u001b[36mUpdating cache of Optim...\n",
      "\u001b[39m\u001b[1m\u001b[36mINFO: \u001b[39m\u001b[22m\u001b[36mUpdating cache of SortingAlgorithms...\n",
      "\u001b[39m\u001b[1m\u001b[36mINFO: \u001b[39m\u001b[22m\u001b[36mUpdating cache of PyCall...\n",
      "\u001b[39m\u001b[1m\u001b[36mINFO: \u001b[39m\u001b[22m\u001b[36mUpdating cache of BinaryProvider...\n",
      "\u001b[39m\u001b[1m\u001b[36mINFO: \u001b[39m\u001b[22m\u001b[36mUpdating cache of DSGE...\n",
      "\u001b[39m\u001b[1m\u001b[36mINFO: \u001b[39m\u001b[22m\u001b[36mUpdating cache of Calculus...\n",
      "\u001b[39m\u001b[1m\u001b[36mINFO: \u001b[39m\u001b[22m\u001b[36mUpdating cache of MathProgBase...\n",
      "\u001b[39m\u001b[1m\u001b[36mINFO: \u001b[39m\u001b[22m\u001b[36mUpdating cache of SpecialFunctions...\n",
      "\u001b[39m\u001b[1m\u001b[36mINFO: \u001b[39m\u001b[22m\u001b[36mUpdating cache of PlotThemes...\n",
      "\u001b[39m\u001b[1m\u001b[36mINFO: \u001b[39m\u001b[22m\u001b[36mUpdating cache of PDMats...\n",
      "\u001b[39m\u001b[1m\u001b[36mINFO: \u001b[39m\u001b[22m\u001b[36mUpdating cache of DocStringExtensions...\n",
      "\u001b[39m\u001b[1m\u001b[36mINFO: \u001b[39m\u001b[22m\u001b[36mUpdating cache of TableTraitsUtils...\n",
      "\u001b[39m\u001b[1m\u001b[36mINFO: \u001b[39m\u001b[22m\u001b[36mUpdating cache of PositiveFactorizations...\n",
      "\u001b[39m\u001b[1m\u001b[36mINFO: \u001b[39m\u001b[22m\u001b[36mUpdating cache of LaTeXStrings...\n",
      "\u001b[39m\u001b[1m\u001b[36mINFO: \u001b[39m\u001b[22m\u001b[36mUpdating cache of DualNumbers...\n",
      "\u001b[39m\u001b[1m\u001b[36mINFO: \u001b[39m\u001b[22m\u001b[36mUpdating cache of CSV...\n",
      "\u001b[39m\u001b[1m\u001b[36mINFO: \u001b[39m\u001b[22m\u001b[36mUpdating cache of Hiccup...\n",
      "\u001b[39m\u001b[1m\u001b[36mINFO: \u001b[39m\u001b[22m\u001b[36mComputing changes...\n",
      "\u001b[39m\u001b[1m\u001b[33mWARNING: \u001b[39m\u001b[22m\u001b[33mStateSpaceRoutines is fixed at 0.1.0 conflicting with requirement for DSGE: [0.0.1,0.1.0)\u001b[39m\n"
     ]
    },
    {
     "ename": "LoadError",
     "evalue": "\u001b[91mfixed packages introduce conflicting requirements for Compat: \n         Libz requires versions [0.17.0,∞)\n         ForwardDiff requires versions [0.47.0,∞)\n         FredData requires versions [0.7.9,∞)\n         DSP requires versions [0.32.0,∞)\n         ZMQ requires versions [0.27.0,∞)\n         NullableArrays requires versions [0.19.0,∞)\n         SymPy requires versions [0.33.0,∞)\n         DataStructures requires versions [0.41.0,∞)\n         CategoricalArrays requires versions [0.19.0,∞)\n         Calculus requires versions [0.17.0,∞)\n         GZip requires versions [0.9.5,∞)\n         Measures requires versions [0.18.0,∞)\n         StatsFuns requires versions [0.9.1,∞)\n         HttpParser requires versions [0.7.20,∞)\n         Requests requires versions [0.9.5,∞)\n         DataFrames requires versions [0.18.0,∞)\n         SpecialFunctions requires versions [0.41.0,∞)\n         TranscodingStreams requires versions [0.55.0,∞)\n         Showoff requires versions [0.18.0,∞)\n         Distributions requires versions [0.32.0,∞)\n         Mux requires versions [0.7.9,∞)\n         Primes requires versions [0.30.0,∞)\n         DualNumbers requires versions [0.9.1,∞)\n         Missings requires versions [0.45.0,∞)\n         KernelDensity requires versions [0.17.0,∞)\n         HDF5 requires versions [0.32.0,∞)\n         BufferedStreams requires versions [0.0.0-,∞)\n         Polynomials requires versions [0.48.0,∞)\n         MbedTLS requires versions [0.52.0,∞)\n         FileIO requires versions [0.28.0,∞)\n         HttpServer requires versions [0.17.0,∞)\n         Contour requires versions [0.9.4,∞)\n         CSV requires versions [0.9.5,∞)\n         PDMats requires versions [0.33.0,∞)\n         Optim requires versions [0.18.0,∞)\n         SortingAlgorithms requires versions [0.9.4,∞)\n         SimpleTraits requires versions [0.26.0,∞)\n         Hiccup requires versions [0.8.2,∞)\n         WoodburyMatrices requires versions [0.7.19,∞)\n         StatsBase requires versions [0.39.0,0.55.0)\n         IJulia requires versions [0.41.0,∞)\n         DocStringExtensions requires versions [0.33.0,∞)\n         QuadGK requires versions [0.61.0,∞)\n         StaticArrays requires versions [0.46.0,∞)\n         PositiveFactorizations requires versions [0.12.0,∞)\n         Mustache requires versions [0.7.18,∞)\n         DataStreams requires versions [0.17.0,∞)\n         JLD requires versions [0.32.0,∞)\n         Rmath requires versions [0.48.0,∞)\n         Interpolations requires versions [0.19.0,∞)\n         BinaryProvider requires versions [0.55.0,∞)\n         DiffResults requires versions [0.45.0,∞)\n         Roots requires versions [0.33.0,∞)\n         NLopt requires versions [0.8.0,∞)\n         Blink requires versions [0.8.6,∞)\n         WebSockets requires versions [0.28.0,∞)\n         Codecs requires versions [0.27.0,∞)\n         QuantEcon requires versions [0.18.0,∞)\n         FFTW requires versions [0.27.0,∞)\n       the requirements are unsatisfiable because their intersection is empty\u001b[39m",
     "output_type": "error",
     "traceback": [
      "\u001b[91mfixed packages introduce conflicting requirements for Compat: \n         Libz requires versions [0.17.0,∞)\n         ForwardDiff requires versions [0.47.0,∞)\n         FredData requires versions [0.7.9,∞)\n         DSP requires versions [0.32.0,∞)\n         ZMQ requires versions [0.27.0,∞)\n         NullableArrays requires versions [0.19.0,∞)\n         SymPy requires versions [0.33.0,∞)\n         DataStructures requires versions [0.41.0,∞)\n         CategoricalArrays requires versions [0.19.0,∞)\n         Calculus requires versions [0.17.0,∞)\n         GZip requires versions [0.9.5,∞)\n         Measures requires versions [0.18.0,∞)\n         StatsFuns requires versions [0.9.1,∞)\n         HttpParser requires versions [0.7.20,∞)\n         Requests requires versions [0.9.5,∞)\n         DataFrames requires versions [0.18.0,∞)\n         SpecialFunctions requires versions [0.41.0,∞)\n         TranscodingStreams requires versions [0.55.0,∞)\n         Showoff requires versions [0.18.0,∞)\n         Distributions requires versions [0.32.0,∞)\n         Mux requires versions [0.7.9,∞)\n         Primes requires versions [0.30.0,∞)\n         DualNumbers requires versions [0.9.1,∞)\n         Missings requires versions [0.45.0,∞)\n         KernelDensity requires versions [0.17.0,∞)\n         HDF5 requires versions [0.32.0,∞)\n         BufferedStreams requires versions [0.0.0-,∞)\n         Polynomials requires versions [0.48.0,∞)\n         MbedTLS requires versions [0.52.0,∞)\n         FileIO requires versions [0.28.0,∞)\n         HttpServer requires versions [0.17.0,∞)\n         Contour requires versions [0.9.4,∞)\n         CSV requires versions [0.9.5,∞)\n         PDMats requires versions [0.33.0,∞)\n         Optim requires versions [0.18.0,∞)\n         SortingAlgorithms requires versions [0.9.4,∞)\n         SimpleTraits requires versions [0.26.0,∞)\n         Hiccup requires versions [0.8.2,∞)\n         WoodburyMatrices requires versions [0.7.19,∞)\n         StatsBase requires versions [0.39.0,0.55.0)\n         IJulia requires versions [0.41.0,∞)\n         DocStringExtensions requires versions [0.33.0,∞)\n         QuadGK requires versions [0.61.0,∞)\n         StaticArrays requires versions [0.46.0,∞)\n         PositiveFactorizations requires versions [0.12.0,∞)\n         Mustache requires versions [0.7.18,∞)\n         DataStreams requires versions [0.17.0,∞)\n         JLD requires versions [0.32.0,∞)\n         Rmath requires versions [0.48.0,∞)\n         Interpolations requires versions [0.19.0,∞)\n         BinaryProvider requires versions [0.55.0,∞)\n         DiffResults requires versions [0.45.0,∞)\n         Roots requires versions [0.33.0,∞)\n         NLopt requires versions [0.8.0,∞)\n         Blink requires versions [0.8.6,∞)\n         WebSockets requires versions [0.28.0,∞)\n         Codecs requires versions [0.27.0,∞)\n         QuantEcon requires versions [0.18.0,∞)\n         FFTW requires versions [0.27.0,∞)\n       the requirements are unsatisfiable because their intersection is empty\u001b[39m",
      "",
      "Stacktrace:",
      " [1] \u001b[1mcheck_requirements\u001b[22m\u001b[22m\u001b[1m(\u001b[22m\u001b[22m::Dict{String,Base.Pkg.Types.VersionSet}, ::Dict{String,Dict{VersionNumber,Base.Pkg.Types.Available}}, ::Dict{String,Base.Pkg.Types.Fixed}\u001b[1m)\u001b[22m\u001b[22m at \u001b[1m./pkg/query.jl:222\u001b[22m\u001b[22m",
      " [2] \u001b[1mresolve\u001b[22m\u001b[22m\u001b[1m(\u001b[22m\u001b[22m::Dict{String,Base.Pkg.Types.VersionSet}, ::Dict{String,Dict{VersionNumber,Base.Pkg.Types.Available}}, ::Dict{String,Tuple{VersionNumber,Bool}}, ::Dict{String,Base.Pkg.Types.Fixed}, ::Dict{String,VersionNumber}, ::Set{String}\u001b[1m)\u001b[22m\u001b[22m at \u001b[1m./pkg/entry.jl:496\u001b[22m\u001b[22m",
      " [3] \u001b[1mupdate\u001b[22m\u001b[22m\u001b[1m(\u001b[22m\u001b[22m::String, ::Set{String}\u001b[1m)\u001b[22m\u001b[22m at \u001b[1m./pkg/entry.jl:461\u001b[22m\u001b[22m",
      " [4] \u001b[1m(::Base.Pkg.Dir.##4#7{Array{Any,1},Base.Pkg.Entry.#update,Tuple{String,Set{String}}})\u001b[22m\u001b[22m\u001b[1m(\u001b[22m\u001b[22m\u001b[1m)\u001b[22m\u001b[22m at \u001b[1m./pkg/dir.jl:36\u001b[22m\u001b[22m",
      " [5] \u001b[1mcd\u001b[22m\u001b[22m\u001b[1m(\u001b[22m\u001b[22m::Base.Pkg.Dir.##4#7{Array{Any,1},Base.Pkg.Entry.#update,Tuple{String,Set{String}}}, ::String\u001b[1m)\u001b[22m\u001b[22m at \u001b[1m./file.jl:70\u001b[22m\u001b[22m",
      " [6] \u001b[1m#cd#1\u001b[22m\u001b[22m\u001b[1m(\u001b[22m\u001b[22m::Array{Any,1}, ::Function, ::Function, ::String, ::Vararg{Any,N} where N\u001b[1m)\u001b[22m\u001b[22m at \u001b[1m./pkg/dir.jl:36\u001b[22m\u001b[22m",
      " [7] \u001b[1mupdate\u001b[22m\u001b[22m\u001b[1m(\u001b[22m\u001b[22m::String, ::Vararg{String,N} where N\u001b[1m)\u001b[22m\u001b[22m at \u001b[1m./pkg/pkg.jl:228\u001b[22m\u001b[22m",
      " [8] \u001b[1minclude_string\u001b[22m\u001b[22m\u001b[1m(\u001b[22m\u001b[22m::String, ::String\u001b[1m)\u001b[22m\u001b[22m at \u001b[1m./loading.jl:522\u001b[22m\u001b[22m"
     ]
    }
   ],
   "source": [
    "Pkg.update(\"PyPlot\")"
   ]
  },
  {
   "cell_type": "code",
   "execution_count": 14,
   "metadata": {},
   "outputs": [],
   "source": [
    "using PyPlot\n",
    "x = linspace(0, 10, 200)\n",
    "y = sin.(x);"
   ]
  },
  {
   "cell_type": "code",
   "execution_count": 13,
   "metadata": {},
   "outputs": [
    {
     "ename": "LoadError",
     "evalue": "\u001b[91mUndefVarError: plot not defined\u001b[39m",
     "output_type": "error",
     "traceback": [
      "\u001b[91mUndefVarError: plot not defined\u001b[39m",
      "",
      "Stacktrace:",
      " [1] \u001b[1minclude_string\u001b[22m\u001b[22m\u001b[1m(\u001b[22m\u001b[22m::String, ::String\u001b[1m)\u001b[22m\u001b[22m at \u001b[1m./loading.jl:522\u001b[22m\u001b[22m"
     ]
    }
   ],
   "source": [
    "plot(x, y, \"b-\", linewidth=2)"
   ]
  },
  {
   "cell_type": "code",
   "execution_count": null,
   "metadata": {
    "collapsed": true
   },
   "outputs": [],
   "source": []
  }
 ],
 "metadata": {
  "kernelspec": {
   "display_name": "Julia 0.6.1",
   "language": "julia",
   "name": "julia-0.6"
  },
  "language_info": {
   "file_extension": ".jl",
   "mimetype": "application/julia",
   "name": "julia",
   "version": "0.6.1"
  }
 },
 "nbformat": 4,
 "nbformat_minor": 2
}
